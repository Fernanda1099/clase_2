{
  "cells": [
    {
      "cell_type": "markdown",
      "metadata": {
        "id": "qsrFhT1FTzDM"
      },
      "source": [
        "# Clase 2\n",
        "## En la clase 1 discutimos datos, operadores y métodos. Esta semana discutiremos algunas otras habilidades esenciales que le dan el poder de implementar sus ideas con Python:\n",
        "* ### Declaraciones condicionales que permiten controlar el flujo de su programa\n",
        "* ### Bucles que permiten reutilizar instrucciones, sin tener que copiarlas"
      ]
    },
    {
      "cell_type": "code",
      "source": [
        ""
      ],
      "metadata": {
        "id": "StuUp52Y1mzK"
      },
      "execution_count": null,
      "outputs": []
    },
    {
      "cell_type": "markdown",
      "metadata": {
        "id": "P63AwtXFTzDU"
      },
      "source": [
        "## De ahora en adelante comenzaremos cada lección con un programa de ejemplo. Los programas de ejemplo le mostrarán las nuevas ideas para esa semana.\n",
        "\n",
        "* ### En los cuadernos estos ejemplos se llamarán programas de ejemplo\n",
        "* ### En el programa de ejemplo de esta semana aprenderemos: Cómo leer y escribir archivos\n",
        "  * #### con comandos elementales como open(), close() y write(), mientras lee con un bucle for\n",
        "  * #### Cómo crear, leer y escribir (en) una base de datos, usamos Sqlite para esta tarea. Sqlite es una biblioteca estándar de Python\n",
        "  * #### Hay otras formas de almacenar y recuperar datos, y algunas las veremos en lecciones posteriores, pero ya hacen posible escribir programas serios"
      ]
    },
    {
      "cell_type": "markdown",
      "metadata": {
        "id": "fxWfmS7eTzDV"
      },
      "source": [
        "# Literatura para la semana 2\n",
        "* ## La biblioteca random [https://docs.python.org/3/library/random.html](https://docs.python.org/3/library/random.html)\n",
        "* ## Desde [https://docs.python.org/3/tutorial/index.html](https://docs.python.org/3/tutorial/index.html) capítulo 4 hasta 4.5\n",
        "* ## [https://www.w3schools.com/python/python_while_loops.asp](https://www.w3schools.com/python/python_while_loops.asp)\n",
        "* ## [https://www.pythonforbeginners.com/cheatsheet/python-file-handling](https://www.pythonforbeginners.com/cheatsheet/python-file-handling)\n",
        "* ## Sqlite\n",
        "  * ### [https://docs.python.org/3/library/sqlite3.html](https://docs.python.org/3/library/sqlite3.html), hasta 'Ver también'\n",
        "  * ### [https://www.w3schools.com/sql/default.asp](https://www.w3schools.com/sql/default.asp), esta página y mire la columna de la izquierda y estudie las siguientes declaraciones Select, Where, Insert into, Update, Delete, Create DB, Create Table, Drop Table "
      ]
    },
    {
      "cell_type": "markdown",
      "metadata": {
        "id": "wubvuTTOTzDW"
      },
      "source": [
        "# Temas para la clase 2\n",
        "* ## Programa de ejemplo: La programación del juego de adivinanzas contiene todos los temas que tratamos esta semana. Dependiendo de lo que funcione mejor para usted, puede estudiar este ejemplo al principio o al final del material de esta semana. Será discutido en un video separado.\n",
        "* ## Declaraciones condicionales\n",
        "  * ### If\n",
        "  * ### else\n",
        "  * ### elif\n",
        "* ## Bucles\n",
        "  * ### For-loops, para iterar sobre una secuencia (por ejemplo, una colección)\n",
        "  * ### while-loops\n",
        "* ## Atajos\n",
        "  * ### Expresiones condicionales, para reemplazar sentencias condicionales\n",
        "  * ### Comprensiones, para reemplazar for-loops"
      ]
    },
    {
      "cell_type": "markdown",
      "metadata": {
        "id": "Z_7-dRfiTzDW"
      },
      "source": [
        "# Programa de ejemplo: El juego de adivinanzas\n",
        "## Escribiremos un juego que le pida al usuario que adivine un número conocido por la computadora. El programa le dará retroalimentación al usuario, ya sea que el usuario adivinó demasiado, demasiado o exactamente bien. Cuando el usuario acertó, el programa elogia al usuario y se detiene."
      ]
    },
    {
      "cell_type": "code",
      "execution_count": null,
      "metadata": {
        "id": "MZE_YPN2TzDX",
        "outputId": "72d96dbd-1014-4cf2-b1ca-70b154aedccd"
      },
      "outputs": [
        {
          "name": "stdout",
          "output_type": "stream",
          "text": [
            "Adivina un numero entre 1 y 100040\n"
          ]
        },
        {
          "ename": "TypeError",
          "evalue": "'>' not supported between instances of 'str' and 'int'",
          "output_type": "error",
          "traceback": [
            "\u001b[1;31m---------------------------------------------------------------------------\u001b[0m",
            "\u001b[1;31mTypeError\u001b[0m                                 Traceback (most recent call last)",
            "\u001b[1;32m<ipython-input-1-fbeee3196b94>\u001b[0m in \u001b[0;36m<module>\u001b[1;34m\u001b[0m\n\u001b[0;32m      8\u001b[0m \u001b[0mguesses\u001b[0m \u001b[1;33m+=\u001b[0m \u001b[1;36m1\u001b[0m\u001b[1;33m\u001b[0m\u001b[1;33m\u001b[0m\u001b[0m\n\u001b[0;32m      9\u001b[0m \u001b[1;32mwhile\u001b[0m \u001b[0mguess\u001b[0m \u001b[1;33m!=\u001b[0m \u001b[0mtarget\u001b[0m\u001b[1;33m:\u001b[0m\u001b[1;33m\u001b[0m\u001b[1;33m\u001b[0m\u001b[0m\n\u001b[1;32m---> 10\u001b[1;33m     \u001b[1;32mif\u001b[0m \u001b[0mguess\u001b[0m \u001b[1;33m>\u001b[0m \u001b[0mtarget\u001b[0m\u001b[1;33m:\u001b[0m\u001b[1;33m\u001b[0m\u001b[1;33m\u001b[0m\u001b[0m\n\u001b[0m\u001b[0;32m     11\u001b[0m         \u001b[0mupper_bound\u001b[0m \u001b[1;33m=\u001b[0m \u001b[0mmin\u001b[0m\u001b[1;33m(\u001b[0m\u001b[0mupper_bound\u001b[0m\u001b[1;33m,\u001b[0m \u001b[0mguess\u001b[0m \u001b[1;33m-\u001b[0m \u001b[1;36m1\u001b[0m\u001b[1;33m)\u001b[0m\u001b[1;33m\u001b[0m\u001b[1;33m\u001b[0m\u001b[0m\n\u001b[0;32m     12\u001b[0m         \u001b[0mguess\u001b[0m \u001b[1;33m=\u001b[0m \u001b[0minput\u001b[0m\u001b[1;33m(\u001b[0m\u001b[1;34mf\"Muy alto, por favor intenta otra vez, un numero entre {lower_bound} y {upper_bound}\"\u001b[0m\u001b[1;33m)\u001b[0m\u001b[1;33m\u001b[0m\u001b[1;33m\u001b[0m\u001b[0m\n",
            "\u001b[1;31mTypeError\u001b[0m: '>' not supported between instances of 'str' and 'int'"
          ]
        }
      ],
      "source": [
        "target = 477\n",
        "lower_bound = 1\n",
        "upper_bound = 1000\n",
        "guesses = 0\n",
        "\n",
        "# LA funcion input nos permite dar un numero al codigo que esta siendo ejecutado\n",
        "guess = input(f\"Adivina un numero entre {lower_bound} y {upper_bound}\")\n",
        "guesses += 1\n",
        "while guess != target:\n",
        "    if guess > target:\n",
        "        upper_bound = min(upper_bound, guess - 1)\n",
        "        guess = input(f\"Muy alto, por favor intenta otra vez, un numero entre {lower_bound} y {upper_bound}\")\n",
        "    else:\n",
        "        lower_bound = max(lower_bound, guess + 1)\n",
        "        guess = input(f\"Muy bajo, por favor intenta otra vez, un numero entre  {lower_bound} and {upper_bound}\")\n",
        "    guesses += 1\n",
        "        \n",
        "print(f\"Bien hecho,solo te tomaron {guesses} intentos.\")    "
      ]
    },
    {
      "cell_type": "markdown",
      "metadata": {
        "id": "x_PKkRJ_TzDc"
      },
      "source": [
        "### Algo salió mal, al leer el mensaje de error concluiríamos que el objetivo o el intento es una cadena.\n",
        "### Así que ponemos un print statement justo antes de comparar, adivinar y apuntar para ver cuál de los dos es una cadena\n",
        "### Aunque hay algunas formas muy avanzadas de encontrar errores, es bastante común simplemente imprimir valores y tipos"
      ]
    },
    {
      "cell_type": "code",
      "execution_count": null,
      "metadata": {
        "id": "rPiv4_ZKTzDf",
        "outputId": "5ed4f20e-2c6b-46cb-8301-586217702038"
      },
      "outputs": [
        {
          "name": "stdout",
          "output_type": "stream",
          "text": [
            "Guess a number between 1 and 100070\n",
            "70 <class 'str'>\n",
            "477 <class 'int'>\n"
          ]
        },
        {
          "ename": "TypeError",
          "evalue": "'>' not supported between instances of 'str' and 'int'",
          "output_type": "error",
          "traceback": [
            "\u001b[1;31m---------------------------------------------------------------------------\u001b[0m",
            "\u001b[1;31mTypeError\u001b[0m                                 Traceback (most recent call last)",
            "\u001b[1;32m<ipython-input-2-6068f82543c9>\u001b[0m in \u001b[0;36m<module>\u001b[1;34m\u001b[0m\n\u001b[0;32m     10\u001b[0m     \u001b[0mprint\u001b[0m\u001b[1;33m(\u001b[0m\u001b[0mguess\u001b[0m\u001b[1;33m,\u001b[0m \u001b[0mtype\u001b[0m\u001b[1;33m(\u001b[0m\u001b[0mguess\u001b[0m\u001b[1;33m)\u001b[0m\u001b[1;33m)\u001b[0m\u001b[1;33m\u001b[0m\u001b[1;33m\u001b[0m\u001b[0m\n\u001b[0;32m     11\u001b[0m     \u001b[0mprint\u001b[0m\u001b[1;33m(\u001b[0m\u001b[0mtarget\u001b[0m\u001b[1;33m,\u001b[0m \u001b[0mtype\u001b[0m\u001b[1;33m(\u001b[0m\u001b[0mtarget\u001b[0m\u001b[1;33m)\u001b[0m\u001b[1;33m)\u001b[0m\u001b[1;33m\u001b[0m\u001b[1;33m\u001b[0m\u001b[0m\n\u001b[1;32m---> 12\u001b[1;33m     \u001b[1;32mif\u001b[0m \u001b[0mguess\u001b[0m \u001b[1;33m>\u001b[0m \u001b[0mtarget\u001b[0m\u001b[1;33m:\u001b[0m\u001b[1;33m\u001b[0m\u001b[1;33m\u001b[0m\u001b[0m\n\u001b[0m\u001b[0;32m     13\u001b[0m         \u001b[0mupper_bound\u001b[0m \u001b[1;33m=\u001b[0m \u001b[0mmin\u001b[0m\u001b[1;33m(\u001b[0m\u001b[0mupper_bound\u001b[0m\u001b[1;33m,\u001b[0m \u001b[0mguess\u001b[0m \u001b[1;33m-\u001b[0m \u001b[1;36m1\u001b[0m\u001b[1;33m)\u001b[0m\u001b[1;33m\u001b[0m\u001b[1;33m\u001b[0m\u001b[0m\n\u001b[0;32m     14\u001b[0m         \u001b[0mguess\u001b[0m \u001b[1;33m=\u001b[0m \u001b[0minput\u001b[0m\u001b[1;33m(\u001b[0m\u001b[1;34mf\"You guessed too high, guess a number between {lower_bound} and {upper_bound}\"\u001b[0m\u001b[1;33m)\u001b[0m\u001b[1;33m\u001b[0m\u001b[1;33m\u001b[0m\u001b[0m\n",
            "\u001b[1;31mTypeError\u001b[0m: '>' not supported between instances of 'str' and 'int'"
          ]
        }
      ],
      "source": [
        "target = 477\n",
        "lower_bound = 1\n",
        "upper_bound = 1000\n",
        "guesses = 0\n",
        "\n",
        "# The input functions puts the parameter on the screen and reguesses what is entered by the user \n",
        "guess = input(f\"Guess a number between {lower_bound} and {upper_bound}\")\n",
        "guesses += 1\n",
        "while guess != target:\n",
        "    print(guess, type(guess))\n",
        "    print(target, type(target))\n",
        "    if guess > target:\n",
        "        upper_bound = min(upper_bound, guess - 1)\n",
        "        guess = input(f\"You guessed too high, guess a number between {lower_bound} and {upper_bound}\")\n",
        "    else:\n",
        "        lower_bound = max(lower_bound, guess + 1)\n",
        "        guess = input(f\"You guessed too low, guess a number between {lower_bound} and {upper_bound}\")\n",
        "    guesses += 1\n",
        "        \n",
        "print(f\"Well done it only took you {guesses} guesses.\")    "
      ]
    },
    {
      "cell_type": "markdown",
      "metadata": {
        "id": "uuOfAgZXTzDg"
      },
      "source": [
        "### Al parecer el uso de la funcion intut requiere que nuestro objeto sea un entero."
      ]
    },
    {
      "cell_type": "code",
      "execution_count": null,
      "metadata": {
        "id": "_VQ7BP_uTzDg",
        "outputId": "064d6e1d-ebca-4602-c2c7-64a31da7d6f9"
      },
      "outputs": [
        {
          "name": "stdout",
          "output_type": "stream",
          "text": [
            "Guess a number between 1 and 100070\n",
            "You guessed too low, guess a number between 71 and 1000477\n",
            "Well done it only took you 2 guesses.\n"
          ]
        }
      ],
      "source": [
        "target = 477\n",
        "lower_bound = 1\n",
        "upper_bound = 1000\n",
        "guesses = 0\n",
        "\n",
        "# The input functions puts the parameter on the screen and reguesses what is entered by the user \n",
        "guess = int(input(f\"Guess a number between {lower_bound} and {upper_bound}\"))\n",
        "guesses += 1\n",
        "while guess != target:\n",
        "    # We leave the print statements as comments, maybe we need them more often during testing\n",
        "    # As soon as we are 100% sure about our program we delete these debugging statements\n",
        "    # print(guess, type(guess))\n",
        "    # print(target, type(target))\n",
        "\n",
        "    if guess > target:\n",
        "        upper_bound = min(upper_bound, guess - 1)\n",
        "        guess = int(input(f\"You guessed too high, guess a number between {lower_bound} and {upper_bound}\"))\n",
        "    else:\n",
        "        lower_bound= max(lower_bound, guess + 1)\n",
        "        guess = int(input(f\"You guessed too low, guess a number between {lower_bound} and {upper_bound}\"))\n",
        "    guesses += 1\n",
        "    \n",
        "print (f\"Well done it only took you {guesses} guesses.\")    "
      ]
    },
    {
      "cell_type": "markdown",
      "metadata": {
        "id": "ZlbNY2t6TzDh"
      },
      "source": [
        "### Por supuesto, el juego es un poco aburrido si siempre es el mismo número que tienes que adivinar, entonces, ¿qué tal si usas un número aleatorio?\n",
        "### El módulo random debe importarse y luego podemos usarlo para generar un número entero aleatorio"
      ]
    },
    {
      "cell_type": "code",
      "execution_count": null,
      "metadata": {
        "id": "KwJUY5GvTzDi"
      },
      "outputs": [],
      "source": [
        "import random\n",
        "# Vemos el seed the random generator.Al usar esto no importa en donde el numero random sera el mismo siempre\n",
        "\n",
        "random.seed(100)\n",
        "target = random.randint(1, 1000)\n",
        "# Vamos a ayudarnos un poco para no tener que intentar mucho timepo\n",
        "print(target)\n",
        "\n",
        "guesses = 0\n",
        "lower_bound = 1\n",
        "upper_bound = 1000\n",
        "\n",
        " \n",
        "guess = int(input(f\"Guess a number between {lower_bound} and {upper_bound}\"))\n",
        "guesses += 1\n",
        "while guess != target:\n",
        "    # print(guess, type(guess))\n",
        "    # print(target, type(target))\n",
        "\n",
        "    if guess > target:\n",
        "        upper_bound = min(upper_bound, guess - 1)\n",
        "        guess = int(input(f\"You guessed too high, guess a number between {lower_bound} and {upper_bound}\"))\n",
        "    else:\n",
        "        lower_bound= max(lower_bound, guess + 1)\n",
        "        guess = int(input(f\"You guessed too low, guess a number between {lower_bound} and {upper_bound}\"))\n",
        "    guesses += 1\n",
        "\n",
        "print (f\"Well done it only took you {guesses} guesses.\")    "
      ]
    },
    {
      "cell_type": "markdown",
      "metadata": {
        "id": "Aqyw12sjTzDi"
      },
      "source": [
        "###  Sin el random seed"
      ]
    },
    {
      "cell_type": "code",
      "execution_count": null,
      "metadata": {
        "id": "cLqhBQLdTzDj"
      },
      "outputs": [],
      "source": [
        "import random\n",
        "\n",
        "# random.seed(100)\n",
        "target = random.randint(1, 1000)\n",
        "\n",
        "print(target)\n",
        "\n",
        "guesses = 0\n",
        "lower_bound = 1\n",
        "upper_bound = 1000\n",
        "\n",
        "\n",
        "guess = int(input(f\"Guess a number between {lower_bound} and {upper_bound}\"))\n",
        "guesses += 1\n",
        "while guess != target:\n",
        "    # print(guess, type(guess))\n",
        "    # print(target, type(target))\n",
        "\n",
        "    if guess > target:\n",
        "        upper_bound = min(upper_bound, guess - 1)\n",
        "        guess = int(input(f\"You guessed too high, guess a number between {lower_bound} and {upper_bound}\"))\n",
        "    else:\n",
        "        lower_bound= max(lower_bound, guess + 1)\n",
        "        guess = int(input(f\"You guessed too low, guess a number between {lower_bound} and {upper_bound}\"))\n",
        "    guesses += 1\n",
        "\n",
        "print (f\"Well done it only took you {guesses} guesses.\")    "
      ]
    },
    {
      "cell_type": "markdown",
      "metadata": {
        "id": "jFvskfh8TzDj"
      },
      "source": [
        "### Ahora reescribiremos el programa para que un usuario pueda jugar el juego una y otra vez hasta que ingrese -1"
      ]
    },
    {
      "cell_type": "code",
      "execution_count": null,
      "metadata": {
        "id": "o7AJHQR-TzDk"
      },
      "outputs": [],
      "source": [
        "import random\n",
        "guess = 2000\n",
        "while guess != -1:\n",
        "    target = random.randint(1, 1000)\n",
        "    print(target)\n",
        "\n",
        "    guesses = 0\n",
        "    lower_bound = 1\n",
        "    upper_bound = 1000\n",
        "\n",
        "    guess = int(input(f\"Guess a number between {lower_bound} and {upper_bound}\"))\n",
        "    guesses += 1\n",
        "    \n",
        "    while guess != target and guess != -1:\n",
        "         if guess > target:\n",
        "            upper_bound = min(upper_bound, guess - 1)\n",
        "            guess = int(input(f\"You guessed too high, guess a number between {lower_bound} and {upper_bound}\"))\n",
        "        else:\n",
        "            lower_bound= max(lower_bound, guess + 1)\n",
        "            guess = int(input(f\"You guessed too low, guess a number between {lower_bound} and {upper_bound}\"))\n",
        "        guesses += 1\n",
        "    if guess == -1:\n",
        "        break    \n",
        "    print (f\"Well done it only took you {guesses} guesses.\")    \n",
        "\n",
        "print(\"Game ended\")"
      ]
    },
    {
      "cell_type": "markdown",
      "metadata": {
        "id": "iFLfVDB4TzDl"
      },
      "source": [
        "### Última variación, queremos comparar participantes, por lo tanto, sacamos números aleatorios, pero los escribimos en un archivo.\n",
        "### Estos números se utilizarán para todos los participantes, para que podamos compararlos"
      ]
    },
    {
      "cell_type": "code",
      "execution_count": null,
      "metadata": {
        "id": "YBqrfApoTzDm",
        "outputId": "a2f0572a-b5ef-4ead-ca71-9edccd9d3194"
      },
      "outputs": [
        {
          "ename": "TypeError",
          "evalue": "write() argument must be str, not int",
          "output_type": "error",
          "traceback": [
            "\u001b[1;31m---------------------------------------------------------------------------\u001b[0m",
            "\u001b[1;31mTypeError\u001b[0m                                 Traceback (most recent call last)",
            "\u001b[1;32m<ipython-input-4-1cbe31f535bb>\u001b[0m in \u001b[0;36m<module>\u001b[1;34m\u001b[0m\n\u001b[0;32m      4\u001b[0m \u001b[1;32mfor\u001b[0m \u001b[0mi\u001b[0m \u001b[1;32min\u001b[0m \u001b[0mrange\u001b[0m\u001b[1;33m(\u001b[0m\u001b[1;36m5\u001b[0m\u001b[1;33m)\u001b[0m\u001b[1;33m:\u001b[0m\u001b[1;33m\u001b[0m\u001b[1;33m\u001b[0m\u001b[0m\n\u001b[0;32m      5\u001b[0m     \u001b[0mtarget\u001b[0m \u001b[1;33m=\u001b[0m \u001b[0mrandom\u001b[0m\u001b[1;33m.\u001b[0m\u001b[0mrandint\u001b[0m\u001b[1;33m(\u001b[0m\u001b[1;36m1\u001b[0m\u001b[1;33m,\u001b[0m\u001b[1;36m1000\u001b[0m\u001b[1;33m)\u001b[0m\u001b[1;33m\u001b[0m\u001b[1;33m\u001b[0m\u001b[0m\n\u001b[1;32m----> 6\u001b[1;33m     \u001b[0mrandom_numbers\u001b[0m\u001b[1;33m.\u001b[0m\u001b[0mwrite\u001b[0m\u001b[1;33m(\u001b[0m\u001b[0mtarget\u001b[0m\u001b[1;33m)\u001b[0m\u001b[1;33m\u001b[0m\u001b[1;33m\u001b[0m\u001b[0m\n\u001b[0m\u001b[0;32m      7\u001b[0m \u001b[0mrandom_numbers\u001b[0m\u001b[1;33m.\u001b[0m\u001b[0mclose\u001b[0m\u001b[1;33m(\u001b[0m\u001b[1;33m)\u001b[0m\u001b[1;33m\u001b[0m\u001b[1;33m\u001b[0m\u001b[0m\n",
            "\u001b[1;31mTypeError\u001b[0m: write() argument must be str, not int"
          ]
        }
      ],
      "source": [
        "import random\n",
        "random.seed(100)\n",
        "random_numbers= open('random_numbers.txt','w')\n",
        "for i in range(5):\n",
        "    target = random.randint(1,1000)\n",
        "    random_numbers.write(target)\n",
        "random_numbers.close()"
      ]
    },
    {
      "cell_type": "markdown",
      "metadata": {
        "id": "Ftze6PJzTzDm"
      },
      "source": [
        "### El metodo write solo puede escribir cadenas(strings)"
      ]
    },
    {
      "cell_type": "code",
      "execution_count": null,
      "metadata": {
        "id": "sUoP11sZTzDn"
      },
      "outputs": [],
      "source": [
        "import random\n",
        "random.seed(100)\n",
        "random_numbers = open('random_numbers.txt','w')\n",
        "for i in range(0,5):\n",
        "    target = str(random.randint(0,1000)) + \"\\n\"\n",
        "    random_numbers.write(target)"
      ]
    },
    {
      "cell_type": "code",
      "execution_count": null,
      "metadata": {
        "id": "mHs_uLAVTzDn",
        "outputId": "b58e9448-9715-4ffa-fa50-3c7e1303a0e8"
      },
      "outputs": [
        {
          "name": "stdout",
          "output_type": "stream",
          "text": [
            "149\n",
            "Guess a number between 1 and 1000149\n",
            "Well done it only took you 1 guess.\n",
            "470\n",
            "Guess a number between 1 and 1000470\n",
            "Well done it only took you 1 guess.\n",
            "465\n",
            "Guess a number between 1 and 1000465\n",
            "Well done it only took you 1 guess.\n",
            "974\n",
            "Guess a number between 1 and 1000974\n",
            "Well done it only took you 1 guess.\n",
            "789\n",
            "Guess a number between 1 and 1000789\n",
            "Well done it only took you 1 guess.\n",
            "Game ended, you played 5 rounds and it took you in total 5 guesses\n"
          ]
        }
      ],
      "source": [
        "random_numbers = open('random_numbers.txt','r')\n",
        "rounds = 0\n",
        "total_guesses = 0\n",
        "for target in random_numbers:\n",
        "    target = int(target)\n",
        "    print(target)\n",
        "\n",
        "    guesses = 0\n",
        "    lower_bound = 1\n",
        "    upper_bound = 1000\n",
        "\n",
        "    guess = int(input(f\"Guess a number between {lower_bound} and {upper_bound}\"))\n",
        "    guesses += 1\n",
        "    \n",
        "    while guess != target and guess != -1:\n",
        "        if guess > target:\n",
        "            upper_bound = min(upper_bound, guess - 1)\n",
        "            guess = int(input(f\"You guessed too high, guess a number between {lower_bound} and {upper_bound}\"))\n",
        "        else:\n",
        "            lower_bound= max(lower_bound, guess + 1)\n",
        "            guess = int(input(f\"You guessed too low, guess a number between {lower_bound} and {upper_bound}\"))\n",
        "        guesses += 1\n",
        "    if guess == -1:\n",
        "        break\n",
        "    print (f\"Well done it only took you {guesses} {'guesses' if guesses > 1 else 'guess'}.\")\n",
        "    \n",
        "    total_guesses += guesses\n",
        "    rounds += 1\n",
        "print(f\"Game ended, you played {rounds} {'rounds' if rounds > 1 else 'round'} and it took you in total {total_guesses} {'guesses' if total_guesses > 1 else 'guess'}\")\n",
        "# result = 'rounds' if rounds > 1 else 'round' is a shortcut for\n",
        "# if rounds > 1:\n",
        "#     result = 'rounds'\n",
        "# else:\n",
        "#     result = 'round'\n",
        "      \n",
        "random_numbers.close()                             "
      ]
    },
    {
      "cell_type": "markdown",
      "metadata": {
        "id": "uyznmLddTzDo"
      },
      "source": [
        "### Podemos usar sqlite database"
      ]
    },
    {
      "cell_type": "code",
      "execution_count": null,
      "metadata": {
        "id": "Js5TgV8xTzDo",
        "outputId": "e6a7e478-1273-4364-89c2-9ee764e02f8f"
      },
      "outputs": [
        {
          "name": "stdout",
          "output_type": "stream",
          "text": [
            "[('1', '149'), ('2', '470'), ('3', '465'), ('4', '974'), ('5', '789')]\n"
          ]
        }
      ],
      "source": [
        "import random\n",
        "random.seed(100)\n",
        "\n",
        "# Here we use a so-called list comprehension, this is a short cut for a for loop in the cell below I will show you\n",
        "# what the for loop would look like that is replaced by the list comprehension\n",
        "random_numbers = [(str(index + 1), str(random.randint(0,1000))) for index in range(5)]\n",
        "print(random_numbers)\n",
        "# This is a short-cut for\n",
        "# random_numbers=[]\n",
        "# for index in range(5):\n",
        "#     random_numbers.append((str(index + 1), str(random.randint(0,1000))))\n",
        "# print(random_numbers)\n",
        "\n",
        "# To use a sqlite3 database you need to import the sqlite3 package\n",
        "import sqlite3\n",
        "\n",
        "# You have to make a connection to the database\n",
        "connection = sqlite3.connect('random numbers.db')\n",
        "\n",
        "# You have to create a cursor object, while with text files you only needed to muse an open function, here you need two functions\n",
        "# the connect function and the cursor function\n",
        "cursor = connection.cursor()\n",
        "\n",
        "# Delete table, I always do this. First I delete the table if it exists and only then I create a table. Creating a table\n",
        "# that already exists always gives errors. In this way avoid that\n",
        "cursor.execute('DROP TABLE IF EXISTS numbers')\n",
        "\n",
        "# Create table, you always have to create tables. While we just could store data in the txt file, you cannot do that \n",
        "# with a database. The data has to be stored in tables inside the database\n",
        "cursor.execute('CREATE TABLE numbers (index_number text, number text)')\n",
        "\n",
        "# fill table with values, the executemany function executes the same statement for all the tuples in the random_numbers list. \n",
        "# The elements inside the tuple replace the question marks\n",
        "cursor.executemany('INSERT INTO numbers VALUES (?, ?)', random_numbers)\n",
        "# This is a short-cut for\n",
        "# for random_number in random_numbers:\n",
        "#     cursor.execute(f'INSERT INTO numbers VALUES ({random_number[0]}, {random_number[1]})')\n",
        "\n",
        "# Save (commit) the changes\n",
        "connection.commit()\n",
        "# Just be sure any changes have been committed or they will be lost.\n",
        "\n",
        "# We can also close the connection if we are done with it.\n",
        "connection.close()"
      ]
    },
    {
      "cell_type": "code",
      "execution_count": null,
      "metadata": {
        "id": "T8jig_hMTzDp",
        "outputId": "b833cd8e-7ff5-4e8b-cdca-2cabbcb9c28f"
      },
      "outputs": [
        {
          "name": "stdout",
          "output_type": "stream",
          "text": [
            "[('1', '149'), ('2', '470'), ('3', '465'), ('4', '974'), ('5', '789')]\n",
            "[149, 470, 465, 974, 789]\n",
            "149\n",
            "Guess a number between 1 and 1000-1\n",
            "Game ended, you played 0 rounds and it took you in total 0 guesses\n"
          ]
        }
      ],
      "source": [
        "import sqlite3\n",
        "# Make connection\n",
        "#connection = sqlite3.connect(\":memory:\")\n",
        "connection = sqlite3.connect('random numbers.db')\n",
        "# create cursor\n",
        "cursor = connection.cursor()\n",
        "# read table\n",
        "cursor.execute(\"SELECT * FROM numbers\")\n",
        "# Put result in table\n",
        "rows = cursor.fetchall()\n",
        "print (rows)\n",
        "random_numbers = [int(row[1]) for row in rows]\n",
        "print (random_numbers)\n",
        "\n",
        "# We can also close the connection if we are done with it.\n",
        "# Just be sure any changes have been committed or they will be lost.\n",
        "connection.close()\n",
        "\n",
        "rounds = 0\n",
        "total_guesses = 0\n",
        "for target in random_numbers:\n",
        "    target = int(target)\n",
        "    print(target)\n",
        "\n",
        "    guesses = 0\n",
        "    lower_bound = 1\n",
        "    upper_bound = 1000\n",
        "\n",
        "    guess = int(input(f\"Guess a number between {lower_bound} and {upper_bound}\"))\n",
        "    guesses += 1\n",
        "    \n",
        "    while guess != target and guess != -1:\n",
        "        if guess > target:\n",
        "            upper_bound = min(upper_bound, guess - 1)\n",
        "            guess = int(input(f\"You guessed too high, guess a number between {lower_bound} and {upper_bound}\"))\n",
        "        else:\n",
        "            lower_bound= max(lower_bound, guess + 1)\n",
        "            guess = int(input(f\"You guessed too low, guess a number between {lower_bound} and {upper_bound}\"))\n",
        "        guesses += 1\n",
        "    if guess == -1:\n",
        "        break\n",
        "    print (f\"Well done it only took you {guesses} {'guesses' if guesses > 1 else 'guess'}.\")\n",
        "    \n",
        "    total_guesses += guesses\n",
        "    rounds += 1\n",
        "print(f\"Game ended, you played {rounds} rounds and it took you in total {total_guesses} guesses\")\n"
      ]
    },
    {
      "cell_type": "markdown",
      "metadata": {
        "id": "29gMMBLyTzDq"
      },
      "source": [
        "### Usar una base de datos para almacenar 5 enteros es una exageración, pero si tiene más datos y los datos están relacionados, las bases de datos son una excelente manera. Por ejemplo, un banco podría tener una tabla de clientes y una tabla con cuentas, y como hay una relación entre clientes y cuentas, usar una base de datos es una buena idea."
      ]
    },
    {
      "cell_type": "markdown",
      "metadata": {
        "id": "MrsPQtm7TzDr"
      },
      "source": [
        "# ¿Qué son los condicionales y qué son los bucles?\n",
        "* ## Los condicionales, dirige el orden de ejecución de los codigos en tu programa. Básicamente, hace que la ejecución de un bloque de código sea condicional, y usted le dice a Python a través de su programa bajo qué condiciones debe ejecutar ese bloque de código.\n",
        "* ## Bucles, repite un bloque de código (un conjunto de instrucciones) una y otra vez hasta que se cumpla una determinada condición, y le dices a Python a través de tu programa cuál es esta condición\n",
        "* ## For-loop, la condición es implícita, básicamente le dices al programa que repita un bloque de código siempre que una secuencia produzca (genere) elementos, y le dices al programa qué secuencia usar\n",
        " \n",
        "* ## while-loop, repite un bloque de código siempre que se cumpla una determinada condición, y le dices a Python a través de tu programa cuál es esta condición"
      ]
    },
    {
      "cell_type": "markdown",
      "metadata": {
        "id": "UIY3DTM7TzDr"
      },
      "source": [
        "# Conditionales "
      ]
    },
    {
      "cell_type": "markdown",
      "metadata": {
        "id": "-8g7eBk1TzDr"
      },
      "source": [
        "## If clause     "
      ]
    },
    {
      "cell_type": "markdown",
      "metadata": {
        "id": "05ksDqE1TzDr"
      },
      "source": [
        "### Sintaxis\n",
        "```python\n",
        "if <condicion>:\n",
        "    <statement-1>  # En los bloques de código de Python, las declaraciones if tienen que indentados(sangria)\n",
        "    <statement-2>  # Las declaraciones que se ejecutarán secuencialmente deben indentarse exactamente de la misma manera\n",
        "    ...            # Aunque a Python no le importa, es una buena práctica indentar siempre en múltiplos de 4 espacios\n",
        "                   # El uso de tab no es normalmente utilizado , es considerado como un mal uso pero funciona de todas formas\n",
        "                   # En resumen, siempre vaya a la siguiente línea y tome 4 espacios después de dos puntos en una declaración\n",
        "```\n",
        "### Sintaxis Alternativo\n",
        "```python\n",
        "if <condicion>: <statement-1>; <statement-2>; ... \n",
        "```"
      ]
    },
    {
      "cell_type": "code",
      "execution_count": null,
      "metadata": {
        "id": "nHi6kw3oTzDs",
        "outputId": "687ed582-5e8a-49ac-b1ec-0bc69eb5aa69"
      },
      "outputs": [
        {
          "name": "stdout",
          "output_type": "stream",
          "text": [
            "integer_1 is greater than 1\n"
          ]
        }
      ],
      "source": [
        "integer_1 = 2\n",
        "if integer_1 > 1:\n",
        "    print(\"integer_1 is greater than 1\")"
      ]
    },
    {
      "cell_type": "code",
      "execution_count": null,
      "metadata": {
        "colab": {
          "base_uri": "https://localhost:8080/"
        },
        "id": "7uF_5Z1TTzDs",
        "outputId": "f8617f8f-33ac-4db0-e8c7-d552e771de68"
      },
      "outputs": [
        {
          "output_type": "stream",
          "name": "stdout",
          "text": [
            "es menor a 1\n"
          ]
        }
      ],
      "source": [
        "integer_1 = 0\n",
        "if integer_1 > 1:print(\"es mayor a 1\")\n",
        "else:\n",
        "  print( \"es menor a 1\")"
      ]
    },
    {
      "cell_type": "markdown",
      "metadata": {
        "id": "WDBipJoxTzDs"
      },
      "source": [
        "### Else condicional"
      ]
    },
    {
      "cell_type": "markdown",
      "metadata": {
        "id": "scXPhDdRTzDs"
      },
      "source": [
        "#### Sintaxis\n",
        "```python\n",
        "if <condicion>:\n",
        "    <statement-1>\n",
        "    <statement-2>\n",
        "    ...\n",
        "else:     #Solo se ejecuta este codigo si es que lo de arriba es falso\n",
        "    <statement-3>\n",
        "    <statement-4>\n",
        "    ...\n",
        "    \n",
        "(Lazy evaluation significa que Python solo ejecuta declaraciones cuando es necesario. Por lo tanto, puede encontrar un error en una parte de un programa después de años, ya que esa parte del programa nunca se ejecutó antes y, por lo tanto, nunca se encontró el error)\n",
        "    \n",
        "```\n",
        "####  Sintaxis Alternativo\n",
        "```python\n",
        "if <condition>: <statement-1>; <statement-2>; ... \n",
        "else: <statement-1>; <statement-2>; ... \n",
        "```"
      ]
    },
    {
      "cell_type": "code",
      "execution_count": null,
      "metadata": {
        "id": "XfPNYfJNTzDt"
      },
      "outputs": [],
      "source": [
        "integer_1 = 2\n",
        "if integer_1 > 1:\n",
        "    print(\"integer_1 is greater than 1\")\n",
        "else:\n",
        "    print(\"integer_1 is not greater than 1\")"
      ]
    },
    {
      "cell_type": "code",
      "execution_count": null,
      "metadata": {
        "id": "ZHP5zqM3TzDt"
      },
      "outputs": [],
      "source": [
        "integer_1 = 0\n",
        "if integer_1 > 1:\n",
        "    print(\"integer_1 is greater than 1\")\n",
        "else:\n",
        "    print(\"integer_1 is not greater than 1\")"
      ]
    },
    {
      "cell_type": "markdown",
      "metadata": {
        "id": "b0iRnsEtTzDu"
      },
      "source": [
        "### Elif condicional"
      ]
    },
    {
      "cell_type": "markdown",
      "metadata": {
        "id": "qcTp8nJNTzDu"
      },
      "source": [
        "#### Sintaxis\n",
        "```python\n",
        "if <condicion-1>:\n",
        "    <statement-1>\n",
        "    <statement-2>\n",
        "    ...\n",
        "elif <condition-2>:  # Solo se llega a un elif si todas las demas condiciones han sido falsas\n",
        "    <statement-3>\n",
        "    <statement-4>\n",
        "    ...\n",
        "elif <condition-3>:\n",
        "    <statement-5>\n",
        "    <statement-6>\n",
        "    ...\n",
        "...\n",
        "else:                # SOlo se llega a la clasuala else si es que todas las condiciones son falsas\n",
        "    <statement-7>    \n",
        "    <statement-8>\n",
        "    ...\n",
        "```\n"
      ]
    },
    {
      "cell_type": "markdown",
      "metadata": {
        "id": "Ci4gy-E3TzDv"
      },
      "source": [
        "#### Ejemplos"
      ]
    },
    {
      "cell_type": "code",
      "execution_count": null,
      "metadata": {
        "id": "ld5yYMoLTzDv",
        "outputId": "cbb2e628-70bd-456e-fa78-5de309967d9f"
      },
      "outputs": [
        {
          "name": "stdout",
          "output_type": "stream",
          "text": [
            "La edad no es 60 ni 61\n"
          ]
        }
      ],
      "source": [
        "age = 59\n",
        "if age == 60:\n",
        "    print(\"Edad es 60\")\n",
        "elif age == 61:\n",
        "    print (\"Edad es 61\")\n",
        "else:\n",
        "    print (\"La edad no es 60 ni 61\")"
      ]
    },
    {
      "cell_type": "code",
      "execution_count": null,
      "metadata": {
        "id": "yxpQoKMMTzDv"
      },
      "outputs": [],
      "source": [
        "integer_1 = 0\n",
        "if integer_1 == 0:\n",
        "    print(\"integer_1 es igual a 0\")\n",
        "elif integer_1 > 1:\n",
        "    print(\"integer_1 es mayor que 1\")\n",
        "else:\n",
        "    print(\"integer_1 no es mayor que 1\")"
      ]
    },
    {
      "cell_type": "markdown",
      "metadata": {
        "id": "6OH6vuxXTzDw"
      },
      "source": [
        "## bucles For-loop\n",
        "### Los bucles for-loop iteran sobre una secuencia\n",
        "#### Una secuencia puede ser una cadena, una colección (como una lista, una tupla, un diccionario, un conjunto) o un objeto especial (como un objeto de rango, un objeto de enumeración, un objeto zip)\n",
        "#### La diferencia entre las colecciones (y cadenas) y los últimos objetos especiales mencionados es que las colecciones (y cadenas) son secuencias que están completamente almacenadas en la memoria de la computadora. Los objetos range, enumerate y zip son objetos especiales que liberan un valor uno por uno. El almacenamiento que toman estos objetos lo toma una función que genera la secuencia y un estado que describe lo que estaba haciendo el objeto especial en el momento en que entregó un valor.\n",
        "#### Una función normal genera un valor (por ejemplo, una lista) y después de esa generación, toda la función desaparece de la memoria de la computadora. Si se vuelve a llamar es como si se llamara a la función por primera vez\n",
        "#### Un objeto generador permanece en la memoria, como una computadora en hibernación. Si una computadora está en hibernación, simplemente comienza de nuevo donde se quedó, un objeto generador también sabe exactamente dónde estaba cuando se lo vuelve a llamar.\n",
        "#### La ventaja es que solo tiene que almacenar la función que produce los valores y no toda la lista resultante. Esto puede ahorrar mucho espacio en la memoria.\n",
        "#### Técnicamente, esto se hace mediante la declaración de rendimiento. La próxima semana discutiremos las funciones y le mostraremos cómo usar la declaración de rendimiento usted mismo."
      ]
    },
    {
      "cell_type": "markdown",
      "metadata": {
        "id": "f7-zlprATzDw"
      },
      "source": [
        "#### Sinataxis\n",
        "```python\n",
        "for <name> in <string|list|tuple|set|dictionary|range object|enumerate object|zip object>:\n",
        "    <statement-1>\n",
        "    <statement-2>\n",
        "    ...\n",
        "else:                # condicional else es opcionl     \n",
        "    <statement-3>    # Todos estos statements son ejecutados a menos que haya un break o ser termine el bucle\n",
        "    <statement-4>    \n",
        "    ...\n",
        "<|> : Significa or \n",
        "<statement-1> and <statement-2> pueden ser <break> or <continue>\n",
        "<break> para el bucle and el programa se ejcuta una sola vez\n",
        "<continue> para las iteraciones y ejecuta la siguiente iteracion y se acaba\n",
        "```"
      ]
    },
    {
      "cell_type": "markdown",
      "metadata": {
        "id": "juyjvylATzDw"
      },
      "source": [
        "### For-loop iterando sobre una cadena o string"
      ]
    },
    {
      "cell_type": "code",
      "execution_count": null,
      "metadata": {
        "id": "aHpQO92dTzDx"
      },
      "outputs": [],
      "source": [
        "string_1 = 'abcd'\n",
        "\n",
        "for character in string_1:\n",
        "    if character == 'e':\n",
        "        print('Found it')\n",
        "        break\n",
        "else:\n",
        "    print(\"Didn\\'t find it\")\n",
        "\n",
        "print(\"Ready\")    "
      ]
    },
    {
      "cell_type": "code",
      "execution_count": null,
      "metadata": {
        "colab": {
          "base_uri": "https://localhost:8080/"
        },
        "id": "Yur_TICCTzDx",
        "outputId": "bc3a0299-25aa-4118-a107-9f614efd0df1"
      },
      "outputs": [
        {
          "output_type": "stream",
          "name": "stdout",
          "text": [
            "Found it\n",
            "Ready\n"
          ]
        }
      ],
      "source": [
        "string_1  =  'abcd'\n",
        "for character in string_1:\n",
        "    if character  ==  'b':\n",
        "        print('Found it')\n",
        "        break\n",
        "else:\n",
        "    print('Didn\\'t find it')\n",
        "print('Ready')    "
      ]
    },
    {
      "cell_type": "code",
      "execution_count": null,
      "metadata": {
        "id": "KU7ZL19jTzDx"
      },
      "outputs": [],
      "source": [
        "string_1  =  'abcd'\n",
        "for character in string_1:\n",
        "    if character  ==  'e':\n",
        "        print('Found it')\n",
        "        break\n",
        "else:\n",
        "    print('Didn\\'t find it')\n",
        "print('Ready')    "
      ]
    },
    {
      "cell_type": "markdown",
      "metadata": {
        "id": "xsE06yVeTzDx"
      },
      "source": [
        "#### For-loop iterando sobre un contenedor (lista, tupla, conjunto, diccionario)\n",
        "#### Tenga en cuenta que iterar sobre un diccionario puede ser un poco confuso:\n",
        "* #### Si solo iteras sobre el diccionario, en realidad iteras sobre las keys\n",
        "* #### Si desea iterar sobre los valores del diccionario, debe usar el método de values()\n",
        "* #### Si desea iterar sobre los elementos del diccionario (las combinaciones de key y valor), debe usar el método items()"
      ]
    },
    {
      "cell_type": "code",
      "execution_count": null,
      "metadata": {
        "id": "HbdTGb_4TzDx"
      },
      "outputs": [],
      "source": [
        "list_1  =  ['a', 'b', 'c', 'd']\n",
        "for character in list_1:\n",
        "    if character  ==  'b':\n",
        "        print('Found it')\n",
        "        break\n",
        "else:\n",
        "    print('Didn\\'t find it')\n",
        "print('ready')    "
      ]
    },
    {
      "cell_type": "code",
      "execution_count": null,
      "metadata": {
        "id": "U3ATShqRTzDy"
      },
      "outputs": [],
      "source": [
        "tuple_1  =  'a', 'b', 'c', 'd'\n",
        "for character in tuple_1:\n",
        "    if character  ==  'e':\n",
        "        print('Found it')\n",
        "        break\n",
        "else:\n",
        "    print('Didn\\'t find it')\n",
        "print('ready')    "
      ]
    },
    {
      "cell_type": "code",
      "execution_count": null,
      "metadata": {
        "id": "uE_AAvKiTzDy"
      },
      "outputs": [],
      "source": [
        "set_1  =  {'a', 'b', 'c', 'd'}\n",
        "for character in set_1:\n",
        "    if character  ==  'a':\n",
        "        print('Found it')\n",
        "        break\n",
        "else:\n",
        "    print('Didn\\'t find it')\n",
        "print('ready')    "
      ]
    },
    {
      "cell_type": "code",
      "source": [
        "dictionary_1 = {1:'a', 2:'b', 3:'c', 4:'d'}\n",
        "for valores_dict in dictionary_1.values():\n",
        "  print (valores_dict)"
      ],
      "metadata": {
        "colab": {
          "base_uri": "https://localhost:8080/"
        },
        "id": "DnnNPHD0cXEj",
        "outputId": "e5a298d7-ed77-416d-a450-12805af2b0e1"
      },
      "execution_count": null,
      "outputs": [
        {
          "output_type": "stream",
          "name": "stdout",
          "text": [
            "a\n",
            "b\n",
            "c\n",
            "d\n"
          ]
        }
      ]
    },
    {
      "cell_type": "code",
      "execution_count": null,
      "metadata": {
        "colab": {
          "base_uri": "https://localhost:8080/"
        },
        "id": "20U0SC-BTzDy",
        "outputId": "0912be46-395a-4297-9f2e-780d29dfc423"
      },
      "outputs": [
        {
          "output_type": "stream",
          "name": "stdout",
          "text": [
            "Found it\n",
            "ready\n"
          ]
        }
      ],
      "source": [
        "dictionary_1  =  {1:'a', 2:'b', 3:'c', 4:'d'}\n",
        "for character in dictionary_1:\n",
        "    if character  ==  1:\n",
        "        print('Found it')\n",
        "        break\n",
        "else:\n",
        "    print('dictionary_1idn\\'t find it')\n",
        "print('ready')"
      ]
    },
    {
      "cell_type": "code",
      "execution_count": null,
      "metadata": {
        "id": "5EYfp_ITTzDy"
      },
      "outputs": [],
      "source": [
        "dictionary_1  =  {1:'a', 2:'b', 3:'c', 4:'d'}\n",
        "for character in dictionary_1.keys():\n",
        "    if character  ==  1:\n",
        "        print('Found it')\n",
        "        break\n",
        "else:\n",
        "    print('dictionary_1idn\\'t find it')\n",
        "print('ready')"
      ]
    },
    {
      "cell_type": "code",
      "execution_count": null,
      "metadata": {
        "id": "LsNP1sbaTzDy"
      },
      "outputs": [],
      "source": [
        "dictionary_1  =  {1:'a', 2:'b', 3:'c', 4:'d'}\n",
        "for character in dictionary_1.values():\n",
        "    if character  ==  'e':\n",
        "        print('Found it')\n",
        "        break\n",
        "else:\n",
        "    print('dictionary_1idn\\'t find it')\n",
        "print('ready')"
      ]
    },
    {
      "cell_type": "code",
      "execution_count": null,
      "metadata": {
        "id": "ULx7qnDlTzDz"
      },
      "outputs": [],
      "source": [
        "dictionary_1  =  {1:'a', 2:'b', 3:'c', 4:'d'}\n",
        "for key, character in dictionary_1.items():\n",
        "    if character  ==  'b':\n",
        "        print(f'Found it, character {character} has key {key}')\n",
        "        break\n",
        "else:\n",
        "    print('dictionary_1idn\\'t find it')\n",
        "print('ready')"
      ]
    },
    {
      "cell_type": "markdown",
      "metadata": {
        "id": "A298iRUmTzDz"
      },
      "source": [
        "### For loop iterando sobre un rango"
      ]
    },
    {
      "cell_type": "markdown",
      "metadata": {
        "id": "G9Ah0JFSTzDz"
      },
      "source": [
        "#### ¿Qué es un rango?\n",
        "#### Puede comparar un rango con una porción de una lista, como puede ver en los siguientes ejemplos. La diferencia es que una porción de una lista se almacenará completa como un nuevo objeto de lista en la memoria de la computadora, mientras que un objeto de rango no almacena todos los valores a la vez en la memoria, pero cada vez que se usa entregará el siguiente valor."
      ]
    },
    {
      "cell_type": "markdown",
      "metadata": {
        "id": "Afbf2tiaTzDz"
      },
      "source": [
        "#### Sintaxis\n",
        "```python\n",
        "for <variable> in range(<start><end><step>):\n",
        "    <statement-1>\n",
        "    <statement-2>\n",
        "    ...\n",
        "else:                    \n",
        "    <statement-3>    \n",
        "    <statement-3>    \n",
        "    ...\n",
        "<start><end><step> funciona exactamente como recortar una cadena o una lista, etc, asi que si quieres revisa otra vez y acuerdate que el valor final no esta incluido. Hay los mismos datos par <empezar> y <step>. Por default el inicio es 0, para step es 1.para el final no hay default asi que un obheto range necesita al menos un valor\n",
        "\n",
        "```"
      ]
    },
    {
      "cell_type": "code",
      "execution_count": null,
      "metadata": {
        "id": "Te47E365TzDz"
      },
      "outputs": [],
      "source": [
        "range_1 = range(2, 8, 2) \n",
        "print(type(range_1), range_1)"
      ]
    },
    {
      "cell_type": "code",
      "execution_count": null,
      "metadata": {
        "id": "kzQ4JOsUTzDz"
      },
      "outputs": [],
      "source": [
        "print(list(range_1))"
      ]
    },
    {
      "cell_type": "code",
      "execution_count": null,
      "metadata": {
        "id": "2mrEhAbPTzDz"
      },
      "outputs": [],
      "source": [
        "list_1 = [0, 1, 2, 3, 4, 5, 6, 7, 8, 9, 10]\n",
        "print(list(range(2, 8, 2)) == list_1[2:8:2])"
      ]
    },
    {
      "cell_type": "code",
      "execution_count": null,
      "metadata": {
        "id": "OdAgwyvITzDz"
      },
      "outputs": [],
      "source": [
        "print(list(range(2, 4, 2)) == [0, 1, 2, 3, 4, 5, 6, 7, 8, 9, 10][2:4:2])"
      ]
    },
    {
      "cell_type": "markdown",
      "metadata": {
        "id": "MGvsMZPwTzDz"
      },
      "source": [
        "#### Puede usar la iteración en un rango si sabe exactamente cuántas veces desea ejecutar el bloque de codificación"
      ]
    },
    {
      "cell_type": "markdown",
      "metadata": {
        "id": "KaS19CNgTzD0"
      },
      "source": [
        "#### Ejemplo-1: puede usar un _ si no necesita el valor\n",
        "#### NB esto es una convención. En Python, se supone que no debe usar nombres que comiencen con uno _, sin embargo, puede hacerlo."
      ]
    },
    {
      "cell_type": "code",
      "execution_count": null,
      "metadata": {
        "id": "dWSOKQZzTzD0",
        "outputId": "c847e196-5e03-49cd-8dbe-e08b85e49ccb"
      },
      "outputs": [
        {
          "name": "stdout",
          "output_type": "stream",
          "text": [
            "1\n",
            "1\n",
            "1\n",
            "1\n",
            "1\n"
          ]
        }
      ],
      "source": [
        "# Es Pythonic y se ve avanzado pero es muy simple :)\n",
        "for _ in range(5): \n",
        "    print(1)"
      ]
    },
    {
      "cell_type": "code",
      "execution_count": null,
      "metadata": {
        "id": "jQGK7UZqTzD0",
        "outputId": "e5d9d291-5895-43b4-a37d-e3bf86dbbecc"
      },
      "outputs": [
        {
          "name": "stdout",
          "output_type": "stream",
          "text": [
            "0\n",
            "1\n",
            "2\n",
            "3\n",
            "4\n"
          ]
        }
      ],
      "source": [
        "# No tan Pythonic pero funciona \n",
        "for _ in range(5): \n",
        "    print(_)"
      ]
    },
    {
      "cell_type": "markdown",
      "metadata": {
        "id": "stTH7Bn5TzD0"
      },
      "source": [
        "#### Ejemplo-2: usar un nombre que debe ser guardado"
      ]
    },
    {
      "cell_type": "code",
      "execution_count": null,
      "metadata": {
        "id": "RaT8tJGXTzD0"
      },
      "outputs": [],
      "source": [
        "sum_of_integers = 0\n",
        "for i in range(5):\n",
        "    sum_of_integers += i**2\n",
        "print(sum_of_integers)"
      ]
    },
    {
      "cell_type": "markdown",
      "metadata": {
        "id": "WzztmV3ETzD0"
      },
      "source": [
        "### For-loop iterando sobre un objeto enumerado\n",
        "#### Un objeto de enumeración crea un índice para los elementos en una secuencia\n",
        "#### Algunas secuencias como conjuntos y diccionarios no tienen un índice numérico pero desea usar un índice\n",
        "#### A veces desea comenzar el índice con un número diferente, p. 1\n",
        "#### El objeto de enumeración necesita dos parámetros, una secuencia y un índice inicial, cuyo valor predeterminado es 0"
      ]
    },
    {
      "cell_type": "code",
      "execution_count": null,
      "metadata": {
        "scrolled": true,
        "id": "raBHDWnBTzD0"
      },
      "outputs": [],
      "source": [
        "for index, digit in enumerate([1, 2, 3, 2]) :\n",
        "    print(f\"index is {index}, digit is {digit}\")"
      ]
    },
    {
      "cell_type": "code",
      "execution_count": null,
      "metadata": {
        "scrolled": true,
        "id": "AWPXRL6nTzD0"
      },
      "outputs": [],
      "source": [
        "for index, digit in enumerate((1, 2, 3, 2), 1):\n",
        "    print(f\"index is {index}, digit is {digit}\")"
      ]
    },
    {
      "cell_type": "code",
      "execution_count": null,
      "metadata": {
        "scrolled": true,
        "id": "OFb3LC7VTzD1"
      },
      "outputs": [],
      "source": [
        "for index, digit in enumerate({1, 2, 3, 2}, 2):\n",
        "    print(f\"index is {index}, digit is {digit}\")"
      ]
    },
    {
      "cell_type": "code",
      "execution_count": null,
      "metadata": {
        "scrolled": true,
        "id": "PDVyJDs2TzD1"
      },
      "outputs": [],
      "source": [
        "for index, letter in enumerate('abcde', 3):\n",
        "    print(f\"index is {index}, letter is {letter}\")"
      ]
    },
    {
      "cell_type": "markdown",
      "metadata": {
        "id": "jX5nUR-RTzD1"
      },
      "source": [
        "### For-loop iterando sobre un objeto zip \n",
        "#### Un objeto tiene dos o mas objetos juntos"
      ]
    },
    {
      "cell_type": "code",
      "execution_count": null,
      "metadata": {
        "scrolled": true,
        "id": "liH9pw4OTzD1"
      },
      "outputs": [],
      "source": [
        "for digit,  letter in zip([1, 2, 3], ['a', 'b', 'c']) :\n",
        "    print(f\"digit is {digit},  letter is {letter}\")"
      ]
    },
    {
      "cell_type": "markdown",
      "metadata": {
        "id": "B17o7JQlTzD1"
      },
      "source": [
        "#### Entonces puede comprimir dos listas juntas, pero en realidad puede comprimir todo tipo de secuencias juntas. Tenga en cuenta que si una de las secuencias es un diccionario, comprima las claves y no los valores"
      ]
    },
    {
      "cell_type": "code",
      "execution_count": null,
      "metadata": {
        "scrolled": true,
        "id": "0LFkL7yrTzD1"
      },
      "outputs": [],
      "source": [
        "digits_and_letters = zip([1, 2, 3], ['a', 'b', 'c'])\n",
        "print(digits_and_letters)\n",
        "print(list(digits_and_letters))"
      ]
    },
    {
      "cell_type": "code",
      "execution_count": null,
      "metadata": {
        "scrolled": true,
        "id": "tyIVrg8kTzD1"
      },
      "outputs": [],
      "source": [
        "digits_and_letters = zip([1, 2, 3], ('a', 'b', 'c'))\n",
        "print(list(digits_and_letters))"
      ]
    },
    {
      "cell_type": "code",
      "execution_count": null,
      "metadata": {
        "scrolled": true,
        "id": "BeQFaYaDTzD1"
      },
      "outputs": [],
      "source": [
        "digits_and_letters = zip(('1', '2', '3'), {'a', 'b', 'c'})\n",
        "print(list(digits_and_letters))"
      ]
    },
    {
      "cell_type": "code",
      "execution_count": null,
      "metadata": {
        "scrolled": true,
        "id": "rrOvXFXjTzD2"
      },
      "outputs": [],
      "source": [
        "digits_and_letters = zip([1, 2, 3], {1:'a', 2:'b', 3:'c'})\n",
        "print(list(digits_and_letters))"
      ]
    },
    {
      "cell_type": "markdown",
      "metadata": {
        "id": "5xl57xJOTzD2"
      },
      "source": [
        "#### Puedes comprimir más de 2 secuencias juntas"
      ]
    },
    {
      "cell_type": "code",
      "execution_count": null,
      "metadata": {
        "scrolled": true,
        "id": "z5rU9lTKTzD2"
      },
      "outputs": [],
      "source": [
        "digits_and_letters = zip([1, 2, 3], ('a', 'b', 'c'), 'ghi')\n",
        "print(list(digits_and_letters))"
      ]
    },
    {
      "cell_type": "markdown",
      "metadata": {
        "id": "3szJUMYFTzD2"
      },
      "source": [
        "#### Cuando desea comprimir secuencias de diferentes longitudes, el contenedor con la longitud más corta decide el resultado"
      ]
    },
    {
      "cell_type": "code",
      "execution_count": null,
      "metadata": {
        "scrolled": true,
        "id": "XTbNirJ1TzD2"
      },
      "outputs": [],
      "source": [
        "digits_and_letters = zip([1,2,3,4,5,6,7,8,9,10], 'abc')\n",
        "print(list(digits_and_letters))"
      ]
    },
    {
      "cell_type": "markdown",
      "metadata": {
        "id": "rfAqzMouTzD2"
      },
      "source": [
        "## While-loop"
      ]
    },
    {
      "cell_type": "markdown",
      "metadata": {
        "id": "U9KkXvC5TzD2"
      },
      "source": [
        "#### Sintaxis\n",
        "```python\n",
        "while <condition-1>:\n",
        "    <statement-1>\n",
        "    <statement-2>\n",
        "    ...\n",
        "else:                   \n",
        "    <statement-3>     \n",
        "    <statement-3>    \n",
        "    ...\n",
        "\n",
        "```"
      ]
    },
    {
      "cell_type": "markdown",
      "metadata": {
        "id": "z95RL6eoTzD2"
      },
      "source": [
        "### El while-loop es el bucle más simple implementado en Python. En estos días, los programadores usan principalmente bucles for-loop, ya que los bucles for-loop son más potentes que los bucles while-loop. Sin embargo, algunas tareas se realizan mejor con un bucle while-loop\n",
        "### En realidad, podría reemplazar todos los bucles for-loops por bucles while-loop, al revés no es posible"
      ]
    },
    {
      "cell_type": "markdown",
      "metadata": {
        "id": "juikZS0JTzD2"
      },
      "source": [
        "#### Ejemplos"
      ]
    },
    {
      "cell_type": "code",
      "execution_count": null,
      "metadata": {
        "id": "T_p1gPNRTzD3",
        "outputId": "7f4e70c4-1d08-4920-a14d-f9a7734b8558"
      },
      "outputs": [
        {
          "name": "stdout",
          "output_type": "stream",
          "text": [
            "1\n",
            "1\n",
            "1\n",
            "1\n"
          ]
        }
      ],
      "source": [
        "list_1 = ['a', 'b', 'c', 'd']\n",
        "\n",
        "\n",
        "while list_1:\n",
        "    #letter = list_1.pop(0)\n",
        "    print('1')"
      ]
    },
    {
      "cell_type": "code",
      "execution_count": null,
      "metadata": {
        "id": "DqEBjhVHTzD3",
        "outputId": "1837b3a6-a21a-4746-a591-2d624fb22bfa"
      },
      "outputs": [
        {
          "name": "stdout",
          "output_type": "stream",
          "text": [
            "a\n",
            "b\n",
            "Found it\n",
            "ready\n"
          ]
        }
      ],
      "source": [
        "list_1 = ['a', 'b', 'c', 'd']\n",
        "\n",
        "\n",
        "while list_1:\n",
        "    letter = list_1.pop(0)\n",
        "\n",
        "    # El metodo pop lo que hace es que elimina un elemento de una lista y lo imprime\n",
        "    # pop(0) para eliiminar el primer valor\n",
        "    # pop(-1) elimina el ultimo valor\n",
        "    print(letter)\n",
        "    if letter == 'b':\n",
        "        print('Found it')\n",
        "        break\n",
        "else:\n",
        "    print('Didn\\'t find it')\n",
        "print('ready')"
      ]
    },
    {
      "cell_type": "code",
      "execution_count": null,
      "metadata": {
        "scrolled": true,
        "id": "OW9mDtj8TzD3"
      },
      "outputs": [],
      "source": [
        "list_1 = ['a', 'b', 'c', 'd']\n",
        "while list_1:\n",
        "    letter = list_1.pop(-1)\n",
        "    print(letter)\n",
        "    if letter == 'e':\n",
        "        print('Found it')\n",
        "        break\n",
        "else:\n",
        "    print('Didn\\'t find it')\n",
        "print('ready')"
      ]
    },
    {
      "cell_type": "code",
      "execution_count": null,
      "metadata": {
        "scrolled": true,
        "id": "FLOn-CHnTzD3"
      },
      "outputs": [],
      "source": [
        "list_1 = ['a', 'b', 'c', 'd']\n",
        "while list_1:\n",
        "    letter = list_1.pop(0)  \n",
        "    print(letter)"
      ]
    },
    {
      "cell_type": "code",
      "execution_count": null,
      "metadata": {
        "scrolled": true,
        "id": "tLJ-1mwvTzD3"
      },
      "outputs": [],
      "source": [
        "list_1 = ['a', 'b', 'c', 'd']\n",
        "while list_1:\n",
        "    letter = list_1.pop(-1)  \n",
        "    print(letter)"
      ]
    },
    {
      "cell_type": "code",
      "execution_count": null,
      "metadata": {
        "scrolled": true,
        "id": "NRsPNalfTzD3"
      },
      "outputs": [],
      "source": [
        "list_1 = ['a', 'b', 'c', 'd']\n",
        "while list_1:\n",
        "    letter = list_1.pop(-1)  \n",
        "    print(letter)"
      ]
    },
    {
      "cell_type": "markdown",
      "metadata": {
        "id": "N3eLwwiGTzD4"
      },
      "source": [
        "#### Si bien la mayoría de los ejemplos anteriores también se pueden realizar fácilmente con un for-loop, el siguiente se realiza más fácilmente con un while-loop. Esta es una forma estándar en Python de probar la entrada proporcionada por el usuario."
      ]
    },
    {
      "cell_type": "code",
      "execution_count": null,
      "metadata": {
        "scrolled": true,
        "id": "UU_cvzcmTzD4",
        "outputId": "5d18a3c9-d1f9-4f3a-80f6-aa9552d27443"
      },
      "outputs": [
        {
          "name": "stdout",
          "output_type": "stream",
          "text": [
            "What is your name?g\n",
            "Your name is g\n"
          ]
        }
      ],
      "source": [
        "\n",
        "while True:\n",
        "    name = input('What is your name?')\n",
        "    if name != '' and name.isalpha():\n",
        "        break\n",
        "print(f\"Your name is {name}\")         "
      ]
    },
    {
      "cell_type": "markdown",
      "metadata": {
        "id": "MP3N-cUeTzD4"
      },
      "source": [
        "#### Al igual que con un for-loop, puede usar la instrucción continuar y romper en un while-loop. Hay una cosa complicada cuando se usa continuar dentro de un while-loop. El bucle se ejecutará sin probar la condición. Puedes verlo por ti mismo en el siguiente ejemplo. Antes de hacer eso, guarde su cuaderno haciendo clic en el primer icono en la tercera fila del cuaderno. Como la condición nunca se probará, creó un bucle infinito. Verá aparecer un asterisco a la izquierda del programa. Para salir del bucle, seleccione Kernel en el menú, seleccione Reiniciar, confirme el reinicio y debería estar listo para comenzar.\n",
        "#### No es una mala idea probar esto. Cada programador entrará en un bucle infinito de vez en cuando, así que es mejor que sepas qué hacer"
      ]
    },
    {
      "cell_type": "code",
      "execution_count": null,
      "metadata": {
        "id": "xSOf6rwKTzD4",
        "outputId": "17470ea9-d4f8-4677-9552-9a5094f8f912"
      },
      "outputs": [
        {
          "ename": "KeyboardInterrupt",
          "evalue": "",
          "output_type": "error",
          "traceback": [
            "\u001b[1;31m---------------------------------------------------------------------------\u001b[0m",
            "\u001b[1;31mKeyboardInterrupt\u001b[0m                         Traceback (most recent call last)",
            "\u001b[1;32m<ipython-input-26-d738685e8963>\u001b[0m in \u001b[0;36m<module>\u001b[1;34m\u001b[0m\n\u001b[0;32m      1\u001b[0m \u001b[0ma\u001b[0m \u001b[1;33m=\u001b[0m \u001b[1;36m1\u001b[0m\u001b[1;33m\u001b[0m\u001b[1;33m\u001b[0m\u001b[0m\n\u001b[1;32m----> 2\u001b[1;33m \u001b[1;32mwhile\u001b[0m \u001b[0ma\u001b[0m \u001b[1;33m<\u001b[0m \u001b[1;36m12\u001b[0m\u001b[1;33m:\u001b[0m\u001b[1;33m\u001b[0m\u001b[1;33m\u001b[0m\u001b[0m\n\u001b[0m\u001b[0;32m      3\u001b[0m     \u001b[1;32mcontinue\u001b[0m\u001b[1;33m\u001b[0m\u001b[1;33m\u001b[0m\u001b[0m\n\u001b[0;32m      4\u001b[0m     \u001b[0ma\u001b[0m \u001b[1;33m+=\u001b[0m \u001b[1;36m1\u001b[0m\u001b[1;33m\u001b[0m\u001b[1;33m\u001b[0m\u001b[0m\n",
            "\u001b[1;31mKeyboardInterrupt\u001b[0m: "
          ]
        }
      ],
      "source": [
        "a = 1\n",
        "while a < 12:\n",
        "    continue\n",
        "    a += 1"
      ]
    },
    {
      "cell_type": "markdown",
      "metadata": {
        "id": "ahXmhjYlTzD4"
      },
      "source": [
        "## Atajos"
      ]
    },
    {
      "cell_type": "markdown",
      "metadata": {
        "id": "hEOQwpJfTzD4"
      },
      "source": [
        "### Conditional expressions"
      ]
    },
    {
      "cell_type": "markdown",
      "metadata": {
        "id": "sc0SgOWPTzD4"
      },
      "source": [
        "#### Sinatxis de condicionales\n",
        "```python\n",
        "<expression-1> if <condition> else <expression-2>\n",
        "\n",
        "```"
      ]
    },
    {
      "cell_type": "markdown",
      "metadata": {
        "id": "dTtZq2BPTzD4"
      },
      "source": [
        "#### Este condicional"
      ]
    },
    {
      "cell_type": "code",
      "execution_count": null,
      "metadata": {
        "id": "RXSW71piTzD5",
        "outputId": "292f7a8f-be00-445a-a6c8-1dc047146cbb"
      },
      "outputs": [
        {
          "name": "stdout",
          "output_type": "stream",
          "text": [
            "High\n"
          ]
        }
      ],
      "source": [
        "integer_1 = 3\n",
        "if integer_1 > 2:\n",
        "    result = \"High\"\n",
        "else:\n",
        "    result = \"list_1ow\"\n",
        "print(result)    "
      ]
    },
    {
      "cell_type": "markdown",
      "metadata": {
        "id": "LBBMH24FTzD5"
      },
      "source": [
        "#### puede ser reemplazado por"
      ]
    },
    {
      "cell_type": "code",
      "execution_count": null,
      "metadata": {
        "id": "JuHq1_k1TzD5"
      },
      "outputs": [],
      "source": [
        "integer_1 = 3\n",
        "result  =  \"High\" if integer_1 > 2 else \"Low\"\n",
        "print(result) "
      ]
    },
    {
      "cell_type": "markdown",
      "metadata": {
        "id": "9HhwDz5vTzD5"
      },
      "source": [
        "#### o por esto"
      ]
    },
    {
      "cell_type": "code",
      "execution_count": null,
      "metadata": {
        "id": "xsDZyxQjTzD5"
      },
      "outputs": [],
      "source": [
        "integer_1 = 0\n",
        "print(\"High\" if integer_1 > 2 else \"Low\")"
      ]
    },
    {
      "cell_type": "markdown",
      "metadata": {
        "id": "3UQ3a9ypTzD5"
      },
      "source": [
        "### Listas y otras comprensiones"
      ]
    },
    {
      "cell_type": "markdown",
      "metadata": {
        "id": "NfF2fOkBTzD6"
      },
      "source": [
        "#### Sintaxis de comprensiones\n",
        "```python\n",
        "[<expression> for <variable> in <list> if <condition>] # comprensino de lista\n",
        "{<expression-1>:<expression-2> for <variable> in <list> if <condition>} # comprension para diccionario\n",
        "{<expression> for <variable> in <list> if <condition>} # comprension para set \n",
        "(<expression> for <variable> in <list> if <condition>) \n",
        "# la clausula if no es necesaria \n",
        "```"
      ]
    },
    {
      "cell_type": "markdown",
      "metadata": {
        "id": "4By3bwYtTzD6"
      },
      "source": [
        "#### This for-loop"
      ]
    },
    {
      "cell_type": "code",
      "execution_count": null,
      "metadata": {
        "id": "nxgpYiQhTzD6",
        "outputId": "82253d1a-40c0-4354-c93d-e94b9d9e26f7"
      },
      "outputs": [
        {
          "name": "stdout",
          "output_type": "stream",
          "text": [
            "[4, 16]\n"
          ]
        }
      ],
      "source": [
        "list_1 = [1, 2, 3, 4]\n",
        "result = []\n",
        "for n in list_1:\n",
        "    # el operador % da el residuo de una division\n",
        "    # esto es llamado el modulo 2 \n",
        "    # enronces probamos si es que n es impar\n",
        "    # n % 2 == 1 es verdadero si n es impar \n",
        "    if n % 2 == 0:\n",
        "        # agregamos el resultado a una lista\n",
        "        result.append(n**2)\n",
        "print(result)"
      ]
    },
    {
      "cell_type": "markdown",
      "metadata": {
        "id": "uZXtbfIMTzD7"
      },
      "source": [
        "#### puede ser reemplazado por una comprension de lista"
      ]
    },
    {
      "cell_type": "code",
      "execution_count": null,
      "metadata": {
        "scrolled": true,
        "id": "-J8ed0CPTzD7",
        "outputId": "4c7bbf1e-6b3e-45f3-ecf2-56f3a1f6de53"
      },
      "outputs": [
        {
          "name": "stdout",
          "output_type": "stream",
          "text": [
            "[4, 16]\n"
          ]
        }
      ],
      "source": [
        "list_1 = [1, 2, 3, 4]\n",
        "result  =  [n ** 2 for n in list_1 if n % 2 == 0] # crea una lista\n",
        "print(result)"
      ]
    },
    {
      "cell_type": "markdown",
      "metadata": {
        "id": "k5l8-H35TzD7"
      },
      "source": [
        "#### Tambien podemos crear un diccionario de esta manera"
      ]
    },
    {
      "cell_type": "code",
      "execution_count": null,
      "metadata": {
        "id": "b4PtdxBpTzD8"
      },
      "outputs": [],
      "source": [
        "list_1 = [1, 2, 3, 4]\n",
        "result  =  {n:n ** 2 for n in list_1 if n % 2 == 0}\n",
        "print(result)\n",
        "# El metodo items de un diccionario da una lista de tuplas cada una con su key y su valor\n",
        "print(list(result.items()))\n",
        "# lista de keys\n",
        "print(list(result.keys()))\n",
        "# Lista de resultados\n",
        "print(list(result.values()))"
      ]
    },
    {
      "cell_type": "code",
      "execution_count": null,
      "metadata": {
        "id": "1Yp-9aaFTzD8"
      },
      "outputs": [],
      "source": [
        "list_1 = [1, 2, 3, 4]\n",
        "result  =  {n ** 2 for n in list_1 if n % 2 == 0}\n",
        "print(result)"
      ]
    },
    {
      "cell_type": "code",
      "execution_count": null,
      "metadata": {
        "id": "CPX1vJvOTzD8",
        "outputId": "ea5e6a22-e309-465b-e579-aeceb57f3aaa"
      },
      "outputs": [
        {
          "name": "stdout",
          "output_type": "stream",
          "text": [
            "<generator object <genexpr> at 0x000001F5FB100BA0>\n"
          ]
        }
      ],
      "source": [
        "list_1 = [1, 2, 3, 4]\n",
        "result  =  (n ** 2 for n in list_1 if n % 2 == 0)\n",
        "print(result)\n",
        "# mas parecido a crear un rango "
      ]
    },
    {
      "cell_type": "code",
      "execution_count": null,
      "metadata": {
        "id": "BsDD9_oSTzD8",
        "outputId": "62b7e710-b8b3-47d7-d454-1c0033664e12"
      },
      "outputs": [
        {
          "name": "stdout",
          "output_type": "stream",
          "text": [
            "4\n",
            "16\n"
          ]
        }
      ],
      "source": [
        "for x in result:\n",
        "    print(x)"
      ]
    },
    {
      "cell_type": "markdown",
      "metadata": {
        "id": "TIB-C8OgTzD8"
      },
      "source": [
        "### No hay una comprension para una tupla pero esto funciona"
      ]
    },
    {
      "cell_type": "code",
      "execution_count": null,
      "metadata": {
        "id": "xz4dDD8BTzD8"
      },
      "outputs": [],
      "source": [
        "list_1 = [1, 2, 3, 4]\n",
        "# We construct a generator object \n",
        "result  =  (n ** 2 for n in list_1 if n % 2 == 0)\n",
        "# which we convert into a tuple\n",
        "result = tuple(result)\n",
        "print(result)"
      ]
    },
    {
      "cell_type": "markdown",
      "metadata": {
        "id": "HfN_38s1TzD9"
      },
      "source": [
        "### Si quieres saber por qué no hay comprensiones de tuplas? Googlea 'comprensiones de tupla de Python'. Encontrarás como uno de los primeros resultados [https://stackoverflow.com/questions/16940293/why-is-there-no-tuple-comprehension-in-python](https://stackoverflow.com/questions/16940293 /why-is-there-no-tuple-comprehension-in-python), lea las preguntas y respuestas si está interesado y recuerda que si tienes una pregunta un poco difícil googlea, los resultados en [https://stackoverflow ](https://stackoverflow) son realmente los primeros en aparcer. "
      ]
    },
    {
      "cell_type": "markdown",
      "metadata": {
        "id": "BnIspXlaTzD9"
      },
      "source": [
        "# Preguntas "
      ]
    },
    {
      "cell_type": "markdown",
      "metadata": {
        "id": "qhsTgQUbTzD9"
      },
      "source": [
        "## 1 Programa la impresión de una tabla de multiplicar para todos los números entre 1 y 10, usando For-loops\n",
        "## Rendimiento esperado:\n",
        "     1   times  1  =    1\n",
        "     1   times  2  =    2\n",
        "     ...\n",
        "     1   times 10  =   10\n",
        "     ...\n",
        "    10   times 10  =  100  "
      ]
    },
    {
      "cell_type": "code",
      "source": [
        "Numero = int(input(\"Digite un numero\"))\n",
        "\n",
        "for a in range(0,11):\n",
        "   result = a * Numero\n",
        "   print(Numero, \" times \", a, \" = \", result)"
      ],
      "metadata": {
        "colab": {
          "base_uri": "https://localhost:8080/"
        },
        "id": "IswKbf6C1rD9",
        "outputId": "c921a8ba-afb9-4f1a-f6e7-12455a88293e"
      },
      "execution_count": 1,
      "outputs": [
        {
          "output_type": "stream",
          "name": "stdout",
          "text": [
            "Digite un numero2\n",
            "2  times  0  =  0\n",
            "2  times  1  =  2\n",
            "2  times  2  =  4\n",
            "2  times  3  =  6\n",
            "2  times  4  =  8\n",
            "2  times  5  =  10\n",
            "2  times  6  =  12\n",
            "2  times  7  =  14\n",
            "2  times  8  =  16\n",
            "2  times  9  =  18\n",
            "2  times  10  =  20\n"
          ]
        }
      ]
    },
    {
      "cell_type": "markdown",
      "metadata": {
        "id": "hH4J1I5WTzD9"
      },
      "source": [
        "## 2 Programe un calendario (para todos los meses) para 2020 usando For-loops\n",
        "## Rendimiento esperado:\n",
        "     January                     \n",
        "     Mon Tue Wed Thu Fri Sat Sun  \n",
        "              1   2   3   4   5\n",
        "      6   7   8   9  10  11  12\n",
        "     13  14  15  16  17  18  19\n",
        "     20  21  22  23  24  25  26\n",
        "     27  28  29  30  31\n",
        "     \n",
        "     February\n",
        "     Mon Tue Wed Thu Fri Sat Sun\n",
        "                           1   2"
      ]
    },
    {
      "cell_type": "code",
      "source": [
        "import calendar\n",
        "\n",
        "año = int(input(\"Año: \"))\n",
        "\n",
        "for b in range(1,13):\n",
        "        print(calendar.month(año,b))"
      ],
      "metadata": {
        "colab": {
          "base_uri": "https://localhost:8080/"
        },
        "id": "gmmIuzO315H0",
        "outputId": "5e31913a-020b-4e9a-dbfb-6fca523d35f4"
      },
      "execution_count": 2,
      "outputs": [
        {
          "output_type": "stream",
          "name": "stdout",
          "text": [
            "Año: 2022\n",
            "    January 2022\n",
            "Mo Tu We Th Fr Sa Su\n",
            "                1  2\n",
            " 3  4  5  6  7  8  9\n",
            "10 11 12 13 14 15 16\n",
            "17 18 19 20 21 22 23\n",
            "24 25 26 27 28 29 30\n",
            "31\n",
            "\n",
            "   February 2022\n",
            "Mo Tu We Th Fr Sa Su\n",
            "    1  2  3  4  5  6\n",
            " 7  8  9 10 11 12 13\n",
            "14 15 16 17 18 19 20\n",
            "21 22 23 24 25 26 27\n",
            "28\n",
            "\n",
            "     March 2022\n",
            "Mo Tu We Th Fr Sa Su\n",
            "    1  2  3  4  5  6\n",
            " 7  8  9 10 11 12 13\n",
            "14 15 16 17 18 19 20\n",
            "21 22 23 24 25 26 27\n",
            "28 29 30 31\n",
            "\n",
            "     April 2022\n",
            "Mo Tu We Th Fr Sa Su\n",
            "             1  2  3\n",
            " 4  5  6  7  8  9 10\n",
            "11 12 13 14 15 16 17\n",
            "18 19 20 21 22 23 24\n",
            "25 26 27 28 29 30\n",
            "\n",
            "      May 2022\n",
            "Mo Tu We Th Fr Sa Su\n",
            "                   1\n",
            " 2  3  4  5  6  7  8\n",
            " 9 10 11 12 13 14 15\n",
            "16 17 18 19 20 21 22\n",
            "23 24 25 26 27 28 29\n",
            "30 31\n",
            "\n",
            "     June 2022\n",
            "Mo Tu We Th Fr Sa Su\n",
            "       1  2  3  4  5\n",
            " 6  7  8  9 10 11 12\n",
            "13 14 15 16 17 18 19\n",
            "20 21 22 23 24 25 26\n",
            "27 28 29 30\n",
            "\n",
            "     July 2022\n",
            "Mo Tu We Th Fr Sa Su\n",
            "             1  2  3\n",
            " 4  5  6  7  8  9 10\n",
            "11 12 13 14 15 16 17\n",
            "18 19 20 21 22 23 24\n",
            "25 26 27 28 29 30 31\n",
            "\n",
            "    August 2022\n",
            "Mo Tu We Th Fr Sa Su\n",
            " 1  2  3  4  5  6  7\n",
            " 8  9 10 11 12 13 14\n",
            "15 16 17 18 19 20 21\n",
            "22 23 24 25 26 27 28\n",
            "29 30 31\n",
            "\n",
            "   September 2022\n",
            "Mo Tu We Th Fr Sa Su\n",
            "          1  2  3  4\n",
            " 5  6  7  8  9 10 11\n",
            "12 13 14 15 16 17 18\n",
            "19 20 21 22 23 24 25\n",
            "26 27 28 29 30\n",
            "\n",
            "    October 2022\n",
            "Mo Tu We Th Fr Sa Su\n",
            "                1  2\n",
            " 3  4  5  6  7  8  9\n",
            "10 11 12 13 14 15 16\n",
            "17 18 19 20 21 22 23\n",
            "24 25 26 27 28 29 30\n",
            "31\n",
            "\n",
            "   November 2022\n",
            "Mo Tu We Th Fr Sa Su\n",
            "    1  2  3  4  5  6\n",
            " 7  8  9 10 11 12 13\n",
            "14 15 16 17 18 19 20\n",
            "21 22 23 24 25 26 27\n",
            "28 29 30\n",
            "\n",
            "   December 2022\n",
            "Mo Tu We Th Fr Sa Su\n",
            "          1  2  3  4\n",
            " 5  6  7  8  9 10 11\n",
            "12 13 14 15 16 17 18\n",
            "19 20 21 22 23 24 25\n",
            "26 27 28 29 30 31\n",
            "\n"
          ]
        }
      ]
    },
    {
      "cell_type": "markdown",
      "metadata": {
        "id": "DpOWtOAOTzD-"
      },
      "source": [
        "## 3 Programe la siguiente regulación fiscal, usando datos ficticios con declaraciones condicionales, use las tres cláusulas (if, elif, else) al menos una vez\n",
        "Si el valor del paquete es inferior a 20 no tienes que pagar ningún impuesto de importación\n",
        "Si el valor del paquete está entre 20 y 30 pagas 10% de impuesto de importación sobre el valor total\n",
        "Si el valor del paquete está entre 30 y 60, paga un impuesto de importación adicional del 7% sobre el valor superior a 30\n",
        "Si el valor del paquete es superior a 60, paga un impuesto de importación adicional del 3% sobre el valor superior a 60\n",
        "\n",
        "Si el valor del paquete es superior a 10 pagas el 20% de IVA sobre la suma total del valor e impuesto de importación\n",
        "\n",
        "El valor del paquete debe establecerse en una variable y debe probar si su programa funciona para diferentes valores.\n",
        "### Salida esperada (ejemplo):\n",
        "El valor del paquete fue de 25,00, el impuesto de importación es de 2,50, el IVA es de 5,50, el total es de 33,00."
      ]
    },
    {
      "cell_type": "code",
      "source": [
        "valor = int(input(\"Digite un numero\"))\n",
        "\n",
        "if valor > 20 and valor < 30:\n",
        "    result1 = valor\n",
        "    Impuesto = (((valor*10)/100)+valor)\n",
        "    TOTAL = result1+Impuesto\n",
        "    IVA = ((TOTAL*20)/100)\n",
        "    TOTALF = round(TOTAL+IVA, 2)\n",
        "    \n",
        "    print(\"El valor del paquete es de\", result1, \", el impuesto de importación es de\", Impuesto, \", el IVA es de\", IVA, \", el total es \", TOTALF )\n",
        "\n",
        "if valor > 30 and valor < 60:\n",
        "    result1 = valor\n",
        "    Impuesto = (((valor*7)/100)+valor)\n",
        "    TOTAL = result1+Impuesto\n",
        "    IVA = round(((TOTAL*20)/100), 2)\n",
        "    TOTALF = round(TOTAL+IVA, 2)\n",
        "    \n",
        "    print(\"El valor del paquete es de\", result1, \", el impuesto de importación es de\", Impuesto, \", el IVA es de\", IVA, \", el total es \", TOTALF )\n",
        "\n",
        "elif valor > 60:\n",
        "    result1 = valor\n",
        "    Impuesto = (((valor*3)/100)+valor)\n",
        "    TOTAL = result1+Impuesto\n",
        "    IVA = round(((TOTAL*20)/100), 2)\n",
        "    TOTALF = round(TOTAL+IVA, 2)\n",
        "    \n",
        "    print(\"El valor del paquete es de\", result1, \", el impuesto de importación es de\", Impuesto, \", el IVA es de\", IVA, \", el total es \", TOTALF )\n",
        "\n",
        "else:\n",
        "    result1 = valor\n",
        "    Impuesto = 0\n",
        "    TOTAL = result1+Impuesto\n",
        "    IVA = 0\n",
        "    TOTALF = valor\n",
        "    \n",
        "    print(\"El valor del paquete es de\", result1, \", el impuesto de importación es de\", Impuesto, \", el IVA es de\", IVA, \", el total es \", TOTALF )"
      ],
      "metadata": {
        "colab": {
          "base_uri": "https://localhost:8080/"
        },
        "id": "srowb6Mj2EeR",
        "outputId": "d130267f-e9c9-4b3f-a7a7-860ac96918fa"
      },
      "execution_count": 3,
      "outputs": [
        {
          "output_type": "stream",
          "name": "stdout",
          "text": [
            "Digite un numero6\n",
            "El valor del paquete es de 6 , el impuesto de importación es de 0 , el IVA es de 0 , el total es  6\n"
          ]
        }
      ]
    },
    {
      "cell_type": "markdown",
      "metadata": {
        "id": "o9eWvZGvTzD-"
      },
      "source": [
        "## 4 Reescribe el siguiente programa reemplazando la declaración condicional con expresiones condicionales"
      ]
    },
    {
      "cell_type": "code",
      "execution_count": null,
      "metadata": {
        "id": "snC4ajrcTzD-"
      },
      "outputs": [],
      "source": [
        "a = -1\n",
        "if a == 0:\n",
        "    result = \"= 0\"\n",
        "elif a>1:\n",
        "    result = \"> 1\"\n",
        "else:\n",
        "    result = \"<= 1\"\n",
        "print(result)    "
      ]
    },
    {
      "cell_type": "code",
      "source": [
        "a = -1\n",
        "result  =  \"> 1\" if a > 1 else \"<= 1 \"\n",
        "print(result)"
      ],
      "metadata": {
        "colab": {
          "base_uri": "https://localhost:8080/"
        },
        "id": "ydKy-p6v2Uwi",
        "outputId": "f504678d-bcc3-4510-cd9f-1a581f4c68e9"
      },
      "execution_count": 4,
      "outputs": [
        {
          "output_type": "stream",
          "name": "stdout",
          "text": [
            "<= 1 \n"
          ]
        }
      ]
    },
    {
      "cell_type": "markdown",
      "metadata": {
        "id": "btdeR6pUTzD-"
      },
      "source": [
        "## 5 Reescriba el siguiente programa reemplazando la lista de comprensión con un while-loop"
      ]
    },
    {
      "cell_type": "code",
      "execution_count": null,
      "metadata": {
        "id": "38zTUkhfTzD-"
      },
      "outputs": [],
      "source": [
        "list_1 = [1, 2, 3, 4]\n",
        "result  =  [digit ** 2 for digit in list_1 if digit % 2 == 0]\n",
        "print(result)"
      ]
    },
    {
      "cell_type": "code",
      "source": [
        "list_1 = [1, 2, 3, 4]\n",
        "while list_1 :\n",
        "    result  =  [digit ** 2 for digit in list_1 if digit % 2 == 0]\n",
        "    print(result)\n",
        "    break"
      ],
      "metadata": {
        "colab": {
          "base_uri": "https://localhost:8080/"
        },
        "id": "oeh8sL9K2aF1",
        "outputId": "72b4bb19-524f-491f-97e5-e83dbe08673d"
      },
      "execution_count": 5,
      "outputs": [
        {
          "output_type": "stream",
          "name": "stdout",
          "text": [
            "[4, 16]\n"
          ]
        }
      ]
    },
    {
      "cell_type": "markdown",
      "metadata": {
        "id": "jAGVd1RLTzD-"
      },
      "source": [
        "## 6 En la clase 1 te mostramos las siguientes afirmaciones:"
      ]
    },
    {
      "cell_type": "code",
      "execution_count": null,
      "metadata": {
        "id": "_ei0WzAmTzD-",
        "outputId": "8932d4e2-1eb5-4fe0-88fd-b83a3362a930"
      },
      "outputs": [
        {
          "name": "stdout",
          "output_type": "stream",
          "text": [
            "True\n",
            "False\n"
          ]
        }
      ],
      "source": [
        "a = 1\n",
        "b = 1\n",
        "print(a is b)\n",
        "\n",
        "a = 1000\n",
        "b = 1000\n",
        "print(a is b)"
      ]
    },
    {
      "cell_type": "markdown",
      "metadata": {
        "id": "n20u28u3TzD_"
      },
      "source": [
        "Y, por supuesto, tienes curiosidad por la diferencia. Aprendimos en la clase 1 que los números enteros -5 hasta 255 fueron internados (guardados en disco) cuando comenzó Python, esto significa que los objetos con estos valores ya estaban creados. Ahora deseaamos escribir un programa que nos diga que 256 es de hecho el primer número entero que Python no esta guardado en disco.\n",
        "\n",
        "Escrbimos el siguiente programa y ahora necsitamos explicar por qué este programa imprimirá \"Sorpresa\". ¿No debería romperse mientras se procesa el número entero 256, ya que ese número no está guardado internamente?"
      ]
    },
    {
      "cell_type": "code",
      "execution_count": null,
      "metadata": {
        "id": "qWeXeW8WTzD_",
        "outputId": "5a87a436-ed0f-4378-db18-dd2371e20c80"
      },
      "outputs": [
        {
          "name": "stdout",
          "output_type": "stream",
          "text": [
            "Surprise\n"
          ]
        }
      ],
      "source": [
        "for x in range(1000):\n",
        "    a = x\n",
        "    b = x\n",
        "    if not (a is b):\n",
        "        print(f\"the highest integer {x-1}\")\n",
        "        break\n",
        "else:\n",
        "    print(\"Surprise\")"
      ]
    },
    {
      "cell_type": "markdown",
      "metadata": {
        "id": "ghSy7eqUTzD_"
      },
      "source": [
        "## 7 Vuelva a escribir la siguiente declaración sin un bucle y solo usando declaraciones condicionales:"
      ]
    },
    {
      "cell_type": "code",
      "execution_count": null,
      "metadata": {
        "id": "LkL6ivJaTzD_"
      },
      "outputs": [],
      "source": [
        "i = 1\n",
        "while i < 4:\n",
        "    print(i)\n",
        "    i +=1"
      ]
    },
    {
      "cell_type": "code",
      "source": [
        "i = 1\n",
        "if 1 < 4:\n",
        "    valor = i\n",
        "    valor1 = i+1\n",
        "    valor2 = i+2\n",
        "\n",
        "print(valor)\n",
        "print(valor1)\n",
        "print(valor2)"
      ],
      "metadata": {
        "colab": {
          "base_uri": "https://localhost:8080/"
        },
        "id": "5SF_SdB82mUb",
        "outputId": "c0071c9f-98e9-4cb8-ec64-5492b5171b8d"
      },
      "execution_count": 6,
      "outputs": [
        {
          "output_type": "stream",
          "name": "stdout",
          "text": [
            "1\n",
            "2\n",
            "3\n"
          ]
        }
      ]
    }
  ],
  "metadata": {
    "kernelspec": {
      "display_name": "Python 3",
      "language": "python",
      "name": "python3"
    },
    "language_info": {
      "codemirror_mode": {
        "name": "ipython",
        "version": 3
      },
      "file_extension": ".py",
      "mimetype": "text/x-python",
      "name": "python",
      "nbconvert_exporter": "python",
      "pygments_lexer": "ipython3",
      "version": "3.8.5"
    },
    "colab": {
      "name": "clase 2.ipynb",
      "provenance": [],
      "collapsed_sections": [
        "iFLfVDB4TzDl",
        "Ftze6PJzTzDm",
        "uyznmLddTzDo",
        "29gMMBLyTzDq",
        "05ksDqE1TzDr",
        "WDBipJoxTzDs",
        "scXPhDdRTzDs",
        "b0iRnsEtTzDu",
        "qcTp8nJNTzDu",
        "Ci4gy-E3TzDv",
        "f7-zlprATzDw",
        "juyjvylATzDw",
        "xsE06yVeTzDx",
        "A298iRUmTzDz",
        "G9Ah0JFSTzDz",
        "Afbf2tiaTzDz",
        "MGvsMZPwTzDz",
        "KaS19CNgTzD0",
        "stTH7Bn5TzD0",
        "WzztmV3ETzD0",
        "jX5nUR-RTzD1",
        "B17o7JQlTzD1",
        "5xl57xJOTzD2",
        "3szJUMYFTzD2",
        "U9KkXvC5TzD2",
        "z95RL6eoTzD2",
        "juikZS0JTzD2",
        "N3eLwwiGTzD4",
        "MP3N-cUeTzD4",
        "hEOQwpJfTzD4",
        "sc0SgOWPTzD4",
        "dTtZq2BPTzD4",
        "LBBMH24FTzD5",
        "9HhwDz5vTzD5",
        "3UQ3a9ypTzD5",
        "NfF2fOkBTzD6",
        "4By3bwYtTzD6",
        "uZXtbfIMTzD7",
        "k5l8-H35TzD7",
        "TIB-C8OgTzD8",
        "HfN_38s1TzD9"
      ]
    }
  },
  "nbformat": 4,
  "nbformat_minor": 0
}