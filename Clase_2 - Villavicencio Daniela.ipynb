{
 "cells": [
  {
   "cell_type": "code",
   "execution_count": null,
   "metadata": {},
   "outputs": [],
   "source": [
    "#Estudiante: Daniela Villavicencio"
   ]
  },
  {
   "cell_type": "markdown",
   "metadata": {
    "id": "P7fDwkWo59B3"
   },
   "source": [
    "# Clase 2\n",
    "## En la clase 1 discutimos datos, operadores y métodos. Esta semana discutiremos algunas otras habilidades esenciales que le dan el poder de implementar sus ideas con Python:\n",
    "* ### Declaraciones condicionales que permiten controlar el flujo de su programa\n",
    "* ### Bucles que permiten reutilizar instrucciones, sin tener que copiarlas"
   ]
  },
  {
   "cell_type": "markdown",
   "metadata": {
    "id": "z_Tl-m4c59B8"
   },
   "source": [
    "## De ahora en adelante comenzaremos cada lección con un programa de ejemplo. Los programas de ejemplo le mostrarán las nuevas ideas para esa semana.\n",
    "\n",
    "* ### En los cuadernos estos ejemplos se llamarán programas de ejemplo\n",
    "* ### En el programa de ejemplo de esta semana aprenderemos: Cómo leer y escribir archivos\n",
    "  * #### con comandos elementales como open(), close() y write(), mientras lee con un bucle for\n",
    "  * #### Cómo crear, leer y escribir (en) una base de datos, usamos Sqlite para esta tarea. Sqlite es una biblioteca estándar de Python\n",
    "  * #### Hay otras formas de almacenar y recuperar datos, y algunas las veremos en lecciones posteriores, pero ya hacen posible escribir programas serios"
   ]
  },
  {
   "cell_type": "markdown",
   "metadata": {
    "id": "I3XPldVN59B8"
   },
   "source": [
    "# Literatura para la semana 2\n",
    "* ## La biblioteca random [https://docs.python.org/3/library/random.html](https://docs.python.org/3/library/random.html)\n",
    "* ## Desde [https://docs.python.org/3/tutorial/index.html](https://docs.python.org/3/tutorial/index.html) capítulo 4 hasta 4.5\n",
    "* ## [https://www.w3schools.com/python/python_while_loops.asp](https://www.w3schools.com/python/python_while_loops.asp)\n",
    "* ## [https://www.pythonforbeginners.com/cheatsheet/python-file-handling](https://www.pythonforbeginners.com/cheatsheet/python-file-handling)\n",
    "* ## Sqlite\n",
    "  * ### [https://docs.python.org/3/library/sqlite3.html](https://docs.python.org/3/library/sqlite3.html), hasta 'Ver también'\n",
    "  * ### [https://www.w3schools.com/sql/default.asp](https://www.w3schools.com/sql/default.asp), esta página y mire la columna de la izquierda y estudie las siguientes declaraciones Select, Where, Insert into, Update, Delete, Create DB, Create Table, Drop Table "
   ]
  },
  {
   "cell_type": "markdown",
   "metadata": {
    "id": "H5D5Wk3f59B9"
   },
   "source": [
    "# Temas para la clase 2\n",
    "* ## Programa de ejemplo: La programación del juego de adivinanzas contiene todos los temas que tratamos esta semana. Dependiendo de lo que funcione mejor para usted, puede estudiar este ejemplo al principio o al final del material de esta semana. Será discutido en un video separado.\n",
    "* ## Declaraciones condicionales\n",
    "  * ### If\n",
    "  * ### else\n",
    "  * ### elif\n",
    "* ## Bucles\n",
    "  * ### For-loops, para iterar sobre una secuencia (por ejemplo, una colección)\n",
    "  * ### while-loops\n",
    "* ## Atajos\n",
    "  * ### Expresiones condicionales, para reemplazar sentencias condicionales\n",
    "  * ### Comprensiones, para reemplazar for-loops"
   ]
  },
  {
   "cell_type": "markdown",
   "metadata": {
    "id": "TXTZSVOo59B9"
   },
   "source": [
    "# Programa de ejemplo: El juego de adivinanzas\n",
    "## Escribiremos un juego que le pida al usuario que adivine un número conocido por la computadora. El programa le dará retroalimentación al usuario, ya sea que el usuario adivinó demasiado, demasiado o exactamente bien. Cuando el usuario acertó, el programa elogia al usuario y se detiene."
   ]
  },
  {
   "cell_type": "code",
   "execution_count": 1,
   "metadata": {
    "colab": {
     "base_uri": "https://localhost:8080/"
    },
    "id": "UMUPt5NI59B-",
    "outputId": "841cffef-d988-48d8-cfbe-506f092610f7"
   },
   "outputs": [
    {
     "name": "stdout",
     "output_type": "stream",
     "text": [
      "Adivina un numero entre 1 y 1000400\n",
      "Muy bajo, por favor intenta otra vez, un numero entre  401 and 10001\n",
      "Muy bajo, por favor intenta otra vez, un numero entre  401 and 1000477\n",
      "Bien hecho,solo te tomaron 3 intentos.\n"
     ]
    }
   ],
   "source": [
    "target = 477\n",
    "lower_bound = 1\n",
    "upper_bound = 1000\n",
    "guesses = 0\n",
    "\n",
    "# LA funcion input nos permite dar un numero al codigo que esta siendo ejecutado\n",
    "guess = int(input(f\"Adivina un numero entre {lower_bound} y {upper_bound}\"))\n",
    "guesses += 1\n",
    "while guess != target:\n",
    "    if guess > target:\n",
    "        upper_bound = min(upper_bound, guess - 1)\n",
    "        guess = int(input(f\"Muy alto, por favor intenta otra vez, un numero entre {lower_bound} y {upper_bound}\"))\n",
    "    else:\n",
    "        lower_bound = max(lower_bound, guess + 1)\n",
    "        guess = int(input(f\"Muy bajo, por favor intenta otra vez, un numero entre  {lower_bound} and {upper_bound}\"))\n",
    "    guesses += 1\n",
    "        \n",
    "print(f\"Bien hecho,solo te tomaron {guesses} intentos.\")\n"
   ]
  },
  {
   "cell_type": "markdown",
   "metadata": {
    "id": "ykJ0TL7459B_"
   },
   "source": [
    "### Algo salió mal, al leer el mensaje de error concluiríamos que el objetivo o el intento es una cadena.\n",
    "### Así que ponemos un print statement justo antes de comparar, adivinar y apuntar para ver cuál de los dos es una cadena\n",
    "### Aunque hay algunas formas muy avanzadas de encontrar errores, es bastante común simplemente imprimir valores y tipos"
   ]
  },
  {
   "cell_type": "code",
   "execution_count": 2,
   "metadata": {
    "id": "Yx0OUpz759CA"
   },
   "outputs": [
    {
     "name": "stdout",
     "output_type": "stream",
     "text": [
      "Guess a number between 1 and 10001\n",
      "1 <class 'str'>\n",
      "477 <class 'int'>\n"
     ]
    },
    {
     "ename": "TypeError",
     "evalue": "'>' not supported between instances of 'str' and 'int'",
     "output_type": "error",
     "traceback": [
      "\u001b[1;31m---------------------------------------------------------------------------\u001b[0m",
      "\u001b[1;31mTypeError\u001b[0m                                 Traceback (most recent call last)",
      "Input \u001b[1;32mIn [2]\u001b[0m, in \u001b[0;36m<cell line: 9>\u001b[1;34m()\u001b[0m\n\u001b[0;32m     10\u001b[0m \u001b[38;5;28mprint\u001b[39m(guess, \u001b[38;5;28mtype\u001b[39m(guess))\n\u001b[0;32m     11\u001b[0m \u001b[38;5;28mprint\u001b[39m(target, \u001b[38;5;28mtype\u001b[39m(target))\n\u001b[1;32m---> 12\u001b[0m \u001b[38;5;28;01mif\u001b[39;00m \u001b[43mguess\u001b[49m\u001b[43m \u001b[49m\u001b[38;5;241;43m>\u001b[39;49m\u001b[43m \u001b[49m\u001b[43mtarget\u001b[49m:\n\u001b[0;32m     13\u001b[0m     upper_bound \u001b[38;5;241m=\u001b[39m \u001b[38;5;28mmin\u001b[39m(upper_bound, guess \u001b[38;5;241m-\u001b[39m \u001b[38;5;241m1\u001b[39m)\n\u001b[0;32m     14\u001b[0m     guess \u001b[38;5;241m=\u001b[39m \u001b[38;5;28minput\u001b[39m(\u001b[38;5;124mf\u001b[39m\u001b[38;5;124m\"\u001b[39m\u001b[38;5;124mYou guessed too high, guess a number between \u001b[39m\u001b[38;5;132;01m{\u001b[39;00mlower_bound\u001b[38;5;132;01m}\u001b[39;00m\u001b[38;5;124m and \u001b[39m\u001b[38;5;132;01m{\u001b[39;00mupper_bound\u001b[38;5;132;01m}\u001b[39;00m\u001b[38;5;124m\"\u001b[39m)\n",
      "\u001b[1;31mTypeError\u001b[0m: '>' not supported between instances of 'str' and 'int'"
     ]
    }
   ],
   "source": [
    "target = 477\n",
    "lower_bound = 1\n",
    "upper_bound = 1000\n",
    "guesses = 0\n",
    "\n",
    "# The input functions puts the parameter on the screen and reguesses what is entered by the user \n",
    "guess = input(f\"Guess a number between {lower_bound} and {upper_bound}\")\n",
    "guesses += 1\n",
    "while guess != target:\n",
    "    print(guess, type(guess))\n",
    "    print(target, type(target))\n",
    "    if guess > target:\n",
    "        upper_bound = min(upper_bound, guess - 1)\n",
    "        guess = input(f\"You guessed too high, guess a number between {lower_bound} and {upper_bound}\")\n",
    "    else:\n",
    "        lower_bound = max(lower_bound, guess + 1)\n",
    "        guess = input(f\"You guessed too low, guess a number between {lower_bound} and {upper_bound}\")\n",
    "    guesses += 1\n",
    "        \n",
    "print(f\"Well done it only took you {guesses} guesses.\")    "
   ]
  },
  {
   "cell_type": "markdown",
   "metadata": {
    "id": "tJPhzRtJ59CB"
   },
   "source": [
    "### Al parecer el uso de la funcion intut requiere que nuestro objeto sea un entero."
   ]
  },
  {
   "cell_type": "code",
   "execution_count": 3,
   "metadata": {
    "id": "10F04Voo59CC"
   },
   "outputs": [
    {
     "name": "stdout",
     "output_type": "stream",
     "text": [
      "Guess a number between 1 and 10001\n",
      "You guessed too low, guess a number between 2 and 1000400\n",
      "You guessed too low, guess a number between 401 and 1000500\n",
      "You guessed too high, guess a number between 401 and 499470\n",
      "You guessed too low, guess a number between 471 and 499477\n",
      "Well done it only took you 5 guesses.\n"
     ]
    }
   ],
   "source": [
    "target = 477\n",
    "lower_bound = 1\n",
    "upper_bound = 1000\n",
    "guesses = 0\n",
    "\n",
    "# The input functions puts the parameter on the screen and reguesses what is entered by the user \n",
    "guess = int(input(f\"Guess a number between {lower_bound} and {upper_bound}\"))\n",
    "guesses += 1\n",
    "while guess != target:\n",
    "    # We leave the print statements as comments, maybe we need them more often during testing\n",
    "    # As soon as we are 100% sure about our program we delete these debugging statements\n",
    "    # print(guess, type(guess))\n",
    "    # print(target, type(target))\n",
    "\n",
    "    if guess > target:\n",
    "        upper_bound = min(upper_bound, guess - 1)\n",
    "        guess = int(input(f\"You guessed too high, guess a number between {lower_bound} and {upper_bound}\"))\n",
    "    else:\n",
    "        lower_bound= max(lower_bound, guess + 1)\n",
    "        guess = int(input(f\"You guessed too low, guess a number between {lower_bound} and {upper_bound}\"))\n",
    "    guesses += 1\n",
    "    \n",
    "print (f\"Well done it only took you {guesses} guesses.\")    "
   ]
  },
  {
   "cell_type": "markdown",
   "metadata": {
    "id": "5XhqRyGB59CC"
   },
   "source": [
    "### Por supuesto, el juego es un poco aburrido si siempre es el mismo número que tienes que adivinar, entonces, ¿qué tal si usas un número aleatorio?\n",
    "### El módulo random debe importarse y luego podemos usarlo para generar un número entero aleatorio"
   ]
  },
  {
   "cell_type": "code",
   "execution_count": 4,
   "metadata": {
    "id": "D3lcHhFu59CC"
   },
   "outputs": [
    {
     "name": "stdout",
     "output_type": "stream",
     "text": [
      "150\n",
      "Guess a number between 1 and 1000100\n",
      "You guessed too low, guess a number between 101 and 1000120\n",
      "You guessed too low, guess a number between 121 and 1000150\n",
      "Well done it only took you 3 guesses.\n"
     ]
    }
   ],
   "source": [
    "import random\n",
    "# Vemos el seed the random generator.Al usar esto no importa en donde el numero random sera el mismo siempre\n",
    "\n",
    "random.seed(100)\n",
    "target = random.randint(1, 1000)\n",
    "# Vamos a ayudarnos un poco para no tener que intentar mucho timepo\n",
    "print(target)\n",
    "\n",
    "guesses = 0\n",
    "lower_bound = 1\n",
    "upper_bound = 1000\n",
    "\n",
    " \n",
    "guess = int(input(f\"Guess a number between {lower_bound} and {upper_bound}\"))\n",
    "guesses += 1\n",
    "while guess != target:\n",
    "    # print(guess, type(guess))\n",
    "    # print(target, type(target))\n",
    "\n",
    "    if guess > target:\n",
    "        upper_bound = min(upper_bound, guess - 1)\n",
    "        guess = int(input(f\"You guessed too high, guess a number between {lower_bound} and {upper_bound}\"))\n",
    "    else:\n",
    "        lower_bound= max(lower_bound, guess + 1)\n",
    "        guess = int(input(f\"You guessed too low, guess a number between {lower_bound} and {upper_bound}\"))\n",
    "    guesses += 1\n",
    "\n",
    "print (f\"Well done it only took you {guesses} guesses.\")    "
   ]
  },
  {
   "cell_type": "markdown",
   "metadata": {
    "id": "rCNCtStN59CD"
   },
   "source": [
    "###  Sin el random seed"
   ]
  },
  {
   "cell_type": "code",
   "execution_count": 5,
   "metadata": {
    "id": "weVzWhI259CD"
   },
   "outputs": [
    {
     "name": "stdout",
     "output_type": "stream",
     "text": [
      "471\n",
      "Guess a number between 1 and 100045\n",
      "You guessed too low, guess a number between 46 and 1000125\n",
      "You guessed too low, guess a number between 126 and 1000500\n",
      "You guessed too high, guess a number between 126 and 499470\n",
      "You guessed too low, guess a number between 471 and 499471\n",
      "Well done it only took you 5 guesses.\n"
     ]
    }
   ],
   "source": [
    "import random\n",
    "\n",
    "# random.seed(100)\n",
    "target = random.randint(1, 1000)\n",
    "\n",
    "print(target)\n",
    "\n",
    "guesses = 0\n",
    "lower_bound = 1\n",
    "upper_bound = 1000\n",
    "\n",
    "\n",
    "guess = int(input(f\"Guess a number between {lower_bound} and {upper_bound}\"))\n",
    "guesses += 1\n",
    "while guess != target:\n",
    "    # print(guess, type(guess))\n",
    "    # print(target, type(target))\n",
    "\n",
    "    if guess > target:\n",
    "        upper_bound = min(upper_bound, guess - 1)\n",
    "        guess = int(input(f\"You guessed too high, guess a number between {lower_bound} and {upper_bound}\"))\n",
    "    else:\n",
    "        lower_bound= max(lower_bound, guess + 1)\n",
    "        guess = int(input(f\"You guessed too low, guess a number between {lower_bound} and {upper_bound}\"))\n",
    "    guesses += 1\n",
    "\n",
    "print (f\"Well done it only took you {guesses} guesses.\")    "
   ]
  },
  {
   "cell_type": "markdown",
   "metadata": {
    "id": "rF_nUQES59CD"
   },
   "source": [
    "### Ahora reescribiremos el programa para que un usuario pueda jugar el juego una y otra vez hasta que ingrese -1"
   ]
  },
  {
   "cell_type": "code",
   "execution_count": 7,
   "metadata": {
    "id": "bpfuRwLH59CE"
   },
   "outputs": [
    {
     "ename": "IndentationError",
     "evalue": "unindent does not match any outer indentation level (<tokenize>, line 19)",
     "output_type": "error",
     "traceback": [
      "\u001b[1;36m  File \u001b[1;32m<tokenize>:19\u001b[1;36m\u001b[0m\n\u001b[1;33m    else:\u001b[0m\n\u001b[1;37m    ^\u001b[0m\n\u001b[1;31mIndentationError\u001b[0m\u001b[1;31m:\u001b[0m unindent does not match any outer indentation level\n"
     ]
    }
   ],
   "source": [
    "import random\n",
    "guess = 2000\n",
    "guesses = 0\n",
    "while guess != -1:\n",
    "    target = random.randint(1, 1000)\n",
    "    print(target)\n",
    "\n",
    "    guesses = 0\n",
    "    lower_bound = 1\n",
    "    upper_bound = 1000\n",
    "\n",
    "    guess = int(input(f\"Guess a number between {lower_bound} and {upper_bound}\"))\n",
    "    guesses += 1\n",
    "    \n",
    "    while guess != target and guess != -1:\n",
    "         if guess > target:\n",
    "            upper_bound = min(upper_bound, guess - 1)\n",
    "            guess = int(input(f\"You guessed too high, guess a number between {lower_bound} and {upper_bound}\"))\n",
    "        else:\n",
    "            lower_bound= max(lower_bound, guess + 1)\n",
    "            guess = int(input(f\"You guessed too low, guess a number between {lower_bound} and {upper_bound}\"))\n",
    "        guesses += 1\n",
    "    if guess == -1:\n",
    "        break    \n",
    "    print (f\"Well done it only took you {guesses} guesses.\")    \n",
    "\n",
    "print(\"Game ended\")"
   ]
  },
  {
   "cell_type": "markdown",
   "metadata": {
    "id": "GLRDXXhC59CE"
   },
   "source": [
    "### Última variación, queremos comparar participantes, por lo tanto, sacamos números aleatorios, pero los escribimos en un archivo.\n",
    "### Estos números se utilizarán para todos los participantes, para que podamos compararlos"
   ]
  },
  {
   "cell_type": "code",
   "execution_count": 8,
   "metadata": {
    "id": "tQe91W0N59CE",
    "outputId": "72321e77-1b9f-48b9-8a78-713080a89be2"
   },
   "outputs": [
    {
     "ename": "TypeError",
     "evalue": "write() argument must be str, not int",
     "output_type": "error",
     "traceback": [
      "\u001b[1;31m---------------------------------------------------------------------------\u001b[0m",
      "\u001b[1;31mTypeError\u001b[0m                                 Traceback (most recent call last)",
      "Input \u001b[1;32mIn [8]\u001b[0m, in \u001b[0;36m<cell line: 4>\u001b[1;34m()\u001b[0m\n\u001b[0;32m      4\u001b[0m \u001b[38;5;28;01mfor\u001b[39;00m i \u001b[38;5;129;01min\u001b[39;00m \u001b[38;5;28mrange\u001b[39m(\u001b[38;5;241m5\u001b[39m):\n\u001b[0;32m      5\u001b[0m     target \u001b[38;5;241m=\u001b[39m random\u001b[38;5;241m.\u001b[39mrandint(\u001b[38;5;241m1\u001b[39m,\u001b[38;5;241m1000\u001b[39m)\n\u001b[1;32m----> 6\u001b[0m     \u001b[43mrandom_numbers\u001b[49m\u001b[38;5;241;43m.\u001b[39;49m\u001b[43mwrite\u001b[49m\u001b[43m(\u001b[49m\u001b[43mtarget\u001b[49m\u001b[43m)\u001b[49m\n\u001b[0;32m      7\u001b[0m random_numbers\u001b[38;5;241m.\u001b[39mclose()\n",
      "\u001b[1;31mTypeError\u001b[0m: write() argument must be str, not int"
     ]
    }
   ],
   "source": [
    "import random\n",
    "random.seed(100)\n",
    "random_numbers= open('random_numbers.txt','w')\n",
    "for i in range(5):\n",
    "    target = random.randint(1,1000)\n",
    "    random_numbers.write(target)\n",
    "random_numbers.close()"
   ]
  },
  {
   "cell_type": "markdown",
   "metadata": {
    "id": "mm7ElHH359CE"
   },
   "source": [
    "### El metodo write solo puede escribir cadenas(strings)"
   ]
  },
  {
   "cell_type": "code",
   "execution_count": 9,
   "metadata": {
    "id": "Knkkay2M59CE"
   },
   "outputs": [],
   "source": [
    "import random\n",
    "random.seed(100)\n",
    "random_numbers = open('random_numbers.txt','w')\n",
    "for i in range(0,5):\n",
    "    target = str(random.randint(0,1000)) + \"\\n\"\n",
    "    random_numbers.write(target)"
   ]
  },
  {
   "cell_type": "code",
   "execution_count": 10,
   "metadata": {
    "id": "3gxDpZYZ59CF",
    "outputId": "35b8706f-88f5-4191-9327-2584383e9007"
   },
   "outputs": [
    {
     "name": "stdout",
     "output_type": "stream",
     "text": [
      "149\n",
      "Guess a number between 1 and 100025\n",
      "You guessed too low, guess a number between 26 and 1000100\n",
      "You guessed too low, guess a number between 101 and 1000140\n",
      "You guessed too low, guess a number between 141 and 1000900\n",
      "You guessed too high, guess a number between 141 and 899149\n",
      "Well done it only took you 5 guesses.\n",
      "470\n"
     ]
    },
    {
     "ename": "KeyboardInterrupt",
     "evalue": "Interrupted by user",
     "output_type": "error",
     "traceback": [
      "\u001b[1;31m---------------------------------------------------------------------------\u001b[0m",
      "\u001b[1;31mKeyboardInterrupt\u001b[0m                         Traceback (most recent call last)",
      "Input \u001b[1;32mIn [10]\u001b[0m, in \u001b[0;36m<cell line: 4>\u001b[1;34m()\u001b[0m\n\u001b[0;32m      9\u001b[0m lower_bound \u001b[38;5;241m=\u001b[39m \u001b[38;5;241m1\u001b[39m\n\u001b[0;32m     10\u001b[0m upper_bound \u001b[38;5;241m=\u001b[39m \u001b[38;5;241m1000\u001b[39m\n\u001b[1;32m---> 12\u001b[0m guess \u001b[38;5;241m=\u001b[39m \u001b[38;5;28mint\u001b[39m(\u001b[38;5;28;43minput\u001b[39;49m\u001b[43m(\u001b[49m\u001b[38;5;124;43mf\u001b[39;49m\u001b[38;5;124;43m\"\u001b[39;49m\u001b[38;5;124;43mGuess a number between \u001b[39;49m\u001b[38;5;132;43;01m{\u001b[39;49;00m\u001b[43mlower_bound\u001b[49m\u001b[38;5;132;43;01m}\u001b[39;49;00m\u001b[38;5;124;43m and \u001b[39;49m\u001b[38;5;132;43;01m{\u001b[39;49;00m\u001b[43mupper_bound\u001b[49m\u001b[38;5;132;43;01m}\u001b[39;49;00m\u001b[38;5;124;43m\"\u001b[39;49m\u001b[43m)\u001b[49m)\n\u001b[0;32m     13\u001b[0m guesses \u001b[38;5;241m+\u001b[39m\u001b[38;5;241m=\u001b[39m \u001b[38;5;241m1\u001b[39m\n\u001b[0;32m     15\u001b[0m \u001b[38;5;28;01mwhile\u001b[39;00m guess \u001b[38;5;241m!=\u001b[39m target \u001b[38;5;129;01mand\u001b[39;00m guess \u001b[38;5;241m!=\u001b[39m \u001b[38;5;241m-\u001b[39m\u001b[38;5;241m1\u001b[39m:\n",
      "File \u001b[1;32m~\\anaconda3\\lib\\site-packages\\ipykernel\\kernelbase.py:1075\u001b[0m, in \u001b[0;36mKernel.raw_input\u001b[1;34m(self, prompt)\u001b[0m\n\u001b[0;32m   1071\u001b[0m \u001b[38;5;28;01mif\u001b[39;00m \u001b[38;5;129;01mnot\u001b[39;00m \u001b[38;5;28mself\u001b[39m\u001b[38;5;241m.\u001b[39m_allow_stdin:\n\u001b[0;32m   1072\u001b[0m     \u001b[38;5;28;01mraise\u001b[39;00m StdinNotImplementedError(\n\u001b[0;32m   1073\u001b[0m         \u001b[38;5;124m\"\u001b[39m\u001b[38;5;124mraw_input was called, but this frontend does not support input requests.\u001b[39m\u001b[38;5;124m\"\u001b[39m\n\u001b[0;32m   1074\u001b[0m     )\n\u001b[1;32m-> 1075\u001b[0m \u001b[38;5;28;01mreturn\u001b[39;00m \u001b[38;5;28;43mself\u001b[39;49m\u001b[38;5;241;43m.\u001b[39;49m\u001b[43m_input_request\u001b[49m\u001b[43m(\u001b[49m\n\u001b[0;32m   1076\u001b[0m \u001b[43m    \u001b[49m\u001b[38;5;28;43mstr\u001b[39;49m\u001b[43m(\u001b[49m\u001b[43mprompt\u001b[49m\u001b[43m)\u001b[49m\u001b[43m,\u001b[49m\n\u001b[0;32m   1077\u001b[0m \u001b[43m    \u001b[49m\u001b[38;5;28;43mself\u001b[39;49m\u001b[38;5;241;43m.\u001b[39;49m\u001b[43m_parent_ident\u001b[49m\u001b[43m[\u001b[49m\u001b[38;5;124;43m\"\u001b[39;49m\u001b[38;5;124;43mshell\u001b[39;49m\u001b[38;5;124;43m\"\u001b[39;49m\u001b[43m]\u001b[49m\u001b[43m,\u001b[49m\n\u001b[0;32m   1078\u001b[0m \u001b[43m    \u001b[49m\u001b[38;5;28;43mself\u001b[39;49m\u001b[38;5;241;43m.\u001b[39;49m\u001b[43mget_parent\u001b[49m\u001b[43m(\u001b[49m\u001b[38;5;124;43m\"\u001b[39;49m\u001b[38;5;124;43mshell\u001b[39;49m\u001b[38;5;124;43m\"\u001b[39;49m\u001b[43m)\u001b[49m\u001b[43m,\u001b[49m\n\u001b[0;32m   1079\u001b[0m \u001b[43m    \u001b[49m\u001b[43mpassword\u001b[49m\u001b[38;5;241;43m=\u001b[39;49m\u001b[38;5;28;43;01mFalse\u001b[39;49;00m\u001b[43m,\u001b[49m\n\u001b[0;32m   1080\u001b[0m \u001b[43m\u001b[49m\u001b[43m)\u001b[49m\n",
      "File \u001b[1;32m~\\anaconda3\\lib\\site-packages\\ipykernel\\kernelbase.py:1120\u001b[0m, in \u001b[0;36mKernel._input_request\u001b[1;34m(self, prompt, ident, parent, password)\u001b[0m\n\u001b[0;32m   1117\u001b[0m             \u001b[38;5;28;01mbreak\u001b[39;00m\n\u001b[0;32m   1118\u001b[0m \u001b[38;5;28;01mexcept\u001b[39;00m \u001b[38;5;167;01mKeyboardInterrupt\u001b[39;00m:\n\u001b[0;32m   1119\u001b[0m     \u001b[38;5;66;03m# re-raise KeyboardInterrupt, to truncate traceback\u001b[39;00m\n\u001b[1;32m-> 1120\u001b[0m     \u001b[38;5;28;01mraise\u001b[39;00m \u001b[38;5;167;01mKeyboardInterrupt\u001b[39;00m(\u001b[38;5;124m\"\u001b[39m\u001b[38;5;124mInterrupted by user\u001b[39m\u001b[38;5;124m\"\u001b[39m) \u001b[38;5;28;01mfrom\u001b[39;00m \u001b[38;5;28mNone\u001b[39m\n\u001b[0;32m   1121\u001b[0m \u001b[38;5;28;01mexcept\u001b[39;00m \u001b[38;5;167;01mException\u001b[39;00m:\n\u001b[0;32m   1122\u001b[0m     \u001b[38;5;28mself\u001b[39m\u001b[38;5;241m.\u001b[39mlog\u001b[38;5;241m.\u001b[39mwarning(\u001b[38;5;124m\"\u001b[39m\u001b[38;5;124mInvalid Message:\u001b[39m\u001b[38;5;124m\"\u001b[39m, exc_info\u001b[38;5;241m=\u001b[39m\u001b[38;5;28;01mTrue\u001b[39;00m)\n",
      "\u001b[1;31mKeyboardInterrupt\u001b[0m: Interrupted by user"
     ]
    }
   ],
   "source": [
    "random_numbers = open('random_numbers.txt','r')\n",
    "rounds = 0\n",
    "total_guesses = 0\n",
    "for target in random_numbers:\n",
    "    target = int(target)\n",
    "    print(target)\n",
    "\n",
    "    guesses = 0\n",
    "    lower_bound = 1\n",
    "    upper_bound = 1000\n",
    "\n",
    "    guess = int(input(f\"Guess a number between {lower_bound} and {upper_bound}\"))\n",
    "    guesses += 1\n",
    "    \n",
    "    while guess != target and guess != -1:\n",
    "        if guess > target:\n",
    "            upper_bound = min(upper_bound, guess - 1)\n",
    "            guess = int(input(f\"You guessed too high, guess a number between {lower_bound} and {upper_bound}\"))\n",
    "        else:\n",
    "            lower_bound= max(lower_bound, guess + 1)\n",
    "            guess = int(input(f\"You guessed too low, guess a number between {lower_bound} and {upper_bound}\"))\n",
    "        guesses += 1\n",
    "    if guess == -1:\n",
    "        break\n",
    "    print (f\"Well done it only took you {guesses} {'guesses' if guesses > 1 else 'guess'}.\")\n",
    "    \n",
    "    total_guesses += guesses\n",
    "    rounds += 1\n",
    "print(f\"Game ended, you played {rounds} {'rounds' if rounds > 1 else 'round'} and it took you in total {total_guesses} {'guesses' if total_guesses > 1 else 'guess'}\")\n",
    "# result = 'rounds' if rounds > 1 else 'round' is a shortcut for\n",
    "# if rounds > 1:\n",
    "#     result = 'rounds'\n",
    "# else:\n",
    "#     result = 'round'\n",
    "      \n",
    "random_numbers.close()                             "
   ]
  },
  {
   "cell_type": "markdown",
   "metadata": {
    "id": "LkHzrdMp59CF"
   },
   "source": [
    "### Podemos usar sqlite database"
   ]
  },
  {
   "cell_type": "code",
   "execution_count": 11,
   "metadata": {
    "id": "r3xsG3tf59CF",
    "outputId": "0d3bc774-f006-497a-c35a-19f0cbb73001"
   },
   "outputs": [
    {
     "name": "stdout",
     "output_type": "stream",
     "text": [
      "[('1', '149'), ('2', '470'), ('3', '465'), ('4', '974'), ('5', '789')]\n"
     ]
    }
   ],
   "source": [
    "import random\n",
    "random.seed(100)\n",
    "\n",
    "# Here we use a so-called list comprehension, this is a short cut for a for loop in the cell below I will show you\n",
    "# what the for loop would look like that is replaced by the list comprehension\n",
    "random_numbers = [(str(index + 1), str(random.randint(0,1000))) for index in range(5)]\n",
    "print(random_numbers)\n",
    "# This is a short-cut for\n",
    "# random_numbers=[]\n",
    "# for index in range(5):\n",
    "#     random_numbers.append((str(index + 1), str(random.randint(0,1000))))\n",
    "# print(random_numbers)\n",
    "\n",
    "# To use a sqlite3 database you need to import the sqlite3 package\n",
    "import sqlite3\n",
    "\n",
    "# You have to make a connection to the database\n",
    "connection = sqlite3.connect('random numbers.db')\n",
    "\n",
    "# You have to create a cursor object, while with text files you only needed to muse an open function, here you need two functions\n",
    "# the connect function and the cursor function\n",
    "cursor = connection.cursor()\n",
    "\n",
    "# Delete table, I always do this. First I delete the table if it exists and only then I create a table. Creating a table\n",
    "# that already exists always gives errors. In this way avoid that\n",
    "cursor.execute('DROP TABLE IF EXISTS numbers')\n",
    "\n",
    "# Create table, you always have to create tables. While we just could store data in the txt file, you cannot do that \n",
    "# with a database. The data has to be stored in tables inside the database\n",
    "cursor.execute('CREATE TABLE numbers (index_number text, number text)')\n",
    "\n",
    "# fill table with values, the executemany function executes the same statement for all the tuples in the random_numbers list. \n",
    "# The elements inside the tuple replace the question marks\n",
    "cursor.executemany('INSERT INTO numbers VALUES (?, ?)', random_numbers)\n",
    "# This is a short-cut for\n",
    "# for random_number in random_numbers:\n",
    "#     cursor.execute(f'INSERT INTO numbers VALUES ({random_number[0]}, {random_number[1]})')\n",
    "\n",
    "# Save (commit) the changes\n",
    "connection.commit()\n",
    "# Just be sure any changes have been committed or they will be lost.\n",
    "\n",
    "# We can also close the connection if we are done with it.\n",
    "connection.close()"
   ]
  },
  {
   "cell_type": "code",
   "execution_count": null,
   "metadata": {
    "id": "4nuSxaBd59CG",
    "outputId": "0151a7c6-c78d-48d8-e8be-7e89f2040663"
   },
   "outputs": [
    {
     "name": "stdout",
     "output_type": "stream",
     "text": [
      "[('1', '149'), ('2', '470'), ('3', '465'), ('4', '974'), ('5', '789')]\n",
      "[149, 470, 465, 974, 789]\n",
      "149\n",
      "Guess a number between 1 and 1000-1\n",
      "Game ended, you played 0 rounds and it took you in total 0 guesses\n"
     ]
    }
   ],
   "source": [
    "import sqlite3\n",
    "# Make connection\n",
    "#connection = sqlite3.connect(\":memory:\")\n",
    "connection = sqlite3.connect('random numbers.db')\n",
    "# create cursor\n",
    "cursor = connection.cursor()\n",
    "# read table\n",
    "cursor.execute(\"SELECT * FROM numbers\")\n",
    "# Put result in table\n",
    "rows = cursor.fetchall()\n",
    "print (rows)\n",
    "random_numbers = [int(row[1]) for row in rows]\n",
    "print (random_numbers)\n",
    "\n",
    "# We can also close the connection if we are done with it.\n",
    "# Just be sure any changes have been committed or they will be lost.\n",
    "connection.close()\n",
    "\n",
    "rounds = 0\n",
    "total_guesses = 0\n",
    "for target in random_numbers:\n",
    "    target = int(target)\n",
    "    print(target)\n",
    "\n",
    "    guesses = 0\n",
    "    lower_bound = 1\n",
    "    upper_bound = 1000\n",
    "\n",
    "    guess = int(input(f\"Guess a number between {lower_bound} and {upper_bound}\"))\n",
    "    guesses += 1\n",
    "    \n",
    "    while guess != target and guess != -1:\n",
    "        if guess > target:\n",
    "            upper_bound = min(upper_bound, guess - 1)\n",
    "            guess = int(input(f\"You guessed too high, guess a number between {lower_bound} and {upper_bound}\"))\n",
    "        else:\n",
    "            lower_bound= max(lower_bound, guess + 1)\n",
    "            guess = int(input(f\"You guessed too low, guess a number between {lower_bound} and {upper_bound}\"))\n",
    "        guesses += 1\n",
    "    if guess == -1:\n",
    "        break\n",
    "    print (f\"Well done it only took you {guesses} {'guesses' if guesses > 1 else 'guess'}.\")\n",
    "    \n",
    "    total_guesses += guesses\n",
    "    rounds += 1\n",
    "print(f\"Game ended, you played {rounds} rounds and it took you in total {total_guesses} guesses\")\n"
   ]
  },
  {
   "cell_type": "markdown",
   "metadata": {
    "id": "RfUUxQ-s59CG"
   },
   "source": [
    "### Usar una base de datos para almacenar 5 enteros es una exageración, pero si tiene más datos y los datos están relacionados, las bases de datos son una excelente manera. Por ejemplo, un banco podría tener una tabla de clientes y una tabla con cuentas, y como hay una relación entre clientes y cuentas, usar una base de datos es una buena idea."
   ]
  },
  {
   "cell_type": "markdown",
   "metadata": {
    "id": "sLbZinNi59CG"
   },
   "source": [
    "# ¿Qué son los condicionales y qué son los bucles?\n",
    "* ## Los condicionales, dirige el orden de ejecución de los codigos en tu programa. Básicamente, hace que la ejecución de un bloque de código sea condicional, y usted le dice a Python a través de su programa bajo qué condiciones debe ejecutar ese bloque de código.\n",
    "* ## Bucles, repite un bloque de código (un conjunto de instrucciones) una y otra vez hasta que se cumpla una determinada condición, y le dices a Python a través de tu programa cuál es esta condición\n",
    "* ## For-loop, la condición es implícita, básicamente le dices al programa que repita un bloque de código siempre que una secuencia produzca (genere) elementos, y le dices al programa qué secuencia usar\n",
    " \n",
    "* ## while-loop, repite un bloque de código siempre que se cumpla una determinada condición, y le dices a Python a través de tu programa cuál es esta condición"
   ]
  },
  {
   "cell_type": "markdown",
   "metadata": {
    "id": "ITX1oZBq59CG"
   },
   "source": [
    "# Conditionales "
   ]
  },
  {
   "cell_type": "markdown",
   "metadata": {
    "id": "OlmNF67559CG"
   },
   "source": [
    "## If clause     "
   ]
  },
  {
   "cell_type": "markdown",
   "metadata": {
    "id": "g8Fvpw0W59CH"
   },
   "source": [
    "### Sintaxis\n",
    "```python\n",
    "if <condicion>:\n",
    "    <statement-1>  # En los bloques de código de Python, las declaraciones if tienen que indentados(sangria)\n",
    "    <statement-2>  # Las declaraciones que se ejecutarán secuencialmente deben indentarse exactamente de la misma manera\n",
    "    ...            # Aunque a Python no le importa, es una buena práctica indentar siempre en múltiplos de 4 espacios\n",
    "                   # El uso de tab no es normalmente utilizado , es considerado como un mal uso pero funciona de todas formas\n",
    "                   # En resumen, siempre vaya a la siguiente línea y tome 4 espacios después de dos puntos en una declaración\n",
    "```\n",
    "### Sintaxis Alternativo\n",
    "```python\n",
    "if <condicion>: <statement-1>; <statement-2>; ... \n",
    "```"
   ]
  },
  {
   "cell_type": "code",
   "execution_count": 12,
   "metadata": {
    "id": "Czq7erNs59CH",
    "outputId": "d412d3ff-e987-432f-ceb7-200f437f2a5b"
   },
   "outputs": [
    {
     "name": "stdout",
     "output_type": "stream",
     "text": [
      "integer_1 is greater than 1\n",
      "no\n",
      "sí\n",
      "también\n",
      "lo que sobra\n"
     ]
    }
   ],
   "source": [
    "integer_1 = 2\n",
    "if integer_1 > 1:\n",
    "    print(\"integer_1 is greater than 1\")\n",
    "else:\n",
    "    print(\"integer_1 is not greater than 1\")\n",
    "    \n",
    "cadena=\"prueba\"\n",
    "if cadena!=\"prueba\":\n",
    "    print(\"si\")\n",
    "else:\n",
    "    print(\"no\")\n",
    "    \n",
    "número=100\n",
    "if número>50:\n",
    "    print(\"sí\")\n",
    "if número==100:\n",
    "    print(\"también\")\n",
    "if número<10:\n",
    "    print(\"este no\")\n",
    "else:\n",
    "    print(\"lo que sobra\")\n",
    "#Un else corresponde a un solo if"
   ]
  },
  {
   "cell_type": "code",
   "execution_count": 13,
   "metadata": {
    "id": "i6nhV7-e59CH",
    "outputId": "6275b242-d4a3-4aa7-ebba-d7fe2f4fa96e"
   },
   "outputs": [
    {
     "name": "stdout",
     "output_type": "stream",
     "text": [
      "integer_1 is greater than 1\n"
     ]
    }
   ],
   "source": [
    "integer_1 = 2\n",
    "if integer_1 > 1:print(\"integer_1 is greater than 1\")"
   ]
  },
  {
   "cell_type": "markdown",
   "metadata": {
    "id": "E3OO8MrW59CH"
   },
   "source": [
    "### Else condicional"
   ]
  },
  {
   "cell_type": "markdown",
   "metadata": {
    "id": "FOXqs4yG59CH"
   },
   "source": [
    "#### Sintaxis\n",
    "```python\n",
    "if <condicion>:\n",
    "    <statement-1>\n",
    "    <statement-2>\n",
    "    ...\n",
    "else:     #Solo se ejecuta este codigo si es que lo de arriba es falso\n",
    "    <statement-3>\n",
    "    <statement-4>\n",
    "    ...\n",
    "    \n",
    "(Lazy evaluation significa que Python solo ejecuta declaraciones cuando es necesario. Por lo tanto, puede encontrar un error en una parte de un programa después de años, ya que esa parte del programa nunca se ejecutó antes y, por lo tanto, nunca se encontró el error)\n",
    "    \n",
    "```\n",
    "####  Sintaxis Alternativo\n",
    "```python\n",
    "if <condition>: <statement-1>; <statement-2>; ... \n",
    "else: <statement-1>; <statement-2>; ... \n",
    "```"
   ]
  },
  {
   "cell_type": "code",
   "execution_count": 14,
   "metadata": {
    "id": "8bv-uQGA59CH",
    "outputId": "329417c5-345a-4610-8360-a8c0570c311e"
   },
   "outputs": [
    {
     "name": "stdout",
     "output_type": "stream",
     "text": [
      "integer_1 is greater than 1\n"
     ]
    }
   ],
   "source": [
    "integer_1 = 2\n",
    "if integer_1 > 1:\n",
    "    print(\"integer_1 is greater than 1\")\n",
    "else:\n",
    "    print(\"integer_1 is not greater than 1\")"
   ]
  },
  {
   "cell_type": "code",
   "execution_count": 15,
   "metadata": {
    "id": "NkbAbwOv59CH",
    "outputId": "e8f6b398-159d-4155-a0a8-74845e71c738"
   },
   "outputs": [
    {
     "name": "stdout",
     "output_type": "stream",
     "text": [
      "integer_1 is not greater than 1\n"
     ]
    }
   ],
   "source": [
    "integer_1 = 0\n",
    "if integer_1 > 1:\n",
    "    print(\"integer_1 is greater than 1\")\n",
    "else:\n",
    "    print(\"integer_1 is not greater than 1\")"
   ]
  },
  {
   "cell_type": "markdown",
   "metadata": {
    "id": "I-PlE2RZ59CI"
   },
   "source": [
    "### Elif condicional"
   ]
  },
  {
   "cell_type": "markdown",
   "metadata": {
    "id": "6vZqVKwg59CI"
   },
   "source": [
    "#### Sintaxis\n",
    "```python\n",
    "if <condicion-1>:\n",
    "    <statement-1>\n",
    "    <statement-2>\n",
    "    ...\n",
    "elif <condition-2>:  # Solo se llega a un elif si todas las demas condiciones han sido falsas\n",
    "    <statement-3>\n",
    "    <statement-4>\n",
    "    ...\n",
    "elif <condition-3>:\n",
    "    <statement-5>\n",
    "    <statement-6>\n",
    "    ...\n",
    "...\n",
    "else:                # SOlo se llega a la clasuala else si es que todas las condiciones son falsas\n",
    "    <statement-7>    \n",
    "    <statement-8>\n",
    "    ...\n",
    "```\n"
   ]
  },
  {
   "cell_type": "markdown",
   "metadata": {
    "id": "lpcLOv2O59CI"
   },
   "source": [
    "#### Ejemplos"
   ]
  },
  {
   "cell_type": "code",
   "execution_count": 16,
   "metadata": {
    "id": "C1SRKc3K59CI",
    "outputId": "136ba408-37d7-45e5-d8fa-467fcccc141f"
   },
   "outputs": [
    {
     "name": "stdout",
     "output_type": "stream",
     "text": [
      "La edad no es 60 ni 61\n",
      "integer_1 es mayor que 1\n",
      "no\n"
     ]
    }
   ],
   "source": [
    "age = 59\n",
    "if age == 60:\n",
    "    print(\"Edad es 60\")\n",
    "elif age == 61:\n",
    "    print (\"Edad es 61\")\n",
    "else:\n",
    "    print (\"La edad no es 60 ni 61\")\n",
    "    \n",
    "integer_1=100\n",
    "if integer_1<5:\n",
    "    print(\"integer_1 es igual a 0\")\n",
    "elif integer_1>1:\n",
    "    print (\"integer_1 es mayor que 1\")\n",
    "if integer_1==100:\n",
    "    print(\"no\")\n",
    "    \n",
    "#Cuando se usa el elif se deja de imprimir lo demás"
   ]
  },
  {
   "cell_type": "code",
   "execution_count": 17,
   "metadata": {
    "id": "BQfwe0kr59CI"
   },
   "outputs": [
    {
     "name": "stdout",
     "output_type": "stream",
     "text": [
      "integer_1 es igual a 0\n"
     ]
    }
   ],
   "source": [
    "integer_1 = 0\n",
    "if integer_1 == 0:\n",
    "    print(\"integer_1 es igual a 0\")\n",
    "elif integer_1 > 1:\n",
    "    print(\"integer_1 es mayor que 1\")\n",
    "else:\n",
    "    print(\"integer_1 no es mayor que 1\")"
   ]
  },
  {
   "cell_type": "markdown",
   "metadata": {
    "id": "x758klTE59CI"
   },
   "source": [
    "## bucles For-loop\n",
    "### Los bucles for-loop iteran sobre una secuencia\n",
    "#### Una secuencia puede ser una cadena, una colección (como una lista, una tupla, un diccionario, un conjunto) o un objeto especial (como un objeto de rango, un objeto de enumeración, un objeto zip)\n",
    "#### La diferencia entre las colecciones (y cadenas) y los últimos objetos especiales mencionados es que las colecciones (y cadenas) son secuencias que están completamente almacenadas en la memoria de la computadora. Los objetos range, enumerate y zip son objetos especiales que liberan un valor uno por uno. El almacenamiento que toman estos objetos lo toma una función que genera la secuencia y un estado que describe lo que estaba haciendo el objeto especial en el momento en que entregó un valor.\n",
    "#### Una función normal genera un valor (por ejemplo, una lista) y después de esa generación, toda la función desaparece de la memoria de la computadora. Si se vuelve a llamar es como si se llamara a la función por primera vez\n",
    "#### Un objeto generador permanece en la memoria, como una computadora en hibernación. Si una computadora está en hibernación, simplemente comienza de nuevo donde se quedó, un objeto generador también sabe exactamente dónde estaba cuando se lo vuelve a llamar.\n",
    "#### La ventaja es que solo tiene que almacenar la función que produce los valores y no toda la lista resultante. Esto puede ahorrar mucho espacio en la memoria.\n",
    "#### Técnicamente, esto se hace mediante la declaración de rendimiento. La próxima semana discutiremos las funciones y le mostraremos cómo usar la declaración de rendimiento usted mismo."
   ]
  },
  {
   "cell_type": "markdown",
   "metadata": {
    "id": "nkr-0q7159CI"
   },
   "source": [
    "#### Sinataxis\n",
    "```python\n",
    "for <name> in <string|list|tuple|set|dictionary|range object|enumerate object|zip object>:\n",
    "    <statement-1>\n",
    "    <statement-2>\n",
    "    ...\n",
    "else:                # condicional else es opcionl     \n",
    "    <statement-3>    # Todos estos statements son ejecutados a menos que haya un break o ser termine el bucle\n",
    "    <statement-4>    \n",
    "    ...\n",
    "<|> : Significa or \n",
    "<statement-1> and <statement-2> pueden ser <break> or <continue>\n",
    "<break> para el bucle and el programa se ejcuta una sola vez\n",
    "<continue> para las iteraciones y ejecuta la siguiente iteracion y se acaba\n",
    "```"
   ]
  },
  {
   "cell_type": "markdown",
   "metadata": {
    "id": "2ONGVgc159CI"
   },
   "source": [
    "### For-loop iterando sobre una cadena o string"
   ]
  },
  {
   "cell_type": "code",
   "execution_count": 18,
   "metadata": {
    "id": "CLTH-FEa59CI",
    "outputId": "3e8d2133-f0d7-4992-ea51-b1866432da25"
   },
   "outputs": [
    {
     "name": "stdout",
     "output_type": "stream",
     "text": [
      "no encontré\n",
      "Ready\n"
     ]
    }
   ],
   "source": [
    "string_1 = 'abcd'\n",
    "\n",
    "for letra in string_1:\n",
    "    if letra == 'e':\n",
    "        print('encontré')\n",
    "        break\n",
    "else:\n",
    "    print(\"no encontré\")\n",
    "\n",
    "print(\"Ready\")    "
   ]
  },
  {
   "cell_type": "code",
   "execution_count": 19,
   "metadata": {
    "id": "45yidAVZ59CJ",
    "outputId": "9fb305af-b297-4233-b2c8-09dc7010f0dd"
   },
   "outputs": [
    {
     "name": "stdout",
     "output_type": "stream",
     "text": [
      "a\n",
      "b\n",
      "Found it\n",
      "Ready\n"
     ]
    }
   ],
   "source": [
    "string_1  =  'abcd'\n",
    "for character in string_1:\n",
    "    print(character)\n",
    "    if character  ==  'b':\n",
    "        print('Found it')\n",
    "        break\n",
    "else:\n",
    "    print('Didn\\'t find it')\n",
    "print('Ready')    \n",
    "#cuando se usa el break se deja de correr las siguientes líneas"
   ]
  },
  {
   "cell_type": "code",
   "execution_count": 20,
   "metadata": {
    "id": "XmfWaHd659CJ",
    "outputId": "3d6267b3-0c56-4607-8f33-ca14d3e18346"
   },
   "outputs": [
    {
     "name": "stdout",
     "output_type": "stream",
     "text": [
      "Didn't find it\n",
      "Didn't find it\n",
      "Didn't find it\n",
      "Didn't find it\n",
      "Ready\n"
     ]
    }
   ],
   "source": [
    "string_1  =  'abcd'\n",
    "for character in string_1:\n",
    "    if character  ==  'e':\n",
    "        print('Found it')\n",
    "        break\n",
    "    else:\n",
    "        print('Didn\\'t find it')\n",
    "print('Ready')    "
   ]
  },
  {
   "cell_type": "markdown",
   "metadata": {
    "id": "AFZNhbUn59CJ"
   },
   "source": [
    "#### For-loop iterando sobre un contenedor (lista, tupla, conjunto, diccionario)\n",
    "#### Tenga en cuenta que iterar sobre un diccionario puede ser un poco confuso:\n",
    "* #### Si solo iteras sobre el diccionario, en realidad iteras sobre las keys\n",
    "* #### Si desea iterar sobre los valores del diccionario, debe usar el método de values()\n",
    "* #### Si desea iterar sobre los elementos del diccionario (las combinaciones de key y valor), debe usar el método items()"
   ]
  },
  {
   "cell_type": "code",
   "execution_count": 21,
   "metadata": {
    "id": "xHJKRA9c59CJ",
    "outputId": "8a105a32-ceb2-4ba4-ce75-e09ecbe3d7de"
   },
   "outputs": [
    {
     "name": "stdout",
     "output_type": "stream",
     "text": [
      "Found it\n",
      "ready\n"
     ]
    }
   ],
   "source": [
    "list_1  =  ['a', 'b', 'c', 'd']\n",
    "for character in list_1:\n",
    "    if character  ==  'b':\n",
    "        print('Found it')\n",
    "        break\n",
    "else:\n",
    "    print('Didn\\'t find it')\n",
    "print('ready')    "
   ]
  },
  {
   "cell_type": "code",
   "execution_count": 22,
   "metadata": {
    "id": "NNqGp05K59CJ",
    "outputId": "20d4d600-5c0c-4848-e3a0-9af6b3ed9c8a"
   },
   "outputs": [
    {
     "name": "stdout",
     "output_type": "stream",
     "text": [
      "Didn't find it\n",
      "ready\n"
     ]
    }
   ],
   "source": [
    "tuple_1  =  'a', 'b', 'c', 'd'\n",
    "for character in tuple_1:\n",
    "    if character  ==  'e':\n",
    "        print('Found it')\n",
    "        break\n",
    "else:\n",
    "    print('Didn\\'t find it')\n",
    "print('ready')    "
   ]
  },
  {
   "cell_type": "code",
   "execution_count": 23,
   "metadata": {
    "id": "dIBcBUW559CJ",
    "outputId": "3976569e-5773-4b0e-bea9-107aface5eec"
   },
   "outputs": [
    {
     "name": "stdout",
     "output_type": "stream",
     "text": [
      "c\n",
      "a\n",
      "Found it\n",
      "ready\n"
     ]
    }
   ],
   "source": [
    "set_1  =  {'a', 'b', 'c', 'd'}\n",
    "for character in set_1:\n",
    "    print(character)\n",
    "    if character  ==  'a':\n",
    "        print('Found it')\n",
    "        break\n",
    "else:\n",
    "    print('Didn\\'t find it')\n",
    "print('ready')    "
   ]
  },
  {
   "cell_type": "code",
   "execution_count": 24,
   "metadata": {
    "id": "DHrahQSe59CJ",
    "outputId": "8ec96fd1-b245-4209-d9d7-fe0ef79d73ed"
   },
   "outputs": [
    {
     "name": "stdout",
     "output_type": "stream",
     "text": [
      "Found it\n",
      "ready\n"
     ]
    }
   ],
   "source": [
    "dictionary_1  =  {1:'a', 2:'b', 3:'c', 4:'d'}\n",
    "for character in dictionary_1:\n",
    "    if character  ==  1:\n",
    "        print('Found it')\n",
    "        break\n",
    "else:\n",
    "    print('dictionary_1idn\\'t find it')\n",
    "print('ready')"
   ]
  },
  {
   "cell_type": "code",
   "execution_count": 25,
   "metadata": {
    "id": "p53a1V1Y59CJ",
    "outputId": "a9ca0a32-f7b5-4ce6-9a3b-098c77cbe058"
   },
   "outputs": [
    {
     "name": "stdout",
     "output_type": "stream",
     "text": [
      "1\n",
      "2\n",
      "3\n",
      "4\n",
      "a\n",
      "b\n",
      "c\n",
      "d\n"
     ]
    }
   ],
   "source": [
    "dictionary_1  =  {1:'a', 2:'b', 3:'c', 4:'d'}\n",
    "for valores_dict in dictionary_1:\n",
    "    print(valores_dict)\n",
    "    \n",
    "dictionary_1  =  {1:'a', 2:'b', 3:'c', 4:'d'}\n",
    "for valores_dict in dictionary_1.values():\n",
    "    print(valores_dict)"
   ]
  },
  {
   "cell_type": "code",
   "execution_count": 26,
   "metadata": {
    "id": "p_YqTA3d59CJ",
    "outputId": "44460d2c-20d8-4d9b-82e6-009832698203"
   },
   "outputs": [
    {
     "name": "stdout",
     "output_type": "stream",
     "text": [
      "Found it\n",
      "ready\n"
     ]
    }
   ],
   "source": [
    "dictionary_1  =  {1:'a', 2:'b', 3:'c', 4:'d'}\n",
    "for character in dictionary_1.keys():\n",
    "    if character  ==  1:\n",
    "        print('Found it')\n",
    "        break\n",
    "else:\n",
    "    print('dictionary_1idn\\'t find it')\n",
    "print('ready')"
   ]
  },
  {
   "cell_type": "code",
   "execution_count": 27,
   "metadata": {
    "id": "EYsC2kOW59CK",
    "outputId": "0f6bece9-377a-4635-912a-5aaeda91f872"
   },
   "outputs": [
    {
     "name": "stdout",
     "output_type": "stream",
     "text": [
      "dictionary_1idn't find it\n",
      "ready\n"
     ]
    }
   ],
   "source": [
    "dictionary_1  =  {1:'a', 2:'b', 3:'c', 4:'d'}\n",
    "for character in dictionary_1.values():\n",
    "    if character  ==  'e':\n",
    "        print('Found it')\n",
    "        break\n",
    "else:\n",
    "    print('dictionary_1idn\\'t find it')\n",
    "print('ready')"
   ]
  },
  {
   "cell_type": "code",
   "execution_count": 28,
   "metadata": {
    "id": "_W7mGmbY59CK",
    "outputId": "ae5db803-99fd-42ad-856e-a0011bd206df"
   },
   "outputs": [
    {
     "name": "stdout",
     "output_type": "stream",
     "text": [
      "Found it, character b has key 2\n",
      "ready\n"
     ]
    }
   ],
   "source": [
    "dictionary_1  =  {1:'a', 2:'b', 3:'c', 4:'d'}\n",
    "for key, character in dictionary_1.items():\n",
    "    if character  ==  'b':\n",
    "        print(f'Found it, character {character} has key {key}')\n",
    "        break\n",
    "else:\n",
    "    print('dictionary_1idn\\'t find it')\n",
    "print('ready')"
   ]
  },
  {
   "cell_type": "markdown",
   "metadata": {
    "id": "yLjrnKD159CK"
   },
   "source": [
    "### For loop iterando sobre un rango"
   ]
  },
  {
   "cell_type": "markdown",
   "metadata": {
    "id": "TErD-iyB59CK"
   },
   "source": [
    "#### ¿Qué es un rango?\n",
    "#### Puede comparar un rango con una porción de una lista, como puede ver en los siguientes ejemplos. La diferencia es que una porción de una lista se almacenará completa como un nuevo objeto de lista en la memoria de la computadora, mientras que un objeto de rango no almacena todos los valores a la vez en la memoria, pero cada vez que se usa entregará el siguiente valor."
   ]
  },
  {
   "cell_type": "markdown",
   "metadata": {
    "id": "AbKu2r5959CK"
   },
   "source": [
    "#### Sintaxis\n",
    "```python\n",
    "for <variable> in range(<start><end><step>):\n",
    "    <statement-1>\n",
    "    <statement-2>\n",
    "    ...\n",
    "else:                    \n",
    "    <statement-3>    \n",
    "    <statement-3>    \n",
    "    ...\n",
    "<start><end><step> funciona exactamente como recortar una cadena o una lista, etc, asi que si quieres revisa otra vez y acuerdate que el valor final no esta incluido. Hay los mismos datos par <empezar> y <step>. Por default el inicio es 0, para step es 1.para el final no hay default asi que un obheto range necesita al menos un valor\n",
    "\n",
    "```"
   ]
  },
  {
   "cell_type": "code",
   "execution_count": 29,
   "metadata": {
    "id": "_umQDwz059CK",
    "outputId": "2c82fba3-9cb0-4d33-ca15-788ab22b7695"
   },
   "outputs": [
    {
     "name": "stdout",
     "output_type": "stream",
     "text": [
      "<class 'range'> range(2, 8, 2)\n"
     ]
    }
   ],
   "source": [
    "range_1 = range(2, 8, 2) \n",
    "print(type(range_1), range_1)"
   ]
  },
  {
   "cell_type": "code",
   "execution_count": 30,
   "metadata": {
    "id": "JdSGiklc59CK",
    "outputId": "1415c1e8-aaaf-46fa-c2d9-58bd3e32b5e6"
   },
   "outputs": [
    {
     "name": "stdout",
     "output_type": "stream",
     "text": [
      "[2, 4, 6]\n"
     ]
    }
   ],
   "source": [
    "print(list(range_1))\n",
    "#El paso end no se incluye, para que se incluya el 8 se debería poner un 9 o un 10"
   ]
  },
  {
   "cell_type": "code",
   "execution_count": 31,
   "metadata": {
    "id": "1UbigqWx59CK",
    "outputId": "664fd3c4-7887-4b1f-8860-38a8b1abb088"
   },
   "outputs": [
    {
     "name": "stdout",
     "output_type": "stream",
     "text": [
      "True\n"
     ]
    }
   ],
   "source": [
    "list_1 = [0, 1, 2, 3, 4, 5, 6, 7, 8, 9, 10]\n",
    "print(list(range(2, 8, 2)) == list_1[2:8:2])"
   ]
  },
  {
   "cell_type": "code",
   "execution_count": 32,
   "metadata": {
    "id": "Gntmhn-p59CK",
    "outputId": "b192c9b5-dccf-4837-e87b-e3a6d2b81dbd"
   },
   "outputs": [
    {
     "name": "stdout",
     "output_type": "stream",
     "text": [
      "True\n"
     ]
    }
   ],
   "source": [
    "print(list(range(2, 4, 2)) == [0, 1, 2, 3, 4, 5, 6, 7, 8, 9, 10][2:4:2])"
   ]
  },
  {
   "cell_type": "markdown",
   "metadata": {
    "id": "acZzC9wk59CL"
   },
   "source": [
    "#### Puede usar la iteración en un rango si sabe exactamente cuántas veces desea ejecutar el bloque de codificación"
   ]
  },
  {
   "cell_type": "markdown",
   "metadata": {
    "id": "Lus_uKli59CL"
   },
   "source": [
    "#### Ejemplo-1: puede usar un _ si no necesita el valor\n",
    "#### NB esto es una convención. En Python, se supone que no debe usar nombres que comiencen con uno _, sin embargo, puede hacerlo."
   ]
  },
  {
   "cell_type": "code",
   "execution_count": 33,
   "metadata": {
    "id": "F3SvPVAh59CL",
    "outputId": "2f8059fe-aa6a-44e9-b605-36eb3a66cc07"
   },
   "outputs": [
    {
     "name": "stdout",
     "output_type": "stream",
     "text": [
      "1\n",
      "1\n",
      "1\n",
      "1\n",
      "1\n"
     ]
    }
   ],
   "source": [
    "# Es Pythonic y se ve avanzado pero es muy simple :)\n",
    "for _ in range(5): \n",
    "    print(1)"
   ]
  },
  {
   "cell_type": "code",
   "execution_count": 34,
   "metadata": {
    "id": "AbVqyHTE59CL",
    "outputId": "ad911fe7-30c1-49a9-c122-12aa201cad99"
   },
   "outputs": [
    {
     "name": "stdout",
     "output_type": "stream",
     "text": [
      "0\n",
      "1\n",
      "2\n",
      "3\n",
      "4\n"
     ]
    }
   ],
   "source": [
    "# No tan Pythonic pero funciona \n",
    "for _ in range(5): \n",
    "    print(_)"
   ]
  },
  {
   "cell_type": "markdown",
   "metadata": {
    "id": "OWTpFpGe59CL"
   },
   "source": [
    "#### Ejemplo-2: usar un nombre que debe ser guardado"
   ]
  },
  {
   "cell_type": "code",
   "execution_count": 35,
   "metadata": {
    "id": "hmYs-wxU59CL",
    "outputId": "6f7305d9-9409-4ba7-ebda-b339e5a32a89"
   },
   "outputs": [
    {
     "name": "stdout",
     "output_type": "stream",
     "text": [
      "0\n",
      "1\n",
      "2\n",
      "3\n",
      "4\n",
      "30\n"
     ]
    }
   ],
   "source": [
    "suma_enteros = 0\n",
    "for i in range(5):\n",
    "    print(i)\n",
    "#suma_enteros=suma_enteros +i**2\n",
    "    suma_enteros += i**2\n",
    "print(suma_enteros)"
   ]
  },
  {
   "cell_type": "markdown",
   "metadata": {
    "id": "QaOxGW8t59CL"
   },
   "source": [
    "### For-loop iterando sobre un objeto enumerado\n",
    "#### Un objeto de enumeración crea un índice para los elementos en una secuencia\n",
    "#### Algunas secuencias como conjuntos y diccionarios no tienen un índice numérico pero desea usar un índice\n",
    "#### A veces desea comenzar el índice con un número diferente, p. 1\n",
    "#### El objeto de enumeración necesita dos parámetros, una secuencia y un índice inicial, cuyo valor predeterminado es 0"
   ]
  },
  {
   "cell_type": "code",
   "execution_count": 36,
   "metadata": {
    "id": "EuwEj1pX59CL",
    "outputId": "2277476a-9a90-4641-c485-3a5d2b984480",
    "scrolled": true
   },
   "outputs": [
    {
     "name": "stdout",
     "output_type": "stream",
     "text": [
      "index is 0, digit is 1\n",
      "index is 1, digit is 2\n",
      "index is 2, digit is 3\n",
      "index is 3, digit is 2\n"
     ]
    }
   ],
   "source": [
    "for índice, letra in enumerate([1, 2, 3, 2]) :\n",
    "    print(f\"index is {índice}, digit is {letra}\")"
   ]
  },
  {
   "cell_type": "code",
   "execution_count": 37,
   "metadata": {
    "id": "v1FOBk8N59CL",
    "outputId": "5417f747-8c0e-4938-b28e-e2f8e1545c70",
    "scrolled": true
   },
   "outputs": [
    {
     "name": "stdout",
     "output_type": "stream",
     "text": [
      "index is 1, digit is 1\n",
      "index is 2, digit is 2\n",
      "index is 3, digit is 3\n",
      "index is 4, digit is 2\n"
     ]
    }
   ],
   "source": [
    "for index, digit in enumerate((1, 2, 3, 2), 1):\n",
    "    print(f\"index is {index}, digit is {digit}\")"
   ]
  },
  {
   "cell_type": "code",
   "execution_count": 38,
   "metadata": {
    "id": "QB1vfkZs59CM",
    "outputId": "b02498a6-fdeb-4168-93ec-5c1a11e8fe27",
    "scrolled": true
   },
   "outputs": [
    {
     "name": "stdout",
     "output_type": "stream",
     "text": [
      "index is 2, digit is 1\n",
      "index is 3, digit is 2\n",
      "index is 4, digit is 3\n"
     ]
    }
   ],
   "source": [
    "for index, digit in enumerate({1, 2, 3, 2}, 2):\n",
    "    print(f\"index is {index}, digit is {digit}\")"
   ]
  },
  {
   "cell_type": "code",
   "execution_count": 39,
   "metadata": {
    "id": "lGTYJEvi59CM",
    "outputId": "a6160750-9fe8-4092-d4a4-8433899b6b02",
    "scrolled": true
   },
   "outputs": [
    {
     "name": "stdout",
     "output_type": "stream",
     "text": [
      "index is 3, letter is a\n",
      "index is 4, letter is b\n",
      "index is 5, letter is c\n",
      "index is 6, letter is d\n",
      "index is 7, letter is e\n"
     ]
    }
   ],
   "source": [
    "for index, letter in enumerate('abcde', 3):\n",
    "    print(f\"index is {index}, letter is {letter}\")"
   ]
  },
  {
   "cell_type": "markdown",
   "metadata": {
    "id": "m_2O5Tjk59CM"
   },
   "source": [
    "### For-loop iterando sobre un objeto zip \n",
    "#### Un objeto tiene dos o mas objetos juntos"
   ]
  },
  {
   "cell_type": "code",
   "execution_count": 40,
   "metadata": {
    "id": "Zl83oJb359CM",
    "outputId": "1dea9406-34c4-43ff-f8f5-6d4447030c25",
    "scrolled": true
   },
   "outputs": [
    {
     "name": "stdout",
     "output_type": "stream",
     "text": [
      "digit is 1,  letter is a\n",
      "digit is 2,  letter is b\n",
      "digit is 3,  letter is c\n"
     ]
    }
   ],
   "source": [
    "for digit,  letter in zip([1, 2, 3], ['a', 'b', 'c']) :\n",
    "    print(f\"digit is {digit},  letter is {letter}\")"
   ]
  },
  {
   "cell_type": "markdown",
   "metadata": {
    "id": "fYhreu_m59CM"
   },
   "source": [
    "#### Entonces puede comprimir dos listas juntas, pero en realidad puede comprimir todo tipo de secuencias juntas. Tenga en cuenta que si una de las secuencias es un diccionario, comprima las claves y no los valores"
   ]
  },
  {
   "cell_type": "code",
   "execution_count": 41,
   "metadata": {
    "id": "D66FqRV259CM",
    "outputId": "34791e95-75db-43a8-d0b9-61e86a8780ed",
    "scrolled": true
   },
   "outputs": [
    {
     "name": "stdout",
     "output_type": "stream",
     "text": [
      "<zip object at 0x000001F9F8C9FA80>\n",
      "[(1, 'a'), (2, 'b'), (3, 'c')]\n"
     ]
    }
   ],
   "source": [
    "digits_and_letters = zip([1, 2, 3], ['a', 'b', 'c'])\n",
    "print(digits_and_letters)\n",
    "print(list(digits_and_letters))"
   ]
  },
  {
   "cell_type": "code",
   "execution_count": 42,
   "metadata": {
    "id": "kFkWdQMr59CM",
    "outputId": "68559611-5198-4d5d-b535-46f9f7cb14bd",
    "scrolled": true
   },
   "outputs": [
    {
     "name": "stdout",
     "output_type": "stream",
     "text": [
      "[(1, 'a'), (2, 'b'), (3, 'c')]\n"
     ]
    }
   ],
   "source": [
    "digits_and_letters = zip([1, 2, 3], ('a', 'b', 'c'))\n",
    "print(list(digits_and_letters))"
   ]
  },
  {
   "cell_type": "code",
   "execution_count": 43,
   "metadata": {
    "id": "b2yKbTFM59CM",
    "outputId": "ee1c59ac-589a-4c9c-ed3f-5e4bb7bfefe8",
    "scrolled": true
   },
   "outputs": [
    {
     "name": "stdout",
     "output_type": "stream",
     "text": [
      "[('1', 'c'), ('2', 'a'), ('3', 'b')]\n"
     ]
    }
   ],
   "source": [
    "digits_and_letters = zip(('1', '2', '3'), {'a', 'b', 'c'})\n",
    "print(list(digits_and_letters))"
   ]
  },
  {
   "cell_type": "code",
   "execution_count": 44,
   "metadata": {
    "id": "825hg8RT59CN",
    "outputId": "990e825b-7936-4050-ce8a-d96987d71f20",
    "scrolled": true
   },
   "outputs": [
    {
     "name": "stdout",
     "output_type": "stream",
     "text": [
      "[(1, 1), (2, 2), (3, 3)]\n"
     ]
    }
   ],
   "source": [
    "digits_and_letters = zip([1, 2, 3], {1:'a', 2:'b', 3:'c'})\n",
    "print(list(digits_and_letters))"
   ]
  },
  {
   "cell_type": "markdown",
   "metadata": {
    "id": "lHlnBVxu59CN"
   },
   "source": [
    "#### Puedes comprimir más de 2 secuencias juntas"
   ]
  },
  {
   "cell_type": "code",
   "execution_count": 45,
   "metadata": {
    "id": "tMA6WYJ259CN",
    "outputId": "60de2a5f-86f4-4fec-9f3c-4cc80c43de0c",
    "scrolled": true
   },
   "outputs": [
    {
     "name": "stdout",
     "output_type": "stream",
     "text": [
      "[(1, 'a', 'g'), (2, 'b', 'h'), (3, 'c', 'i')]\n"
     ]
    }
   ],
   "source": [
    "digits_and_letters = zip([1, 2, 3], ('a', 'b', 'c'), 'ghi')\n",
    "print(list(digits_and_letters))"
   ]
  },
  {
   "cell_type": "markdown",
   "metadata": {
    "id": "BXMgguWF59CN"
   },
   "source": [
    "#### Cuando desea comprimir secuencias de diferentes longitudes, el contenedor con la longitud más corta decide el resultado"
   ]
  },
  {
   "cell_type": "code",
   "execution_count": 46,
   "metadata": {
    "id": "lO07jamQ59CN",
    "outputId": "7b75c5fe-d18c-42ef-f1aa-58c6825e66c7",
    "scrolled": true
   },
   "outputs": [
    {
     "name": "stdout",
     "output_type": "stream",
     "text": [
      "[(1, 'a'), (2, 'b'), (3, 'c')]\n"
     ]
    }
   ],
   "source": [
    "digits_and_letters = zip([1,2,3,4,5,6,7,8,9,10], 'abc')\n",
    "print(list(digits_and_letters))"
   ]
  },
  {
   "cell_type": "markdown",
   "metadata": {
    "id": "IXKIpOG759CN"
   },
   "source": [
    "## While-loop"
   ]
  },
  {
   "cell_type": "markdown",
   "metadata": {
    "id": "vZ6DRkkB59CN"
   },
   "source": [
    "#### Sintaxis\n",
    "```python\n",
    "while <condition-1>:\n",
    "    <statement-1>\n",
    "    <statement-2>\n",
    "    ...\n",
    "else:                   \n",
    "    <statement-3>     \n",
    "    <statement-3>    \n",
    "    ...\n",
    "\n",
    "```"
   ]
  },
  {
   "cell_type": "markdown",
   "metadata": {
    "id": "y0mwZ-du59CN"
   },
   "source": [
    "### El while-loop es el bucle más simple implementado en Python. En estos días, los programadores usan principalmente bucles for-loop, ya que los bucles for-loop son más potentes que los bucles while-loop. Sin embargo, algunas tareas se realizan mejor con un bucle while-loop\n",
    "### En realidad, podría reemplazar todos los bucles for-loops por bucles while-loop, al revés no es posible"
   ]
  },
  {
   "cell_type": "markdown",
   "metadata": {
    "id": "-m7ZPcGd59CN"
   },
   "source": [
    "#### Ejemplos"
   ]
  },
  {
   "cell_type": "code",
   "execution_count": 47,
   "metadata": {
    "id": "A4eZm6JH59CN",
    "outputId": "573005b3-b91c-4d70-c3ad-7827aa812671"
   },
   "outputs": [
    {
     "name": "stdout",
     "output_type": "stream",
     "text": [
      "['a', 'b', 'c', 'd']\n",
      "['b', 'c', 'd']\n",
      "1\n",
      "['b', 'c', 'd']\n",
      "['c', 'd']\n",
      "1\n",
      "['c', 'd']\n",
      "['d']\n",
      "1\n",
      "['d']\n",
      "[]\n",
      "1\n"
     ]
    }
   ],
   "source": [
    "list_1 = ['a', 'b', 'c', 'd']\n",
    "\n",
    "\n",
    "while list_1:\n",
    "    print(list_1)\n",
    "    list_1.pop(0)\n",
    "    print(list_1)\n",
    "    #letter = list_1.pop(0)\n",
    "    \n",
    "    print('1')"
   ]
  },
  {
   "cell_type": "code",
   "execution_count": 48,
   "metadata": {
    "id": "PDlscSQV59CO",
    "outputId": "6664caef-8ad7-4f88-9601-ee7cdb2cb791"
   },
   "outputs": [
    {
     "name": "stdout",
     "output_type": "stream",
     "text": [
      "a\n",
      "b\n",
      "Found it\n",
      "ready\n"
     ]
    }
   ],
   "source": [
    "list_1 = ['a', 'b', 'c', 'd']\n",
    "\n",
    "\n",
    "while list_1:\n",
    "    letter = list_1.pop(0)\n",
    "\n",
    "    # El metodo pop lo que hace es que elimina un elemento de una lista y lo imprime\n",
    "    # pop(0) para eliiminar el primer valor\n",
    "    # pop(-1) elimina el ultimo valor\n",
    "    print(letter)\n",
    "    if letter == 'b':\n",
    "        print('Found it')\n",
    "        break\n",
    "else:\n",
    "    print('Didn\\'t find it')\n",
    "print('ready')"
   ]
  },
  {
   "cell_type": "code",
   "execution_count": 49,
   "metadata": {
    "id": "rmCOF1oK59CO",
    "outputId": "1f92b480-23d4-43b4-888b-6b6d9966c9b1",
    "scrolled": true
   },
   "outputs": [
    {
     "name": "stdout",
     "output_type": "stream",
     "text": [
      "d\n",
      "c\n",
      "b\n",
      "a\n",
      "Didn't find it\n",
      "ready\n"
     ]
    }
   ],
   "source": [
    "list_1 = ['a', 'b', 'c', 'd']\n",
    "while list_1:\n",
    "    letter = list_1.pop(-1)\n",
    "    print(letter)\n",
    "    if letter == 'e':\n",
    "        print('Found it')\n",
    "        break\n",
    "else:\n",
    "    print('Didn\\'t find it')\n",
    "print('ready')"
   ]
  },
  {
   "cell_type": "code",
   "execution_count": 50,
   "metadata": {
    "id": "ZTJaSefI59CO",
    "outputId": "e78fc047-6dc3-4655-beb3-5a37db7ee78c",
    "scrolled": true
   },
   "outputs": [
    {
     "name": "stdout",
     "output_type": "stream",
     "text": [
      "a\n",
      "b\n",
      "c\n",
      "d\n"
     ]
    }
   ],
   "source": [
    "list_1 = ['a', 'b', 'c', 'd']\n",
    "while list_1:\n",
    "    letter = list_1.pop(0)  \n",
    "    print(letter)"
   ]
  },
  {
   "cell_type": "code",
   "execution_count": 51,
   "metadata": {
    "id": "UYj8Aaf459CO",
    "outputId": "fe0e5478-dbb9-4c30-cdef-90f4b0ae478b",
    "scrolled": true
   },
   "outputs": [
    {
     "name": "stdout",
     "output_type": "stream",
     "text": [
      "d\n",
      "c\n",
      "b\n",
      "a\n"
     ]
    }
   ],
   "source": [
    "list_1 = ['a', 'b', 'c', 'd']\n",
    "while list_1:\n",
    "    letter = list_1.pop(-1)  \n",
    "    print(letter)"
   ]
  },
  {
   "cell_type": "code",
   "execution_count": 52,
   "metadata": {
    "id": "v4iwQsNH59CO",
    "scrolled": true
   },
   "outputs": [
    {
     "name": "stdout",
     "output_type": "stream",
     "text": [
      "d\n",
      "c\n",
      "b\n",
      "a\n"
     ]
    }
   ],
   "source": [
    "list_1 = ['a', 'b', 'c', 'd']\n",
    "while list_1:\n",
    "    letter = list_1.pop(-1)  \n",
    "    print(letter)"
   ]
  },
  {
   "cell_type": "code",
   "execution_count": 53,
   "metadata": {
    "id": "VpTY5SZr59CO"
   },
   "outputs": [
    {
     "name": "stdout",
     "output_type": "stream",
     "text": [
      "qué edad tienes?22\n",
      "mayor de edad\n"
     ]
    }
   ],
   "source": [
    "edad = input(\"qué edad tienes?\")\n",
    "if int(edad)>18 :\n",
    "    print(\"mayor de edad\")\n",
    "#La variable se cambia a un entero (int)"
   ]
  },
  {
   "cell_type": "markdown",
   "metadata": {
    "id": "rGU6Jfiw59CO"
   },
   "source": [
    "#### Si bien la mayoría de los ejemplos anteriores también se pueden realizar fácilmente con un for-loop, el siguiente se realiza más fácilmente con un while-loop. Esta es una forma estándar en Python de probar la entrada proporcionada por el usuario."
   ]
  },
  {
   "cell_type": "code",
   "execution_count": 54,
   "metadata": {
    "id": "zIIdV5BI59CO",
    "scrolled": true
   },
   "outputs": [
    {
     "name": "stdout",
     "output_type": "stream",
     "text": [
      "What is your name?Daniela\n",
      "Your name is Daniela\n"
     ]
    }
   ],
   "source": [
    "while True:\n",
    "    name = input('What is your name?')\n",
    "    if name != '' and name.isalpha():\n",
    "        break\n",
    "print(f\"Your name is {name}\")         "
   ]
  },
  {
   "cell_type": "markdown",
   "metadata": {
    "id": "oarpQ6G-59CP"
   },
   "source": [
    "#### Al igual que con un for-loop, puede usar la instrucción continuar y romper en un while-loop. Hay una cosa complicada cuando se usa continuar dentro de un while-loop. El bucle se ejecutará sin probar la condición. Puedes verlo por ti mismo en el siguiente ejemplo. Antes de hacer eso, guarde su cuaderno haciendo clic en el primer icono en la tercera fila del cuaderno. Como la condición nunca se probará, creó un bucle infinito. Verá aparecer un asterisco a la izquierda del programa. Para salir del bucle, seleccione Kernel en el menú, seleccione Reiniciar, confirme el reinicio y debería estar listo para comenzar.\n",
    "#### No es una mala idea probar esto. Cada programador entrará en un bucle infinito de vez en cuando, así que es mejor que sepas qué hacer"
   ]
  },
  {
   "cell_type": "code",
   "execution_count": 55,
   "metadata": {
    "id": "3RCHVMcj59CP"
   },
   "outputs": [
    {
     "ename": "KeyboardInterrupt",
     "evalue": "",
     "output_type": "error",
     "traceback": [
      "\u001b[1;31m---------------------------------------------------------------------------\u001b[0m",
      "\u001b[1;31mKeyboardInterrupt\u001b[0m                         Traceback (most recent call last)",
      "Input \u001b[1;32mIn [55]\u001b[0m, in \u001b[0;36m<cell line: 2>\u001b[1;34m()\u001b[0m\n\u001b[0;32m      1\u001b[0m a \u001b[38;5;241m=\u001b[39m \u001b[38;5;241m1\u001b[39m\n\u001b[1;32m----> 2\u001b[0m \u001b[38;5;28;01mwhile\u001b[39;00m \u001b[43ma\u001b[49m \u001b[38;5;241m<\u001b[39m \u001b[38;5;241m12\u001b[39m:\n\u001b[0;32m      3\u001b[0m     \u001b[38;5;28;01mcontinue\u001b[39;00m\n\u001b[0;32m      4\u001b[0m     a \u001b[38;5;241m+\u001b[39m\u001b[38;5;241m=\u001b[39m \u001b[38;5;241m1\u001b[39m\n",
      "\u001b[1;31mKeyboardInterrupt\u001b[0m: "
     ]
    }
   ],
   "source": [
    "a = 1\n",
    "while a < 12:\n",
    "    continue\n",
    "    a += 1"
   ]
  },
  {
   "cell_type": "markdown",
   "metadata": {
    "id": "JMFqeakk59CP"
   },
   "source": [
    "## Atajos"
   ]
  },
  {
   "cell_type": "markdown",
   "metadata": {
    "id": "LiZhW2Mo59CP"
   },
   "source": [
    "### Conditional expressions"
   ]
  },
  {
   "cell_type": "markdown",
   "metadata": {
    "id": "2vVIODpk59CP"
   },
   "source": [
    "#### Sinatxis de condicionales\n",
    "```python\n",
    "<expression-1> if <condition> else <expression-2>\n",
    "\n",
    "```"
   ]
  },
  {
   "cell_type": "markdown",
   "metadata": {
    "id": "3TNzxpLq59CP"
   },
   "source": [
    "#### Este condicional"
   ]
  },
  {
   "cell_type": "code",
   "execution_count": 56,
   "metadata": {
    "id": "-WyeSsBW59CP",
    "outputId": "3f98fbfe-d4c6-40a3-fea0-f98b9ed4b63e"
   },
   "outputs": [
    {
     "name": "stdout",
     "output_type": "stream",
     "text": [
      "High\n"
     ]
    }
   ],
   "source": [
    "integer_1 = 3\n",
    "if integer_1 > 2:\n",
    "    result = \"High\"\n",
    "else:\n",
    "    result = \"list_1ow\"\n",
    "print(result)    "
   ]
  },
  {
   "cell_type": "markdown",
   "metadata": {
    "id": "7D-Btuam59CP"
   },
   "source": [
    "#### puede ser reemplazado por"
   ]
  },
  {
   "cell_type": "code",
   "execution_count": 57,
   "metadata": {
    "id": "ICdoeaOR59CP"
   },
   "outputs": [
    {
     "name": "stdout",
     "output_type": "stream",
     "text": [
      "High\n"
     ]
    }
   ],
   "source": [
    "integer_1 = 3\n",
    "result  =  \"High\" if integer_1 > 2 else \"Low\"\n",
    "print(result) "
   ]
  },
  {
   "cell_type": "markdown",
   "metadata": {
    "id": "-UhMWkPO59CP"
   },
   "source": [
    "#### o por esto"
   ]
  },
  {
   "cell_type": "code",
   "execution_count": 58,
   "metadata": {
    "id": "pDFOBSGi59CP"
   },
   "outputs": [
    {
     "name": "stdout",
     "output_type": "stream",
     "text": [
      "Low\n"
     ]
    }
   ],
   "source": [
    "integer_1 = 0\n",
    "print(\"High\" if integer_1 > 2 else \"Low\")"
   ]
  },
  {
   "cell_type": "markdown",
   "metadata": {
    "id": "5J8ZaCmx59CQ"
   },
   "source": [
    "### Listas y otras comprensiones"
   ]
  },
  {
   "cell_type": "markdown",
   "metadata": {
    "id": "B8pXt2wJ59CQ"
   },
   "source": [
    "#### Sintaxis de comprensiones\n",
    "```python\n",
    "[<expression> for <variable> in <list> if <condition>] # comprensino de lista\n",
    "{<expression-1>:<expression-2> for <variable> in <list> if <condition>} # comprension para diccionario\n",
    "{<expression> for <variable> in <list> if <condition>} # comprension para set \n",
    "(<expression> for <variable> in <list> if <condition>) \n",
    "# la clausula if no es necesaria \n",
    "```"
   ]
  },
  {
   "cell_type": "markdown",
   "metadata": {
    "id": "xZ3Ra0ei59CQ"
   },
   "source": [
    "#### This for-loop"
   ]
  },
  {
   "cell_type": "code",
   "execution_count": 59,
   "metadata": {
    "id": "wdLnM3LA59CQ"
   },
   "outputs": [
    {
     "name": "stdout",
     "output_type": "stream",
     "text": [
      "0\n"
     ]
    }
   ],
   "source": [
    "print(2%2)"
   ]
  },
  {
   "cell_type": "code",
   "execution_count": 60,
   "metadata": {
    "id": "C1f1eLW259CQ",
    "outputId": "db9db405-c8df-4af9-d9ac-97f05229bc38"
   },
   "outputs": [
    {
     "name": "stdout",
     "output_type": "stream",
     "text": [
      "[4, 16]\n"
     ]
    }
   ],
   "source": [
    "list_1 = [1, 2, 3, 4]\n",
    "result = []\n",
    "for n in list_1:\n",
    "    # el operador % da el residuo de una division\n",
    "    # esto es llamado el modulo 2 \n",
    "    # enronces probamos si es que n es impar\n",
    "    # n % 2 == 1 es verdadero si n es impar \n",
    "    if n % 2 == 0:\n",
    "        # agregamos el resultado a una lista\n",
    "        result.append(n**2)\n",
    "print(result)"
   ]
  },
  {
   "cell_type": "markdown",
   "metadata": {
    "id": "IbKmSB1b59CQ"
   },
   "source": [
    "#### puede ser reemplazado por una comprension de lista"
   ]
  },
  {
   "cell_type": "code",
   "execution_count": 61,
   "metadata": {
    "id": "SLDbjfEd59CQ",
    "outputId": "171ae084-f1de-49a3-a096-e9c394614b60",
    "scrolled": true
   },
   "outputs": [
    {
     "name": "stdout",
     "output_type": "stream",
     "text": [
      "[4, 16]\n"
     ]
    }
   ],
   "source": [
    "list_1 = [1, 2, 3, 4]\n",
    "result  =  [n ** 2 for n in list_1 if n % 2 == 0] # crea una lista\n",
    "print(result)"
   ]
  },
  {
   "cell_type": "markdown",
   "metadata": {
    "id": "g76wkct559CQ"
   },
   "source": [
    "#### Tambien podemos crear un diccionario de esta manera"
   ]
  },
  {
   "cell_type": "code",
   "execution_count": 62,
   "metadata": {
    "id": "JfluH8fY59CQ"
   },
   "outputs": [
    {
     "name": "stdout",
     "output_type": "stream",
     "text": [
      "{2: 4, 4: 16}\n",
      "[(2, 4), (4, 16)]\n",
      "[2, 4]\n",
      "[4, 16]\n"
     ]
    }
   ],
   "source": [
    "list_1 = [1, 2, 3, 4]\n",
    "result  =  {n:n ** 2 for n in list_1 if n % 2 == 0}\n",
    "print(result)\n",
    "# El metodo items de un diccionario da una lista de tuplas cada una con su key y su valor\n",
    "print(list(result.items()))\n",
    "# lista de keys\n",
    "print(list(result.keys()))\n",
    "# Lista de resultados\n",
    "print(list(result.values()))"
   ]
  },
  {
   "cell_type": "code",
   "execution_count": 63,
   "metadata": {
    "id": "r4nkk7Td59CR"
   },
   "outputs": [
    {
     "name": "stdout",
     "output_type": "stream",
     "text": [
      "{16, 4}\n"
     ]
    }
   ],
   "source": [
    "list_1 = [1, 2, 3, 4]\n",
    "result  =  {n ** 2 for n in list_1 if n % 2 == 0}\n",
    "print(result)"
   ]
  },
  {
   "cell_type": "code",
   "execution_count": 64,
   "metadata": {
    "id": "bTwtC-ee59CR",
    "outputId": "c0f6443a-2a5a-445e-8801-94f323e0e672"
   },
   "outputs": [
    {
     "name": "stdout",
     "output_type": "stream",
     "text": [
      "<generator object <genexpr> at 0x000001F9F9157190>\n"
     ]
    }
   ],
   "source": [
    "list_1 = [1, 2, 3, 4]\n",
    "result  =  (n ** 2 for n in list_1 if n % 2 == 0)\n",
    "print(result)\n",
    "# mas parecido a crear un rango "
   ]
  },
  {
   "cell_type": "code",
   "execution_count": 65,
   "metadata": {
    "id": "3WDUeue759CR",
    "outputId": "7dd73f29-5c74-4b67-dd5c-3574676728ef"
   },
   "outputs": [
    {
     "name": "stdout",
     "output_type": "stream",
     "text": [
      "4\n",
      "16\n"
     ]
    }
   ],
   "source": [
    "for x in result:\n",
    "    print(x)"
   ]
  },
  {
   "cell_type": "markdown",
   "metadata": {
    "id": "q_XL2ZTO59CR"
   },
   "source": [
    "### No hay una comprension para una tupla pero esto funciona"
   ]
  },
  {
   "cell_type": "code",
   "execution_count": 66,
   "metadata": {
    "id": "eZKRKGTa59CR"
   },
   "outputs": [
    {
     "name": "stdout",
     "output_type": "stream",
     "text": [
      "(4, 16)\n"
     ]
    }
   ],
   "source": [
    "list_1 = [1, 2, 3, 4]\n",
    "# We construct a generator object \n",
    "result  =  (n ** 2 for n in list_1 if n % 2 == 0)\n",
    "# which we convert into a tuple\n",
    "result = tuple(result)\n",
    "print(result)"
   ]
  },
  {
   "cell_type": "markdown",
   "metadata": {
    "id": "Omw_yxAF59CR"
   },
   "source": [
    "### Si quieres saber por qué no hay comprensiones de tuplas? Googlea 'comprensiones de tupla de Python'. Encontrarás como uno de los primeros resultados [https://stackoverflow.com/questions/16940293/why-is-there-no-tuple-comprehension-in-python](https://stackoverflow.com/questions/16940293 /why-is-there-no-tuple-comprehension-in-python), lea las preguntas y respuestas si está interesado y recuerda que si tienes una pregunta un poco difícil googlea, los resultados en [https://stackoverflow ](https://stackoverflow) son realmente los primeros en aparcer. "
   ]
  },
  {
   "cell_type": "markdown",
   "metadata": {
    "id": "3fPAn8Uw59CR"
   },
   "source": [
    "# Preguntas "
   ]
  },
  {
   "cell_type": "markdown",
   "metadata": {
    "id": "bvnKVG1M59CR"
   },
   "source": [
    "## 1 Programa la impresión de una tabla de multiplicar para todos los números entre 1 y 10, usando For-loops\n",
    "## Rendimiento esperado:\n",
    "     1   times  1  =    1\n",
    "     1   times  2  =    2\n",
    "     ...\n",
    "     1   times 10  =   10\n",
    "     ...\n",
    "    10   times 10  =  100  "
   ]
  },
  {
   "cell_type": "code",
   "execution_count": 1,
   "metadata": {},
   "outputs": [
    {
     "name": "stdout",
     "output_type": "stream",
     "text": [
      "Introduce un número1\n",
      "1 X 1 = 1\n",
      "1 X 2 = 2\n",
      "1 X 3 = 3\n",
      "1 X 4 = 4\n",
      "1 X 5 = 5\n",
      "1 X 6 = 6\n",
      "1 X 7 = 7\n",
      "1 X 8 = 8\n",
      "1 X 9 = 9\n",
      "1 X 10 = 10\n"
     ]
    }
   ],
   "source": [
    "numero=int(input(\"Introduce un número\"))\n",
    "for i in range(1,11):\n",
    "    Resultado = i * numero\n",
    "    print(numero, \"X\", i,\"=\",Resultado)\n"
   ]
  },
  {
   "cell_type": "markdown",
   "metadata": {
    "id": "JdjYmKIF59CS"
   },
   "source": [
    "## 2 Programe un calendario (para todos los meses) para 2020 usando For-loops\n",
    "## Rendimiento esperado:\n",
    "     January                     \n",
    "     Mon Tue Wed Thu Fri Sat Sun  \n",
    "              1   2   3   4   5\n",
    "      6   7   8   9  10  11  12\n",
    "     13  14  15  16  17  18  19\n",
    "     20  21  22  23  24  25  26\n",
    "     27  28  29  30  31\n",
    "     \n",
    "     February\n",
    "     Mon Tue Wed Thu Fri Sat Sun\n",
    "                           1   2"
   ]
  },
  {
   "cell_type": "code",
   "execution_count": 73,
   "metadata": {},
   "outputs": [
    {
     "name": "stdout",
     "output_type": "stream",
     "text": [
      "Año: 2020\n",
      "    January 2020\n",
      "Mo Tu We Th Fr Sa Su\n",
      "       1  2  3  4  5\n",
      " 6  7  8  9 10 11 12\n",
      "13 14 15 16 17 18 19\n",
      "20 21 22 23 24 25 26\n",
      "27 28 29 30 31\n",
      "\n",
      "   February 2020\n",
      "Mo Tu We Th Fr Sa Su\n",
      "                1  2\n",
      " 3  4  5  6  7  8  9\n",
      "10 11 12 13 14 15 16\n",
      "17 18 19 20 21 22 23\n",
      "24 25 26 27 28 29\n",
      "\n",
      "     March 2020\n",
      "Mo Tu We Th Fr Sa Su\n",
      "                   1\n",
      " 2  3  4  5  6  7  8\n",
      " 9 10 11 12 13 14 15\n",
      "16 17 18 19 20 21 22\n",
      "23 24 25 26 27 28 29\n",
      "30 31\n",
      "\n",
      "     April 2020\n",
      "Mo Tu We Th Fr Sa Su\n",
      "       1  2  3  4  5\n",
      " 6  7  8  9 10 11 12\n",
      "13 14 15 16 17 18 19\n",
      "20 21 22 23 24 25 26\n",
      "27 28 29 30\n",
      "\n",
      "      May 2020\n",
      "Mo Tu We Th Fr Sa Su\n",
      "             1  2  3\n",
      " 4  5  6  7  8  9 10\n",
      "11 12 13 14 15 16 17\n",
      "18 19 20 21 22 23 24\n",
      "25 26 27 28 29 30 31\n",
      "\n",
      "     June 2020\n",
      "Mo Tu We Th Fr Sa Su\n",
      " 1  2  3  4  5  6  7\n",
      " 8  9 10 11 12 13 14\n",
      "15 16 17 18 19 20 21\n",
      "22 23 24 25 26 27 28\n",
      "29 30\n",
      "\n",
      "     July 2020\n",
      "Mo Tu We Th Fr Sa Su\n",
      "       1  2  3  4  5\n",
      " 6  7  8  9 10 11 12\n",
      "13 14 15 16 17 18 19\n",
      "20 21 22 23 24 25 26\n",
      "27 28 29 30 31\n",
      "\n",
      "    August 2020\n",
      "Mo Tu We Th Fr Sa Su\n",
      "                1  2\n",
      " 3  4  5  6  7  8  9\n",
      "10 11 12 13 14 15 16\n",
      "17 18 19 20 21 22 23\n",
      "24 25 26 27 28 29 30\n",
      "31\n",
      "\n",
      "   September 2020\n",
      "Mo Tu We Th Fr Sa Su\n",
      "    1  2  3  4  5  6\n",
      " 7  8  9 10 11 12 13\n",
      "14 15 16 17 18 19 20\n",
      "21 22 23 24 25 26 27\n",
      "28 29 30\n",
      "\n",
      "    October 2020\n",
      "Mo Tu We Th Fr Sa Su\n",
      "          1  2  3  4\n",
      " 5  6  7  8  9 10 11\n",
      "12 13 14 15 16 17 18\n",
      "19 20 21 22 23 24 25\n",
      "26 27 28 29 30 31\n",
      "\n",
      "   November 2020\n",
      "Mo Tu We Th Fr Sa Su\n",
      "                   1\n",
      " 2  3  4  5  6  7  8\n",
      " 9 10 11 12 13 14 15\n",
      "16 17 18 19 20 21 22\n",
      "23 24 25 26 27 28 29\n",
      "30\n",
      "\n",
      "   December 2020\n",
      "Mo Tu We Th Fr Sa Su\n",
      "    1  2  3  4  5  6\n",
      " 7  8  9 10 11 12 13\n",
      "14 15 16 17 18 19 20\n",
      "21 22 23 24 25 26 27\n",
      "28 29 30 31\n",
      "\n"
     ]
    }
   ],
   "source": [
    "import calendar\n",
    "year = int(input(\"Año: \"))\n",
    "for i in range(1,13):\n",
    "    print(calendar.month(year, i))"
   ]
  },
  {
   "cell_type": "markdown",
   "metadata": {
    "id": "fzUI4t9z59CS"
   },
   "source": [
    "## 3 Programe la siguiente regulación fiscal, usando datos ficticios con declaraciones condicionales, use las tres cláusulas (if, elif, else) al menos una vez\n",
    "Si el valor del paquete es inferior a 20 no tienes que pagar ningún impuesto de importación\n",
    "Si el valor del paquete está entre 20 y 30 pagas 10% de impuesto de importación sobre el valor total\n",
    "Si el valor del paquete está entre 30 y 60, paga un impuesto de importación adicional del 7% sobre el valor superior a 30\n",
    "Si el valor del paquete es superior a 60, paga un impuesto de importación adicional del 3% sobre el valor superior a 60\n",
    "\n",
    "Si el valor del paquete es superior a 10 pagas el 20% de IVA sobre la suma total del valor e impuesto de importación\n",
    "\n",
    "El valor del paquete debe establecerse en una variable y debe probar si su programa funciona para diferentes valores.\n",
    "### Salida esperada (ejemplo):\n",
    "El valor del paquete fue de 25,00, el impuesto de importación es de 2,50, el IVA es de 5,50, el total es de 33,00."
   ]
  },
  {
   "cell_type": "code",
   "execution_count": 8,
   "metadata": {},
   "outputs": [
    {
     "name": "stdout",
     "output_type": "stream",
     "text": [
      "El valor del paquete es 25 .El impuesto de importación es de 2.5 .El IVA es de 5.5 .Por lo tanto, el total es de 33.0\n"
     ]
    }
   ],
   "source": [
    "valor_paquete=25\n",
    "\n",
    "if valor_paquete<20:\n",
    "    print(\"El valor del paquete es\", valor_paquete, \"por lo que, no tiene que pagar el impuesto de importación.\", \"Por lo tanto, el total es de\", valor_paquete)\n",
    "    \n",
    "elif valor_paquete>=20 and valor_paquete<=30:\n",
    "    impuesto_importacion=valor_paquete*0.10\n",
    "    valor_total=valor_paquete+impuesto_importacion\n",
    "    iva=(valor_total*0.20)\n",
    "    print(\"El valor del paquete es\", valor_paquete, \".El impuesto de importación es de\", impuesto_importacion, \".El IVA es de\", iva, \".Por lo tanto, el total es de\", (valor_total+iva))\n",
    "    \n",
    "elif valor_paquete>=30 and valor_paquete<=60:\n",
    "    impuesto_importacion=valor_paquete*0.07\n",
    "    valor_total=valor_paquete+impuesto_importacion\n",
    "    iva=(valor_total*0.20)\n",
    "    print(\"El valor del paquete es\", valor_paquete, \".El impuesto de importación es de\", impuesto_importacion, \".El IVA es de\", iva, \".Por lo tanto, el total es de\", (valor_total+iva))\n",
    "    \n",
    "elif valor_paquete>60:\n",
    "    impuesto_importacion=valor_paquete*0.03\n",
    "    valor_total=valor_paquete+impuesto_importacion\n",
    "    iva=(valor_total*0.20)\n",
    "    print(\"El valor del paquete es\", valor_paquete, \".El impuesto de importación es de\", impuesto_importacion, \".El IVA es de\", iva, \".Por lo tanto, el total es de\", (valor_total+iva))"
   ]
  },
  {
   "cell_type": "markdown",
   "metadata": {
    "id": "WHRfaDr759CS"
   },
   "source": [
    "## 4 Reescribe el siguiente programa reemplazando la declaración condicional con expresiones condicionales"
   ]
  },
  {
   "cell_type": "code",
   "execution_count": 74,
   "metadata": {
    "id": "vES83U_l59CS"
   },
   "outputs": [
    {
     "name": "stdout",
     "output_type": "stream",
     "text": [
      "<= 1\n"
     ]
    }
   ],
   "source": [
    "a = -1\n",
    "if a == 0:\n",
    "    result = \"= 0\"\n",
    "elif a>1:\n",
    "    result = \"> 1\"\n",
    "else:\n",
    "    result = \"<= 1\"\n",
    "print(result)    "
   ]
  },
  {
   "cell_type": "code",
   "execution_count": 76,
   "metadata": {},
   "outputs": [
    {
     "name": "stdout",
     "output_type": "stream",
     "text": [
      "<=1\n"
     ]
    }
   ],
   "source": [
    "a=-1\n",
    "print(\"=0\" if a==0 else \"<=1\" )"
   ]
  },
  {
   "cell_type": "markdown",
   "metadata": {
    "id": "nQwDPWc859CS"
   },
   "source": [
    "## 5 Reescriba el siguiente programa reemplazando la lista de comprensión con un while-loop"
   ]
  },
  {
   "cell_type": "code",
   "execution_count": 77,
   "metadata": {
    "id": "IBSPA05N59CS"
   },
   "outputs": [
    {
     "name": "stdout",
     "output_type": "stream",
     "text": [
      "[4, 16]\n"
     ]
    }
   ],
   "source": [
    "list_1 = [1, 2, 3, 4]\n",
    "result  =  [digit ** 2 for digit in list_1 if digit % 2 == 0]\n",
    "print(result)"
   ]
  },
  {
   "cell_type": "code",
   "execution_count": 9,
   "metadata": {},
   "outputs": [
    {
     "name": "stdout",
     "output_type": "stream",
     "text": [
      "[4, 16]\n"
     ]
    }
   ],
   "source": [
    "list_1 = [1,2,3,4]\n",
    "while  list_1:\n",
    "    result=[digit ** 2 for digit in list_1 if digit % 2 == 0]\n",
    "    print(result)\n",
    "    break"
   ]
  },
  {
   "cell_type": "markdown",
   "metadata": {
    "id": "T77hmziG59CS"
   },
   "source": [
    "## 6 En la clase 1 te mostramos las siguientes afirmaciones:"
   ]
  },
  {
   "cell_type": "code",
   "execution_count": 78,
   "metadata": {
    "id": "wXAB0sgq59CS",
    "outputId": "f06df5a5-d874-4674-faf0-b81087d54375"
   },
   "outputs": [
    {
     "name": "stdout",
     "output_type": "stream",
     "text": [
      "True\n",
      "False\n"
     ]
    }
   ],
   "source": [
    "a = 1\n",
    "b = 1\n",
    "print(a is b)\n",
    "\n",
    "a = 1000\n",
    "b = 1000\n",
    "print(a is b)"
   ]
  },
  {
   "cell_type": "markdown",
   "metadata": {
    "id": "9lnJcH3L59CT"
   },
   "source": [
    "Y, por supuesto, tienes curiosidad por la diferencia. Aprendimos en la clase 1 que los números enteros -5 hasta 255 fueron internados (guardados en disco) cuando comenzó Python, esto significa que los objetos con estos valores ya estaban creados. Ahora deseaamos escribir un programa que nos diga que 256 es de hecho el primer número entero que Python no esta guardado en disco.\n",
    "\n",
    "Escrbimos el siguiente programa y ahora necsitamos explicar por qué este programa imprimirá \"Sorpresa\". ¿No debería romperse mientras se procesa el número entero 256, ya que ese número no está guardado internamente?"
   ]
  },
  {
   "cell_type": "code",
   "execution_count": 79,
   "metadata": {
    "id": "K6KUzPu659CT",
    "outputId": "5864c1ef-abbf-4d91-b6f0-7e0e08754061"
   },
   "outputs": [
    {
     "name": "stdout",
     "output_type": "stream",
     "text": [
      "Surprise\n"
     ]
    }
   ],
   "source": [
    "for x in range(1000):\n",
    "    a = x\n",
    "    b = x\n",
    "    if not (a is b):\n",
    "        print(f\"the highest integer {x-1}\")\n",
    "        break\n",
    "else:\n",
    "    print(\"Surprise\")"
   ]
  },
  {
   "cell_type": "markdown",
   "metadata": {
    "id": "0Rq6d6NQ59CT"
   },
   "source": [
    "## 7 Vuelva a escribir la siguiente declaración sin un bucle y solo usando declaraciones condicionales:"
   ]
  },
  {
   "cell_type": "code",
   "execution_count": 80,
   "metadata": {
    "id": "0oPEZMZE59CT"
   },
   "outputs": [
    {
     "name": "stdout",
     "output_type": "stream",
     "text": [
      "1\n",
      "2\n",
      "3\n"
     ]
    }
   ],
   "source": [
    "i = 1\n",
    "while i < 4:\n",
    "    print(i)\n",
    "    i +=1"
   ]
  },
  {
   "cell_type": "code",
   "execution_count": 81,
   "metadata": {},
   "outputs": [
    {
     "name": "stdout",
     "output_type": "stream",
     "text": [
      "1\n",
      "2\n",
      "3\n"
     ]
    }
   ],
   "source": [
    "i=1\n",
    "if i<4:\n",
    "    print(i)\n",
    "    i+=1\n",
    "    \n",
    "if i<=4:\n",
    "    print(i)\n",
    "    i+=1\n",
    "    \n",
    "if i<=4:\n",
    "    print(i)\n",
    "    i+=1\n",
    "        \n",
    "    "
   ]
  }
 ],
 "metadata": {
  "colab": {
   "collapsed_sections": [
    "RfUUxQ-s59CG",
    "g8Fvpw0W59CH",
    "E3OO8MrW59CH",
    "FOXqs4yG59CH",
    "I-PlE2RZ59CI",
    "6vZqVKwg59CI",
    "lpcLOv2O59CI",
    "nkr-0q7159CI",
    "2ONGVgc159CI",
    "AFZNhbUn59CJ",
    "yLjrnKD159CK",
    "TErD-iyB59CK",
    "AbKu2r5959CK",
    "acZzC9wk59CL",
    "Lus_uKli59CL",
    "OWTpFpGe59CL",
    "QaOxGW8t59CL",
    "m_2O5Tjk59CM",
    "fYhreu_m59CM",
    "lHlnBVxu59CN",
    "BXMgguWF59CN",
    "vZ6DRkkB59CN",
    "y0mwZ-du59CN",
    "-m7ZPcGd59CN",
    "rGU6Jfiw59CO",
    "oarpQ6G-59CP",
    "LiZhW2Mo59CP",
    "2vVIODpk59CP",
    "3TNzxpLq59CP",
    "7D-Btuam59CP",
    "-UhMWkPO59CP",
    "5J8ZaCmx59CQ",
    "B8pXt2wJ59CQ",
    "xZ3Ra0ei59CQ",
    "IbKmSB1b59CQ",
    "g76wkct559CQ",
    "q_XL2ZTO59CR",
    "Omw_yxAF59CR"
   ],
   "name": "clase 2 (1).ipynb",
   "provenance": []
  },
  "kernelspec": {
   "display_name": "Python 3 (ipykernel)",
   "language": "python",
   "name": "python3"
  },
  "language_info": {
   "codemirror_mode": {
    "name": "ipython",
    "version": 3
   },
   "file_extension": ".py",
   "mimetype": "text/x-python",
   "name": "python",
   "nbconvert_exporter": "python",
   "pygments_lexer": "ipython3",
   "version": "3.9.12"
  }
 },
 "nbformat": 4,
 "nbformat_minor": 1
}
